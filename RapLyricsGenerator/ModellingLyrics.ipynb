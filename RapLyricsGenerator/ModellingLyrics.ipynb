{
 "cells": [
  {
   "cell_type": "markdown",
   "id": "39369210",
   "metadata": {
    "toc": true
   },
   "source": [
    "<h1>Table of Contents<span class=\"tocSkip\"></span></h1>\n",
    "<div class=\"toc\"><ul class=\"toc-item\"><li><span><a href=\"#Scope\" data-toc-modified-id=\"Scope-1\"><span class=\"toc-item-num\">1&nbsp;&nbsp;</span>Scope</a></span></li><li><span><a href=\"#Loading-libraries\" data-toc-modified-id=\"Loading-libraries-2\"><span class=\"toc-item-num\">2&nbsp;&nbsp;</span>Loading libraries</a></span></li></ul></div>"
   ]
  },
  {
   "cell_type": "markdown",
   "id": "7113eb55",
   "metadata": {},
   "source": [
    "### Scope\n",
    "Create and train the RNN, and create a recommender system."
   ]
  },
  {
   "cell_type": "markdown",
   "id": "8bc6f122",
   "metadata": {},
   "source": [
    "### Loading libraries"
   ]
  },
  {
   "cell_type": "code",
   "execution_count": 1,
   "id": "b4fb7985",
   "metadata": {},
   "outputs": [],
   "source": [
    "import pandas as pd\n",
    "import numpy as np"
   ]
  },
  {
   "cell_type": "code",
   "execution_count": 2,
   "id": "52c9ab6a",
   "metadata": {},
   "outputs": [],
   "source": [
    "from tensorflow.keras.preprocessing.sequence import pad_sequences\n",
    "from tensorflow.keras.layers import Embedding, LSTM, Dense, Dropout, Bidirectional, BatchNormalization, GRU\n",
    "from tensorflow.keras.preprocessing.text import Tokenizer\n",
    "from tensorflow.keras.callbacks import EarlyStopping\n",
    "from tensorflow.keras.models import Sequential\n",
    "import tensorflow.keras.utils as ku\n",
    "\n",
    "from tensorflow.keras.models import load_model\n",
    "# import string, os\n",
    "# import warnings\n",
    "# warnings.filterwarnings(\"ignore\")\n",
    "# warnings.simplefilter(action='ignore', category='FutureWarning')"
   ]
  },
  {
   "cell_type": "code",
   "execution_count": 3,
   "id": "6c091fec",
   "metadata": {},
   "outputs": [
    {
     "data": {
      "text/html": [
       "<div>\n",
       "<style scoped>\n",
       "    .dataframe tbody tr th:only-of-type {\n",
       "        vertical-align: middle;\n",
       "    }\n",
       "\n",
       "    .dataframe tbody tr th {\n",
       "        vertical-align: top;\n",
       "    }\n",
       "\n",
       "    .dataframe thead th {\n",
       "        text-align: right;\n",
       "    }\n",
       "</style>\n",
       "<table border=\"1\" class=\"dataframe\">\n",
       "  <thead>\n",
       "    <tr style=\"text-align: right;\">\n",
       "      <th></th>\n",
       "      <th>Unnamed: 0</th>\n",
       "      <th>lyrics</th>\n",
       "      <th>song</th>\n",
       "      <th>artist</th>\n",
       "    </tr>\n",
       "  </thead>\n",
       "  <tbody>\n",
       "    <tr>\n",
       "      <th>0</th>\n",
       "      <td>2</td>\n",
       "      <td>yeah when i grow up you know what i wanna be t...</td>\n",
       "      <td>\"When I Grow Up\" by NF:\\n    Yeah, when I grow...</td>\n",
       "      <td>nf</td>\n",
       "    </tr>\n",
       "    <tr>\n",
       "      <th>1</th>\n",
       "      <td>5</td>\n",
       "      <td>hey leave me alone panicstricken handle busin...</td>\n",
       "      <td>\"Leave Me Alone\" by NF:\\n    (Yeah)\\n    Hey!\\...</td>\n",
       "      <td>nf</td>\n",
       "    </tr>\n",
       "    <tr>\n",
       "      <th>2</th>\n",
       "      <td>9</td>\n",
       "      <td>i just need some time im tryna think straight ...</td>\n",
       "      <td>\"If You Want Love\" by NF:\\n    I just need som...</td>\n",
       "      <td>nf</td>\n",
       "    </tr>\n",
       "    <tr>\n",
       "      <th>3</th>\n",
       "      <td>11</td>\n",
       "      <td>how could you leave so unexpected we waited we...</td>\n",
       "      <td>\"How Could You Leave Us\" by NF:\\n    How could...</td>\n",
       "      <td>nf</td>\n",
       "    </tr>\n",
       "    <tr>\n",
       "      <th>4</th>\n",
       "      <td>12</td>\n",
       "      <td>insidious is blind inception whats reality wit...</td>\n",
       "      <td>\"Mansion\" by NF:\\n    Insidious is blind incep...</td>\n",
       "      <td>nf</td>\n",
       "    </tr>\n",
       "    <tr>\n",
       "      <th>...</th>\n",
       "      <td>...</td>\n",
       "      <td>...</td>\n",
       "      <td>...</td>\n",
       "      <td>...</td>\n",
       "    </tr>\n",
       "    <tr>\n",
       "      <th>2254</th>\n",
       "      <td>4020</td>\n",
       "      <td>who do you believe in who do you believe in i...</td>\n",
       "      <td>\"Who Do U Believe In?\" by Token:\\n    [Intro:]...</td>\n",
       "      <td>token</td>\n",
       "    </tr>\n",
       "    <tr>\n",
       "      <th>2255</th>\n",
       "      <td>4022</td>\n",
       "      <td>productive successful im taught like that girl...</td>\n",
       "      <td>\"Humble (Remix)\" by Token:\\n    Productive, su...</td>\n",
       "      <td>token</td>\n",
       "    </tr>\n",
       "    <tr>\n",
       "      <th>2256</th>\n",
       "      <td>4023</td>\n",
       "      <td>token goin in you can call the beat a slot ma...</td>\n",
       "      <td>\"Left Somethin’\" by Token:\\n    [Verse 1]\\n   ...</td>\n",
       "      <td>token</td>\n",
       "    </tr>\n",
       "    <tr>\n",
       "      <th>2257</th>\n",
       "      <td>4026</td>\n",
       "      <td>uh its summer break yeah its summer break the...</td>\n",
       "      <td>\"Summer Break\" by Token:\\n    [Intro]\\n    Uh\\...</td>\n",
       "      <td>token</td>\n",
       "    </tr>\n",
       "    <tr>\n",
       "      <th>2258</th>\n",
       "      <td>4027</td>\n",
       "      <td>kato production i dont see no competition i s...</td>\n",
       "      <td>\"Yellow Tape\" by Token:\\n    [Intro]\\n    Kato...</td>\n",
       "      <td>token</td>\n",
       "    </tr>\n",
       "  </tbody>\n",
       "</table>\n",
       "<p>2259 rows × 4 columns</p>\n",
       "</div>"
      ],
      "text/plain": [
       "      Unnamed: 0                                             lyrics  \\\n",
       "0              2  yeah when i grow up you know what i wanna be t...   \n",
       "1              5   hey leave me alone panicstricken handle busin...   \n",
       "2              9  i just need some time im tryna think straight ...   \n",
       "3             11  how could you leave so unexpected we waited we...   \n",
       "4             12  insidious is blind inception whats reality wit...   \n",
       "...          ...                                                ...   \n",
       "2254        4020   who do you believe in who do you believe in i...   \n",
       "2255        4022  productive successful im taught like that girl...   \n",
       "2256        4023   token goin in you can call the beat a slot ma...   \n",
       "2257        4026   uh its summer break yeah its summer break the...   \n",
       "2258        4027   kato production i dont see no competition i s...   \n",
       "\n",
       "                                                   song artist  \n",
       "0     \"When I Grow Up\" by NF:\\n    Yeah, when I grow...     nf  \n",
       "1     \"Leave Me Alone\" by NF:\\n    (Yeah)\\n    Hey!\\...     nf  \n",
       "2     \"If You Want Love\" by NF:\\n    I just need som...     nf  \n",
       "3     \"How Could You Leave Us\" by NF:\\n    How could...     nf  \n",
       "4     \"Mansion\" by NF:\\n    Insidious is blind incep...     nf  \n",
       "...                                                 ...    ...  \n",
       "2254  \"Who Do U Believe In?\" by Token:\\n    [Intro:]...  token  \n",
       "2255  \"Humble (Remix)\" by Token:\\n    Productive, su...  token  \n",
       "2256  \"Left Somethin’\" by Token:\\n    [Verse 1]\\n   ...  token  \n",
       "2257  \"Summer Break\" by Token:\\n    [Intro]\\n    Uh\\...  token  \n",
       "2258  \"Yellow Tape\" by Token:\\n    [Intro]\\n    Kato...  token  \n",
       "\n",
       "[2259 rows x 4 columns]"
      ]
     },
     "execution_count": 3,
     "metadata": {},
     "output_type": "execute_result"
    }
   ],
   "source": [
    "clean_lyrical_df = pd.read_csv(\"clean_lyrical_df.csv\")\n",
    "clean_lyrical_df"
   ]
  },
  {
   "cell_type": "code",
   "execution_count": 4,
   "id": "5d86b880",
   "metadata": {},
   "outputs": [
    {
     "data": {
      "text/html": [
       "<div>\n",
       "<style scoped>\n",
       "    .dataframe tbody tr th:only-of-type {\n",
       "        vertical-align: middle;\n",
       "    }\n",
       "\n",
       "    .dataframe tbody tr th {\n",
       "        vertical-align: top;\n",
       "    }\n",
       "\n",
       "    .dataframe thead th {\n",
       "        text-align: right;\n",
       "    }\n",
       "</style>\n",
       "<table border=\"1\" class=\"dataframe\">\n",
       "  <thead>\n",
       "    <tr style=\"text-align: right;\">\n",
       "      <th></th>\n",
       "      <th>lyrics</th>\n",
       "      <th>song</th>\n",
       "      <th>artist</th>\n",
       "    </tr>\n",
       "  </thead>\n",
       "  <tbody>\n",
       "    <tr>\n",
       "      <th>0</th>\n",
       "      <td>yeah when i grow up you know what i wanna be t...</td>\n",
       "      <td>\"When I Grow Up\" by NF:\\n    Yeah, when I grow...</td>\n",
       "      <td>nf</td>\n",
       "    </tr>\n",
       "    <tr>\n",
       "      <th>1</th>\n",
       "      <td>hey leave me alone panicstricken handle busin...</td>\n",
       "      <td>\"Leave Me Alone\" by NF:\\n    (Yeah)\\n    Hey!\\...</td>\n",
       "      <td>nf</td>\n",
       "    </tr>\n",
       "  </tbody>\n",
       "</table>\n",
       "</div>"
      ],
      "text/plain": [
       "                                              lyrics  \\\n",
       "0  yeah when i grow up you know what i wanna be t...   \n",
       "1   hey leave me alone panicstricken handle busin...   \n",
       "\n",
       "                                                song artist  \n",
       "0  \"When I Grow Up\" by NF:\\n    Yeah, when I grow...     nf  \n",
       "1  \"Leave Me Alone\" by NF:\\n    (Yeah)\\n    Hey!\\...     nf  "
      ]
     },
     "execution_count": 4,
     "metadata": {},
     "output_type": "execute_result"
    }
   ],
   "source": [
    "# can only be run once\n",
    "clean_lyrical_df.drop(\"Unnamed: 0\", axis=1,inplace=True)\n",
    "\n",
    "# Check\n",
    "clean_lyrical_df.head(2)"
   ]
  },
  {
   "cell_type": "code",
   "execution_count": 5,
   "id": "80a184d5",
   "metadata": {},
   "outputs": [],
   "source": [
    "clean_lyrical_df[\"lyrics\"] = clean_lyrical_df[\"lyrics\"].astype(str)"
   ]
  },
  {
   "cell_type": "code",
   "execution_count": 6,
   "id": "eb0d1787",
   "metadata": {},
   "outputs": [],
   "source": [
    "# tokenizing by work (False)\n",
    "lyrical_rap_tokenizer = Tokenizer(char_level=False, lower=True)\n",
    "lyrical_rap_tokenizer.fit_on_texts(clean_lyrical_df[\"lyrics\"])"
   ]
  },
  {
   "cell_type": "markdown",
   "id": "e2f5f73b",
   "metadata": {},
   "source": [
    "Save tokenizer"
   ]
  },
  {
   "cell_type": "code",
   "execution_count": 7,
   "id": "9b17d8e0",
   "metadata": {},
   "outputs": [],
   "source": [
    "import pickle\n",
    "# saving\n",
    "with open('lyrical_rap_tokenizer.pkl', 'wb') as handle:\n",
    "    pickle.dump(lyrical_rap_tokenizer, handle, protocol=pickle.HIGHEST_PROTOCOL)"
   ]
  },
  {
   "cell_type": "code",
   "execution_count": 8,
   "id": "4dcf745a",
   "metadata": {},
   "outputs": [
    {
     "name": "stdout",
     "output_type": "stream",
     "text": [
      "Vocabulary size: 30861\n"
     ]
    }
   ],
   "source": [
    "word_to_number = lyrical_rap_tokenizer.word_index\n",
    "number_to_word = lyrical_rap_tokenizer.index_word\n",
    "\n",
    "all_words = list(word_to_number.keys())\n",
    "\n",
    "print(f\"Vocabulary size: {len(all_words)}\")"
   ]
  },
  {
   "cell_type": "markdown",
   "id": "6f1c614e",
   "metadata": {},
   "source": [
    "Sliding window length"
   ]
  },
  {
   "cell_type": "code",
   "execution_count": 9,
   "id": "379836c7",
   "metadata": {},
   "outputs": [],
   "source": [
    "dataset = lyrical_rap_tokenizer.texts_to_sequences(clean_lyrical_df[\"lyrics\"])"
   ]
  },
  {
   "cell_type": "code",
   "execution_count": 10,
   "id": "8c680796",
   "metadata": {},
   "outputs": [
    {
     "name": "stdout",
     "output_type": "stream",
     "text": [
      "[51, 38, 2, 742, 19, 3, 27, 34, 2, 64, 29, 82, 4, 841, 75, 10, 84, 3, 7, 2557, 462, 2, 64, 155, 51, 2, 27, 33, 167, 6, 266, 5, 2, 43, 84, 117, 501, 498, 2, 143, 55, 8205, 25, 11, 321, 16, 8, 2, 1507, 1, 958, 108, 1069, 178, 76, 1656, 13, 68, 106, 29, 122, 2627, 2, 396, 3, 100, 4144, 174, 3, 24, 6, 17, 565, 25, 2, 76, 558, 22, 4, 184, 30, 35, 289, 22, 10, 1603, 2, 27, 21, 1735, 826, 142, 7370, 5, 1604, 2, 203, 57, 151, 54, 4, 1289, 25, 12, 20, 54, 4, 1289, 169, 80, 6, 1684, 8, 178, 76, 13283, 1562, 3, 35, 100, 29, 4, 17768, 6, 46, 1, 2558, 35, 13284, 22, 10, 2, 81, 436, 222, 33, 628, 59, 2, 14, 8, 6, 29, 1, 5355, 51, 3, 1735, 102, 3, 27, 34, 2, 209, 25, 34, 11, 402, 18, 30, 151, 659, 10, 11, 145, 1409, 51, 2, 113, 47, 6, 1138, 24, 9, 2497, 14, 229, 549, 3387, 5, 1735, 24, 4, 518, 12, 823, 339, 1, 1290, 12, 20, 54, 4, 223, 15, 1043, 6, 10, 547, 1, 717, 2850, 2, 20, 14, 1, 508, 8206, 2, 144, 584, 54, 4, 2177, 334, 54, 4, 1260, 510, 2, 118, 54, 4, 2177, 17769, 24, 1, 2261, 59, 3, 83, 8, 541, 163, 216, 2, 46, 18, 17770, 6, 10, 11, 57, 9275, 25, 169, 24, 4, 542, 515, 5, 62, 864, 6, 1218, 3820, 38, 2, 742, 19, 2, 31, 83, 6, 339, 7, 1290, 886, 73, 1, 87, 2, 111, 2, 31, 83, 6, 54, 4, 414, 1260, 157, 8, 6, 1, 1106, 9, 1, 143, 2, 31, 83, 6, 999, 4, 542, 515, 306, 502, 4, 242, 19, 9, 1, 2430, 203, 57, 29, 1, 241, 9, 7, 1928, 25, 2, 2130, 12, 169, 199, 110, 38, 2, 742, 19, 51, 409, 38, 2, 742, 19, 51, 51, 409, 169, 54, 68, 1708, 10, 3651, 14, 33, 4145, 216, 2, 13285, 2, 31, 14, 6, 13286, 8207, 10, 3, 339, 1, 4146, 36, 1657, 5, 36, 8208, 439, 15, 3, 12, 20, 266, 804, 3, 20, 27, 4, 185, 804, 38, 11, 153, 633, 804, 38, 11, 505, 805, 804, 38, 11, 153, 102, 560, 2, 20, 209, 6, 1246, 2, 31, 111, 14, 36, 58, 142, 729, 10, 5, 33, 890, 6, 46, 44, 3652, 169, 742, 19, 5, 148, 28, 15, 3, 33, 773, 6, 29, 806, 64, 214, 10, 155, 36, 92, 13, 75, 10, 179, 4, 414, 1219, 36, 92, 13, 2, 43, 417, 8, 142, 431, 36, 3, 102, 2, 200, 329, 21, 9, 1, 1247, 36, 7371, 97, 486, 47, 249, 174, 2, 131, 97, 2, 161, 57, 4, 17771, 74, 4, 17772, 3, 20, 396, 163, 2, 972, 97, 2, 161, 57, 4, 8209, 3, 35, 142, 102, 12, 147, 97, 306, 3652, 2, 113, 107, 29, 19, 13, 1, 1178, 80, 4, 1460, 1357, 5, 306, 107, 179, 4, 414, 973, 229, 9, 1, 1084, 1929, 128, 400, 2, 912, 827, 10, 12, 2, 161, 57, 1, 129, 58, 12, 725, 285, 334, 3, 111, 285, 51, 2, 628, 111, 285, 454, 39, 12, 600, 151, 519, 249, 38, 3, 24, 235, 143, 2, 151, 54, 8, 69, 136, 2028, 2, 20, 142, 27, 203, 57, 54, 4, 223, 15, 567, 169, 80, 6, 180, 8, 222, 38, 2, 742, 19, 2, 31, 64, 339, 7, 1290, 886, 73, 1, 87, 2, 111, 2, 31, 64, 54, 4, 414, 1260, 157, 8, 6, 1, 1106, 9, 1, 143, 2, 31, 64, 999, 4, 542, 515, 306, 502, 4, 242, 19, 9, 1, 2430, 203, 57, 29, 1, 241, 9, 7, 1928, 25, 2, 2130, 12, 169, 199, 110, 38, 2, 742, 19, 2, 31, 64, 339, 7, 1290, 886, 73, 1, 87, 2, 111, 51, 2, 31, 64, 54, 4, 414, 1260, 157, 8, 6, 1, 1106, 9, 1, 143, 2, 31, 64, 999, 4, 542, 515, 306, 502, 4, 242, 19, 9, 1, 2430, 51, 2, 203, 57, 29, 1, 241, 9, 7, 1928, 25, 2, 2130, 12, 169, 199, 110, 38, 2, 742, 19, 38, 2, 742, 19]\n"
     ]
    }
   ],
   "source": [
    "print(dataset[0])"
   ]
  },
  {
   "cell_type": "code",
   "execution_count": 11,
   "id": "d05499f1",
   "metadata": {},
   "outputs": [
    {
     "name": "stdout",
     "output_type": "stream",
     "text": [
      "(1091123, 5)\n",
      "(1091123,)\n"
     ]
    }
   ],
   "source": [
    "# sliding window\n",
    "SEQUENCE_LENGTH = 5\n",
    "\n",
    "X = []\n",
    "y = []\n",
    "\n",
    "for song in dataset:\n",
    "    for window_start_idx in range(len(song)-SEQUENCE_LENGTH):\n",
    "        window_end_idx = window_start_idx + SEQUENCE_LENGTH\n",
    "        X.append(song[window_start_idx: window_end_idx])\n",
    "        y.append(song[window_end_idx])\n",
    "\n",
    "X = np.array(X)\n",
    "y = np.array(y)\n",
    "\n",
    "# Let's look at the shapes\n",
    "print(X.shape)\n",
    "print(y.shape)"
   ]
  },
  {
   "cell_type": "code",
   "execution_count": 12,
   "id": "21260776",
   "metadata": {},
   "outputs": [],
   "source": [
    "number_of_classes = len(all_words)+1\n",
    "embedding_dim = 8\n",
    "\n",
    "lyrical_rap_model = Sequential()\n",
    "lyrical_rap_model.add(Embedding(number_of_classes, embedding_dim))\n",
    "\n",
    "\n",
    "lyrical_rap_model.add(LSTM(700, activation='tanh', return_sequences=True))\n",
    "lyrical_rap_model.add(BatchNormalization())\n",
    "lyrical_rap_model.add(Dropout(0.2))\n",
    "\n",
    "\n",
    "lyrical_rap_model.add(LSTM(350, activation='tanh', return_sequences=False))\n",
    "lyrical_rap_model.add(BatchNormalization())\n",
    "lyrical_rap_model.add(Dropout(0.2))\n",
    "\n",
    "lyrical_rap_model.add(Dense(175, activation='relu'))\n",
    "lyrical_rap_model.add(BatchNormalization())\n",
    "lyrical_rap_model.add(Dropout(0.2))\n",
    "\n",
    "lyrical_rap_model.add(Dense(number_of_classes, activation='softmax'))"
   ]
  },
  {
   "cell_type": "code",
   "execution_count": 13,
   "id": "2fe832f1",
   "metadata": {},
   "outputs": [
    {
     "data": {
      "text/plain": [
       "30862"
      ]
     },
     "execution_count": 13,
     "metadata": {},
     "output_type": "execute_result"
    }
   ],
   "source": [
    "number_of_classes"
   ]
  },
  {
   "cell_type": "code",
   "execution_count": 14,
   "id": "fdeff88f",
   "metadata": {},
   "outputs": [],
   "source": [
    "# Compile model\n",
    "lyrical_rap_model.compile(\n",
    "    loss='sparse_categorical_crossentropy',\n",
    "    optimizer='adam',\n",
    "    metrics=['accuracy']\n",
    ")"
   ]
  },
  {
   "cell_type": "code",
   "execution_count": 17,
   "id": "38bfb631",
   "metadata": {},
   "outputs": [
    {
     "name": "stdout",
     "output_type": "stream",
     "text": [
      "Model: \"sequential_13\"\n",
      "_________________________________________________________________\n",
      "Layer (type)                 Output Shape              Param #   \n",
      "=================================================================\n",
      "embedding_13 (Embedding)     (None, None, 8)           246896    \n",
      "_________________________________________________________________\n",
      "lstm_31 (LSTM)               (None, None, 700)         1985200   \n",
      "_________________________________________________________________\n",
      "batch_normalization_30 (Batc (None, None, 700)         2800      \n",
      "_________________________________________________________________\n",
      "dropout_30 (Dropout)         (None, None, 700)         0         \n",
      "_________________________________________________________________\n",
      "lstm_32 (LSTM)               (None, 350)               1471400   \n",
      "_________________________________________________________________\n",
      "batch_normalization_31 (Batc (None, 350)               1400      \n",
      "_________________________________________________________________\n",
      "dropout_31 (Dropout)         (None, 350)               0         \n",
      "_________________________________________________________________\n",
      "dense_8 (Dense)              (None, 175)               61425     \n",
      "_________________________________________________________________\n",
      "batch_normalization_32 (Batc (None, 175)               700       \n",
      "_________________________________________________________________\n",
      "dropout_32 (Dropout)         (None, 175)               0         \n",
      "_________________________________________________________________\n",
      "dense_9 (Dense)              (None, 30862)             5431712   \n",
      "=================================================================\n",
      "Total params: 9,201,533\n",
      "Trainable params: 9,199,083\n",
      "Non-trainable params: 2,450\n",
      "_________________________________________________________________\n"
     ]
    }
   ],
   "source": [
    "lyrical_rap_model.summary()"
   ]
  },
  {
   "cell_type": "code",
   "execution_count": 54,
   "id": "d2dfd85f",
   "metadata": {
    "scrolled": true
   },
   "outputs": [
    {
     "name": "stdout",
     "output_type": "stream",
     "text": [
      "Epoch 1/50\n",
      "1066/1066 [==============================] - 563s 529ms/step - loss: 6.5686 - accuracy: 0.0814\n",
      "Epoch 2/50\n",
      "1066/1066 [==============================] - 567s 532ms/step - loss: 5.7678 - accuracy: 0.1149\n",
      "Epoch 3/50\n",
      "1066/1066 [==============================] - 569s 534ms/step - loss: 5.5462 - accuracy: 0.1294\n",
      "Epoch 4/50\n",
      "1066/1066 [==============================] - 569s 533ms/step - loss: 5.3844 - accuracy: 0.1401\n",
      "Epoch 5/50\n",
      "1066/1066 [==============================] - 585s 549ms/step - loss: 5.2572 - accuracy: 0.1485\n",
      "Epoch 6/50\n",
      "1066/1066 [==============================] - 592s 555ms/step - loss: 5.1491 - accuracy: 0.1557\n",
      "Epoch 7/50\n",
      "1066/1066 [==============================] - 597s 560ms/step - loss: 5.0580 - accuracy: 0.1619\n",
      "Epoch 8/50\n",
      "1066/1066 [==============================] - 605s 568ms/step - loss: 4.9773 - accuracy: 0.1674\n",
      "Epoch 9/50\n",
      "1066/1066 [==============================] - 636s 596ms/step - loss: 4.9065 - accuracy: 0.1725\n",
      "Epoch 10/50\n",
      "1066/1066 [==============================] - 653s 613ms/step - loss: 4.8440 - accuracy: 0.1772\n",
      "Epoch 11/50\n",
      "1066/1066 [==============================] - 645s 605ms/step - loss: 4.7872 - accuracy: 0.1816\n",
      "Epoch 12/50\n",
      "1066/1066 [==============================] - 660s 620ms/step - loss: 4.7346 - accuracy: 0.1861\n",
      "Epoch 13/50\n",
      "1066/1066 [==============================] - 654s 614ms/step - loss: 4.6892 - accuracy: 0.1899\n",
      "Epoch 14/50\n",
      "1066/1066 [==============================] - 647s 607ms/step - loss: 4.6464 - accuracy: 0.1939\n",
      "Epoch 15/50\n",
      "1066/1066 [==============================] - 643s 603ms/step - loss: 4.6077 - accuracy: 0.1977\n",
      "Epoch 16/50\n",
      "1066/1066 [==============================] - 666s 625ms/step - loss: 4.5727 - accuracy: 0.2007\n",
      "Epoch 17/50\n",
      "1066/1066 [==============================] - 689s 646ms/step - loss: 4.5382 - accuracy: 0.2042\n",
      "Epoch 18/50\n",
      "1066/1066 [==============================] - 704s 660ms/step - loss: 4.5096 - accuracy: 0.2068\n",
      "Epoch 19/50\n",
      "1066/1066 [==============================] - 712s 668ms/step - loss: 4.4807 - accuracy: 0.2102\n",
      "Epoch 20/50\n",
      "1066/1066 [==============================] - 696s 653ms/step - loss: 4.4539 - accuracy: 0.2133\n",
      "Epoch 21/50\n",
      "1066/1066 [==============================] - 695s 652ms/step - loss: 4.4300 - accuracy: 0.2152\n",
      "Epoch 22/50\n",
      "1066/1066 [==============================] - 697s 654ms/step - loss: 4.4077 - accuracy: 0.2177\n",
      "Epoch 23/50\n",
      "1066/1066 [==============================] - 695s 652ms/step - loss: 4.3844 - accuracy: 0.2202\n",
      "Epoch 24/50\n",
      "1066/1066 [==============================] - 693s 650ms/step - loss: 4.3637 - accuracy: 0.2227\n",
      "Epoch 25/50\n",
      "1066/1066 [==============================] - 694s 651ms/step - loss: 4.3446 - accuracy: 0.2245\n",
      "Epoch 26/50\n",
      "1066/1066 [==============================] - 694s 651ms/step - loss: 4.3245 - accuracy: 0.2273\n",
      "Epoch 27/50\n",
      "1066/1066 [==============================] - 698s 655ms/step - loss: 4.3078 - accuracy: 0.2288\n",
      "Epoch 28/50\n",
      "1066/1066 [==============================] - 700s 657ms/step - loss: 4.2912 - accuracy: 0.2299\n",
      "Epoch 29/50\n",
      "1066/1066 [==============================] - 639s 600ms/step - loss: 4.2737 - accuracy: 0.2323\n",
      "Epoch 30/50\n",
      "1066/1066 [==============================] - 634s 595ms/step - loss: 4.2596 - accuracy: 0.2338\n",
      "Epoch 31/50\n",
      "1066/1066 [==============================] - 609s 571ms/step - loss: 4.2458 - accuracy: 0.2356\n",
      "Epoch 32/50\n",
      "1066/1066 [==============================] - 610s 572ms/step - loss: 4.2304 - accuracy: 0.2372\n",
      "Epoch 33/50\n",
      "1066/1066 [==============================] - 610s 572ms/step - loss: 4.2191 - accuracy: 0.2382\n",
      "Epoch 34/50\n",
      "1066/1066 [==============================] - 608s 571ms/step - loss: 4.2044 - accuracy: 0.2399\n",
      "Epoch 35/50\n",
      "1066/1066 [==============================] - 609s 571ms/step - loss: 4.1929 - accuracy: 0.2412\n",
      "Epoch 36/50\n",
      "1066/1066 [==============================] - 619s 581ms/step - loss: 4.1815 - accuracy: 0.2427\n",
      "Epoch 37/50\n",
      "1066/1066 [==============================] - 616s 577ms/step - loss: 4.1698 - accuracy: 0.2440\n",
      "Epoch 38/50\n",
      "1066/1066 [==============================] - 620s 581ms/step - loss: 4.1587 - accuracy: 0.2451\n",
      "Epoch 39/50\n",
      "1066/1066 [==============================] - 628s 589ms/step - loss: 4.1465 - accuracy: 0.2464\n",
      "Epoch 40/50\n",
      "1066/1066 [==============================] - 622s 583ms/step - loss: 4.1381 - accuracy: 0.2474\n",
      "Epoch 41/50\n",
      "1066/1066 [==============================] - 631s 592ms/step - loss: 4.1264 - accuracy: 0.2484\n",
      "Epoch 42/50\n",
      "1066/1066 [==============================] - 632s 593ms/step - loss: 4.1181 - accuracy: 0.2498\n",
      "Epoch 43/50\n",
      "1066/1066 [==============================] - 622s 583ms/step - loss: 4.1073 - accuracy: 0.2511\n",
      "Epoch 44/50\n",
      "1066/1066 [==============================] - 615s 576ms/step - loss: 4.0981 - accuracy: 0.2517\n",
      "Epoch 45/50\n",
      "1066/1066 [==============================] - 613s 575ms/step - loss: 4.0892 - accuracy: 0.2532\n",
      "Epoch 46/50\n",
      "1066/1066 [==============================] - 612s 574ms/step - loss: 4.0821 - accuracy: 0.2541\n",
      "Epoch 47/50\n",
      "1066/1066 [==============================] - 612s 574ms/step - loss: 4.0727 - accuracy: 0.2553\n",
      "Epoch 48/50\n",
      "1066/1066 [==============================] - 613s 575ms/step - loss: 4.0648 - accuracy: 0.2558\n",
      "Epoch 49/50\n",
      "1066/1066 [==============================] - 613s 575ms/step - loss: 4.0564 - accuracy: 0.2567\n",
      "Epoch 50/50\n",
      "1066/1066 [==============================] - 615s 577ms/step - loss: 4.0486 - accuracy: 0.2575\n"
     ]
    }
   ],
   "source": [
    "history = lyrical_rap_model.fit(X, y,\n",
    "        batch_size=1024,\n",
    "        epochs=50)"
   ]
  },
  {
   "cell_type": "markdown",
   "id": "8ee789b6",
   "metadata": {},
   "source": [
    "50 epochs just to save time due to how computationally intensive it is."
   ]
  },
  {
   "cell_type": "code",
   "execution_count": 56,
   "id": "e4e8529a",
   "metadata": {},
   "outputs": [],
   "source": [
    "# saving the model\n",
    "# lyrical_rap_model.save(\"lyrical_rap_model.h5\")"
   ]
  },
  {
   "cell_type": "code",
   "execution_count": 16,
   "id": "8ecbc273",
   "metadata": {},
   "outputs": [],
   "source": [
    "# loading the model\n",
    "lyrical_rap_model = load_model(\"lyrical_rap_model.h5\")"
   ]
  },
  {
   "cell_type": "code",
   "execution_count": 18,
   "id": "79ffc779",
   "metadata": {},
   "outputs": [],
   "source": [
    "def generate_text(input_phrase, next_words, model):\n",
    "    # process for the model\n",
    "    processed_phrase = lyrical_rap_tokenizer.texts_to_sequences([input_phrase])[0]\n",
    "    for i in range(next_words):\n",
    "      network_input = np.array(processed_phrase[-(len(processed_phrase)):], dtype=np.float32)\n",
    "      network_input = network_input.reshape((1, (len(processed_phrase)))) \n",
    "\n",
    "      # the RNN gives the probability of each word as the next one\n",
    "      predict_proba = model.predict(network_input)[0] \n",
    "      \n",
    "      # sample one word using these chances\n",
    "      predicted_index = np.random.choice(number_of_classes, 1, p=predict_proba)[0]\n",
    "\n",
    "      # add new index at the end of our list\n",
    "      processed_phrase.append(predicted_index)\n",
    "      \n",
    "\n",
    "  # indices mapped to words - the method expects a list of lists so we need the extra bracket\n",
    "      output_phrase = lyrical_rap_tokenizer.sequences_to_texts([processed_phrase])[0]\n",
    "\n",
    "    return output_phrase"
   ]
  },
  {
   "cell_type": "code",
   "execution_count": 64,
   "id": "6b9b1db6",
   "metadata": {
    "scrolled": true
   },
   "outputs": [
    {
     "data": {
      "text/plain": [
       "'calls for pots and pans that i cook highway and i know you takin ova cause dont got my hopes plus then we'"
      ]
     },
     "execution_count": 64,
     "metadata": {},
     "output_type": "execute_result"
    }
   ],
   "source": [
    "generate_text('calls for pots and pans that I cook', 15, lyrical_rap_model)"
   ]
  },
  {
   "cell_type": "code",
   "execution_count": 40,
   "id": "ad139c6a",
   "metadata": {},
   "outputs": [
    {
     "data": {
      "text/plain": [
       "'barking like a dog to make your crews need five flows you better get in they'"
      ]
     },
     "execution_count": 40,
     "metadata": {},
     "output_type": "execute_result"
    }
   ],
   "source": [
    "generate_text('barking like a dog to make', 10, lyrical_rap_model)"
   ]
  },
  {
   "cell_type": "code",
   "execution_count": 38,
   "id": "02d9f1bc",
   "metadata": {
    "scrolled": true
   },
   "outputs": [
    {
     "data": {
      "text/plain": [
       "'the mountains ive seen but havent travelled on your mind soon on everything look yourself theyll get'"
      ]
     },
     "execution_count": 38,
     "metadata": {},
     "output_type": "execute_result"
    }
   ],
   "source": [
    "generate_text('the mountains ive seen but havent travelled', 10, lyrical_rap_model)"
   ]
  },
  {
   "cell_type": "code",
   "execution_count": 63,
   "id": "c7b809f5",
   "metadata": {},
   "outputs": [
    {
     "data": {
      "text/plain": [
       "'delivered or seen but nothing can be plan for what i is business the only the kid'"
      ]
     },
     "execution_count": 63,
     "metadata": {},
     "output_type": "execute_result"
    }
   ],
   "source": [
    "generate_text('delivered or seen but nothing can be', 10, lyrical_rap_model)"
   ]
  },
  {
   "cell_type": "code",
   "execution_count": 62,
   "id": "d6dd877d",
   "metadata": {
    "scrolled": true
   },
   "outputs": [
    {
     "data": {
      "text/plain": [
       "'to be furious is to be lonely the perfect rappin terror and and now i part of my other believe some and the story for the rude before what these have'"
      ]
     },
     "execution_count": 62,
     "metadata": {},
     "output_type": "execute_result"
    }
   ],
   "source": [
    "generate_text('to be furious is to be', 25, lyrical_rap_model)"
   ]
  },
  {
   "cell_type": "code",
   "execution_count": 61,
   "id": "6bd5b5cc",
   "metadata": {},
   "outputs": [
    {
     "data": {
      "text/plain": [
       "'tshirt on the floor right there is two six nine nines to ya skin'"
      ]
     },
     "execution_count": 61,
     "metadata": {},
     "output_type": "execute_result"
    }
   ],
   "source": [
    "generate_text('tshirt on the floor', 10, lyrical_rap_model)"
   ]
  }
 ],
 "metadata": {
  "kernelspec": {
   "display_name": "deeplearning",
   "language": "python",
   "name": "deeplearning"
  },
  "language_info": {
   "codemirror_mode": {
    "name": "ipython",
    "version": 3
   },
   "file_extension": ".py",
   "mimetype": "text/x-python",
   "name": "python",
   "nbconvert_exporter": "python",
   "pygments_lexer": "ipython3",
   "version": "3.8.10"
  },
  "toc": {
   "base_numbering": 1,
   "nav_menu": {},
   "number_sections": true,
   "sideBar": true,
   "skip_h1_title": false,
   "title_cell": "Table of Contents",
   "title_sidebar": "Contents",
   "toc_cell": true,
   "toc_position": {},
   "toc_section_display": true,
   "toc_window_display": false
  }
 },
 "nbformat": 4,
 "nbformat_minor": 5
}
