{
 "cells": [
  {
   "cell_type": "markdown",
   "id": "9730488a",
   "metadata": {
    "toc": true
   },
   "source": [
    "<h1>Table of Contents<span class=\"tocSkip\"></span></h1>\n",
    "<div class=\"toc\"><ul class=\"toc-item\"><li><span><a href=\"#Scope\" data-toc-modified-id=\"Scope-1\"><span class=\"toc-item-num\">1&nbsp;&nbsp;</span>Scope</a></span></li><li><span><a href=\"#Import-libraries\" data-toc-modified-id=\"Import-libraries-2\"><span class=\"toc-item-num\">2&nbsp;&nbsp;</span>Import libraries</a></span></li><li><span><a href=\"#Summary\" data-toc-modified-id=\"Summary-3\"><span class=\"toc-item-num\">3&nbsp;&nbsp;</span>Summary</a></span></li></ul></div>"
   ]
  },
  {
   "cell_type": "markdown",
   "id": "5a4e2a72",
   "metadata": {},
   "source": [
    "### Scope\n",
    "XXX\n",
    "\n",
    "\n",
    "Note: Please note that I've classified certain rappers as \"mumble\" and \"lyrical\" according to my opinion. Let me know what you think, and maybe if you'd like to add anyone to the list :)"
   ]
  },
  {
   "cell_type": "markdown",
   "id": "2b42c77a",
   "metadata": {},
   "source": [
    "### Import libraries"
   ]
  },
  {
   "cell_type": "code",
   "execution_count": null,
   "id": "5ebd8040",
   "metadata": {},
   "outputs": [],
   "source": [
    "from lyricsgenius import Genius\n",
    "# import simplejson as json\n",
    "import json\n",
    "\n",
    "import pandas as pd\n",
    "import numpy as np"
   ]
  },
  {
   "cell_type": "markdown",
   "id": "e39d0ee3",
   "metadata": {},
   "source": [
    "The references and sources I used to learn about the API can be found through here:\n",
    "- [Documentation](https://lyricsgenius.readthedocs.io/en/master/reference/types.html#id2)\n",
    "-[Github](https://github.com/johnwmillr/LyricsGenius)"
   ]
  },
  {
   "cell_type": "code",
   "execution_count": 3,
   "id": "aaaa084e",
   "metadata": {},
   "outputs": [],
   "source": [
    "# Token\n",
    "genius = Genius(\"wU2lKvU_pCbwZkTFJSBdBiiKb-lsCSE7uTtw7SAJSOoeSvO3x1Dqf_j3vqRJyCAS\")"
   ]
  },
  {
   "cell_type": "markdown",
   "id": "6f07da10",
   "metadata": {},
   "source": [
    "Note: You can add the parameters into `Genius()` in one go, but I personally like them separated just so I can explicitly see what's going on under the hood."
   ]
  },
  {
   "cell_type": "code",
   "execution_count": 50,
   "id": "66af1ada",
   "metadata": {},
   "outputs": [],
   "source": [
    "# Fine tuning API Extraction\n",
    "# sleep time - default 0.2\n",
    "genius.sleep_time=0.2\n",
    "\n",
    "# time out - default 5\n",
    "genius.timeout=5\n",
    "\n",
    "# skip non songs\n",
    "genius.skip_non_songs=True\n",
    "\n",
    "# Remove section headers (e.g. [Chorus]) from lyrics when searching\n",
    "genius.remove_section_headers = True\n",
    "\n",
    "# Exclude songs with these words in their title\n",
    "genius.excluded_terms = [\"(Remix)\", \"(Live)\"]"
   ]
  },
  {
   "cell_type": "markdown",
   "id": "25173b49",
   "metadata": {},
   "source": [
    "Note: The code in the block below sadly does run because the API times out occasionally despite time_out being maxed out at 999999. I sadly had to run the API for each rapper individually. That too, a few of them timed out. I didn't really try running them again mainly because it's a time consuming process."
   ]
  },
  {
   "cell_type": "code",
   "execution_count": 51,
   "id": "b1ed1010",
   "metadata": {},
   "outputs": [],
   "source": [
    "# time out\n",
    "genius.timeout=999999"
   ]
  },
  {
   "cell_type": "code",
   "execution_count": 5,
   "id": "a7d0c479",
   "metadata": {},
   "outputs": [],
   "source": [
    "# Dict for storing lyrical rappers\n",
    "lyrical_dict = {'lyrics': [], 'song': [], 'artist': []}"
   ]
  },
  {
   "cell_type": "markdown",
   "id": "f3444c03",
   "metadata": {},
   "source": [
    "Note: removed anderson paak"
   ]
  },
  {
   "cell_type": "code",
   "execution_count": null,
   "id": "1937e01f",
   "metadata": {},
   "outputs": [],
   "source": [
    "# lyrical_rappers = [\"nf\",\"hopsin\",\"TI\",\n",
    "#                    \"andre3000\",\"bigl\",\"bigsean\",\"blackthought\",\"busta\",\n",
    "#                    \"chancetherapper\",\"YBNCordae\",\"denzelcurry\",\n",
    "#                    \"eminem\",\"icecube\",\"jayz\",\"jcole\",\"joynerlucas\",\n",
    "#                    \"kendricklamar\",\"lildicky\",\"lilwayne\",\"logic\",\n",
    "#                    \"macklemore\",\"marloncraft\",\"meekmill\",\"methodman\",\n",
    "#                    \"mfdoom\",\"mosdef\",\"nas\",\"natedogg\",\"nipseyhussle\",\n",
    "#                    \"notorious\",\"pushat\",\"rakim\",\"royceda59\",\n",
    "#                    \"snoopdogg\",\"token\",\"wale\"]\n",
    "\n",
    "# for lyrical_rapper in lyrical_rappers:\n",
    "#     songs = genius.search_artist(lyrical_rapper).songs\n",
    "#     for song in songs:\n",
    "#         try:\n",
    "#             lyrical_dict[\"artist\"].append(lyrical_rapper)\n",
    "# #             print(f\"loaded {artist}\")\n",
    "            \n",
    "#             lyrical_dict[\"song\"].append(song)\n",
    "# #             print(f\"loaded {song}\")\n",
    "            \n",
    "#             lyrical_dict[\"lyrics\"].append(song.lyrics)\n",
    "# #             print(f\"printed lyrics\")\n",
    "#         except:\n",
    "#             pass"
   ]
  },
  {
   "cell_type": "markdown",
   "id": "8c81bf9d",
   "metadata": {},
   "source": [
    "For the time being, I had to manually loop each artist (and still came across errors). I did repeat a few artists more than once so I'm bound to do a lot of cleaning (duplicates) in a new notebook. You can find the template that I used down below:"
   ]
  },
  {
   "cell_type": "code",
   "execution_count": null,
   "id": "52fad2c9",
   "metadata": {},
   "outputs": [],
   "source": [
    "lyrical_rappers = \"ENTER NAME\"\n",
    "    songs = genius.search_artist(lyrical_rapper).songs\n",
    "    for song in songs:\n",
    "        try:\n",
    "            lyrical_dict[\"artist\"].append(lyrical_rapper)\n",
    "#             print(f\"loaded {artist}\")\n",
    "            \n",
    "            lyrical_dict[\"song\"].append(song)\n",
    "#             print(f\"loaded {song}\")\n",
    "            \n",
    "            lyrical_dict[\"lyrics\"].append(song.lyrics)\n",
    "#             print(f\"printed lyrics\")\n",
    "        except:\n",
    "            pass"
   ]
  },
  {
   "cell_type": "code",
   "execution_count": 82,
   "id": "d8dc8e9b",
   "metadata": {},
   "outputs": [],
   "source": [
    "# assigning the lyrical_dictionary to a dataframe\n",
    "lyrical_df = pd.DataFrame({'lyrics':lyrical_dict['lyrics'], 'song':lyrical_dict['song'], 'artist':lyrical_dict['artist']})"
   ]
  },
  {
   "cell_type": "code",
   "execution_count": 83,
   "id": "dbe6ea2f",
   "metadata": {},
   "outputs": [],
   "source": [
    "# save \n",
    "lyrical_df.to_csv(r\"C:\\Users\\gsagararatne\\Documents\\BrainStation files\\portfolio projects\\RapLyricsGenerator\\lyrical_df.csv\", index=False, header=True)"
   ]
  },
  {
   "cell_type": "code",
   "execution_count": null,
   "id": "74b6991e",
   "metadata": {},
   "outputs": [],
   "source": [
    "# load\n",
    "# lyrical_df = pd.read_csv(\"lyrical_df.csv\")"
   ]
  },
  {
   "cell_type": "markdown",
   "id": "4d61e9ea",
   "metadata": {},
   "source": [
    "### Summary\n",
    " Successfully extracted the songs. Time to clean the data!"
   ]
  }
 ],
 "metadata": {
  "kernelspec": {
   "display_name": "Python 3",
   "language": "python",
   "name": "python3"
  },
  "language_info": {
   "codemirror_mode": {
    "name": "ipython",
    "version": 3
   },
   "file_extension": ".py",
   "mimetype": "text/x-python",
   "name": "python",
   "nbconvert_exporter": "python",
   "pygments_lexer": "ipython3",
   "version": "3.8.10"
  },
  "toc": {
   "base_numbering": 1,
   "nav_menu": {},
   "number_sections": true,
   "sideBar": true,
   "skip_h1_title": false,
   "title_cell": "Table of Contents",
   "title_sidebar": "Contents",
   "toc_cell": true,
   "toc_position": {},
   "toc_section_display": true,
   "toc_window_display": false
  }
 },
 "nbformat": 4,
 "nbformat_minor": 5
}
