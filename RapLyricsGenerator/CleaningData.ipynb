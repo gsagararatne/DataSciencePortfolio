{
 "cells": [
  {
   "cell_type": "markdown",
   "id": "e77d1b2a",
   "metadata": {
    "toc": true
   },
   "source": [
    "<h1>Table of Contents<span class=\"tocSkip\"></span></h1>\n",
    "<div class=\"toc\"><ul class=\"toc-item\"><li><span><a href=\"#Scope\" data-toc-modified-id=\"Scope-1\"><span class=\"toc-item-num\">1&nbsp;&nbsp;</span>Scope</a></span></li><li><span><a href=\"#Importing-libraries\" data-toc-modified-id=\"Importing-libraries-2\"><span class=\"toc-item-num\">2&nbsp;&nbsp;</span>Importing libraries</a></span></li><li><span><a href=\"#Read-in-files\" data-toc-modified-id=\"Read-in-files-3\"><span class=\"toc-item-num\">3&nbsp;&nbsp;</span>Read in files</a></span></li><li><span><a href=\"#Cleaning-process\" data-toc-modified-id=\"Cleaning-process-4\"><span class=\"toc-item-num\">4&nbsp;&nbsp;</span>Cleaning process</a></span><ul class=\"toc-item\"><li><span><a href=\"#Covers\" data-toc-modified-id=\"Covers-4.1\"><span class=\"toc-item-num\">4.1&nbsp;&nbsp;</span>Covers</a></span></li><li><span><a href=\"#Skits\" data-toc-modified-id=\"Skits-4.2\"><span class=\"toc-item-num\">4.2&nbsp;&nbsp;</span>Skits</a></span></li><li><span><a href=\"#Remixes\" data-toc-modified-id=\"Remixes-4.3\"><span class=\"toc-item-num\">4.3&nbsp;&nbsp;</span>Remixes</a></span></li><li><span><a href=\"#Duplicates\" data-toc-modified-id=\"Duplicates-4.4\"><span class=\"toc-item-num\">4.4&nbsp;&nbsp;</span>Duplicates</a></span></li><li><span><a href=\"#Instrumentals\" data-toc-modified-id=\"Instrumentals-4.5\"><span class=\"toc-item-num\">4.5&nbsp;&nbsp;</span>Instrumentals</a></span></li><li><span><a href=\"#Lyrics\" data-toc-modified-id=\"Lyrics-4.6\"><span class=\"toc-item-num\">4.6&nbsp;&nbsp;</span>Lyrics</a></span></li><li><span><a href=\"#Adlibs-and-verse-indication\" data-toc-modified-id=\"Adlibs-and-verse-indication-4.7\"><span class=\"toc-item-num\">4.7&nbsp;&nbsp;</span>Adlibs and verse indication</a></span></li><li><span><a href=\"#Removing-unwanted-phrases\" data-toc-modified-id=\"Removing-unwanted-phrases-4.8\"><span class=\"toc-item-num\">4.8&nbsp;&nbsp;</span>Removing unwanted phrases</a></span></li><li><span><a href=\"#Non-english-words\" data-toc-modified-id=\"Non-english-words-4.9\"><span class=\"toc-item-num\">4.9&nbsp;&nbsp;</span>Non-english words</a></span></li><li><span><a href=\"#Punctuation\" data-toc-modified-id=\"Punctuation-4.10\"><span class=\"toc-item-num\">4.10&nbsp;&nbsp;</span>Punctuation</a></span></li><li><span><a href=\"#Removing-cuss-words\" data-toc-modified-id=\"Removing-cuss-words-4.11\"><span class=\"toc-item-num\">4.11&nbsp;&nbsp;</span>Removing cuss words</a></span></li><li><span><a href=\"#Blank-spaces-and-lines\" data-toc-modified-id=\"Blank-spaces-and-lines-4.12\"><span class=\"toc-item-num\">4.12&nbsp;&nbsp;</span>Blank spaces and lines</a></span></li></ul></li><li><span><a href=\"#Exporting-dataframe-into-csv\" data-toc-modified-id=\"Exporting-dataframe-into-csv-5\"><span class=\"toc-item-num\">5&nbsp;&nbsp;</span>Exporting dataframe into csv</a></span></li></ul></div>"
   ]
  },
  {
   "cell_type": "markdown",
   "id": "f5eae648",
   "metadata": {},
   "source": [
    "### Scope\n",
    "To clean the lyrics column in the data frame.\n",
    "\n",
    "Note: Checking/testing lines of code may be commented out just to hide the cuss words."
   ]
  },
  {
   "cell_type": "markdown",
   "id": "337fd592",
   "metadata": {},
   "source": [
    "### Importing libraries"
   ]
  },
  {
   "cell_type": "code",
   "execution_count": 2,
   "id": "79dd1f1b",
   "metadata": {},
   "outputs": [],
   "source": [
    "import pandas as pd\n",
    "import numpy as np\n",
    "import re\n",
    "import nltk"
   ]
  },
  {
   "cell_type": "markdown",
   "id": "5147ca68",
   "metadata": {},
   "source": [
    "### Read in files"
   ]
  },
  {
   "cell_type": "code",
   "execution_count": 3,
   "id": "c3708cb4",
   "metadata": {},
   "outputs": [],
   "source": [
    "lyrical_df = pd.read_csv(\"lyrical_df.csv\")"
   ]
  },
  {
   "cell_type": "code",
   "execution_count": 4,
   "id": "96f558ab",
   "metadata": {},
   "outputs": [
    {
     "data": {
      "text/html": [
       "<div>\n",
       "<style scoped>\n",
       "    .dataframe tbody tr th:only-of-type {\n",
       "        vertical-align: middle;\n",
       "    }\n",
       "\n",
       "    .dataframe tbody tr th {\n",
       "        vertical-align: top;\n",
       "    }\n",
       "\n",
       "    .dataframe thead th {\n",
       "        text-align: right;\n",
       "    }\n",
       "</style>\n",
       "<table border=\"1\" class=\"dataframe\">\n",
       "  <thead>\n",
       "    <tr style=\"text-align: right;\">\n",
       "      <th></th>\n",
       "      <th>lyrics</th>\n",
       "      <th>song</th>\n",
       "      <th>artist</th>\n",
       "    </tr>\n",
       "  </thead>\n",
       "  <tbody>\n",
       "    <tr>\n",
       "      <th>0</th>\n",
       "      <td>Feels like we're on the edge right now\\nI wish...</td>\n",
       "      <td>\"Let You Down\" by NF:\\n    Feels like we're on...</td>\n",
       "      <td>nf</td>\n",
       "    </tr>\n",
       "    <tr>\n",
       "      <th>1</th>\n",
       "      <td>\"Hey, Nate, how's life?\"\\nI don’t know, it's a...</td>\n",
       "      <td>\"The Search\" by NF:\\n    \"Hey, Nate, how's lif...</td>\n",
       "      <td>nf</td>\n",
       "    </tr>\n",
       "    <tr>\n",
       "      <th>2</th>\n",
       "      <td>Yeah, when I grow up, you know what I wanna be...</td>\n",
       "      <td>\"When I Grow Up\" by NF:\\n    Yeah, when I grow...</td>\n",
       "      <td>nf</td>\n",
       "    </tr>\n",
       "    <tr>\n",
       "      <th>3</th>\n",
       "      <td>I heard you told your friends that I'm just no...</td>\n",
       "      <td>\"Lie\" by NF:\\n    I heard you told your friend...</td>\n",
       "      <td>nf</td>\n",
       "    </tr>\n",
       "    <tr>\n",
       "      <th>4</th>\n",
       "      <td>Clicks, clicks, clicks, they'll do anything to...</td>\n",
       "      <td>\"PAID MY DUES\" by NF:\\n    Clicks, clicks, cli...</td>\n",
       "      <td>nf</td>\n",
       "    </tr>\n",
       "    <tr>\n",
       "      <th>...</th>\n",
       "      <td>...</td>\n",
       "      <td>...</td>\n",
       "      <td>...</td>\n",
       "    </tr>\n",
       "    <tr>\n",
       "      <th>4023</th>\n",
       "      <td>[Verse 1]\\nToken goin' in, you can call the be...</td>\n",
       "      <td>\"Left Somethin’\" by Token:\\n    [Verse 1]\\n   ...</td>\n",
       "      <td>token</td>\n",
       "    </tr>\n",
       "    <tr>\n",
       "      <th>4024</th>\n",
       "      <td>[Chorus]\\nBack it up, back it up\\nFlow too cra...</td>\n",
       "      <td>\"Back It Up*\" by Token:\\n    [Chorus]\\n    Bac...</td>\n",
       "      <td>token</td>\n",
       "    </tr>\n",
       "    <tr>\n",
       "      <th>4025</th>\n",
       "      <td>[Verse: Token]\\nSeptember 24th 1998 was the ti...</td>\n",
       "      <td>\"Jurassic Cypher\" by Token:\\n    [Verse: Token...</td>\n",
       "      <td>token</td>\n",
       "    </tr>\n",
       "    <tr>\n",
       "      <th>4026</th>\n",
       "      <td>[Intro]\\nUh\\n\\n[Chorus]\\nIt's summer break, ye...</td>\n",
       "      <td>\"Summer Break\" by Token:\\n    [Intro]\\n    Uh\\...</td>\n",
       "      <td>token</td>\n",
       "    </tr>\n",
       "    <tr>\n",
       "      <th>4027</th>\n",
       "      <td>[Intro]\\nKato production\\n\\n[Chorus]\\nI don't ...</td>\n",
       "      <td>\"Yellow Tape\" by Token:\\n    [Intro]\\n    Kato...</td>\n",
       "      <td>token</td>\n",
       "    </tr>\n",
       "  </tbody>\n",
       "</table>\n",
       "<p>4028 rows × 3 columns</p>\n",
       "</div>"
      ],
      "text/plain": [
       "                                                 lyrics  \\\n",
       "0     Feels like we're on the edge right now\\nI wish...   \n",
       "1     \"Hey, Nate, how's life?\"\\nI don’t know, it's a...   \n",
       "2     Yeah, when I grow up, you know what I wanna be...   \n",
       "3     I heard you told your friends that I'm just no...   \n",
       "4     Clicks, clicks, clicks, they'll do anything to...   \n",
       "...                                                 ...   \n",
       "4023  [Verse 1]\\nToken goin' in, you can call the be...   \n",
       "4024  [Chorus]\\nBack it up, back it up\\nFlow too cra...   \n",
       "4025  [Verse: Token]\\nSeptember 24th 1998 was the ti...   \n",
       "4026  [Intro]\\nUh\\n\\n[Chorus]\\nIt's summer break, ye...   \n",
       "4027  [Intro]\\nKato production\\n\\n[Chorus]\\nI don't ...   \n",
       "\n",
       "                                                   song artist  \n",
       "0     \"Let You Down\" by NF:\\n    Feels like we're on...     nf  \n",
       "1     \"The Search\" by NF:\\n    \"Hey, Nate, how's lif...     nf  \n",
       "2     \"When I Grow Up\" by NF:\\n    Yeah, when I grow...     nf  \n",
       "3     \"Lie\" by NF:\\n    I heard you told your friend...     nf  \n",
       "4     \"PAID MY DUES\" by NF:\\n    Clicks, clicks, cli...     nf  \n",
       "...                                                 ...    ...  \n",
       "4023  \"Left Somethin’\" by Token:\\n    [Verse 1]\\n   ...  token  \n",
       "4024  \"Back It Up*\" by Token:\\n    [Chorus]\\n    Bac...  token  \n",
       "4025  \"Jurassic Cypher\" by Token:\\n    [Verse: Token...  token  \n",
       "4026  \"Summer Break\" by Token:\\n    [Intro]\\n    Uh\\...  token  \n",
       "4027  \"Yellow Tape\" by Token:\\n    [Intro]\\n    Kato...  token  \n",
       "\n",
       "[4028 rows x 3 columns]"
      ]
     },
     "execution_count": 4,
     "metadata": {},
     "output_type": "execute_result"
    }
   ],
   "source": [
    "# Check format\n",
    "lyrical_df"
   ]
  },
  {
   "cell_type": "code",
   "execution_count": 5,
   "id": "548c2942",
   "metadata": {},
   "outputs": [
    {
     "data": {
      "text/plain": [
       "eminem               546\n",
       "TI                   398\n",
       "kendrick lamar       330\n",
       "jcole                280\n",
       "bigsean              261\n",
       "nipsey hussle        255\n",
       "icecube              251\n",
       "mfdoom               196\n",
       "hopsin               178\n",
       "chance the rapper    177\n",
       "mosdef               166\n",
       "denzelcurry          155\n",
       "joyner lucas         132\n",
       "nf                   131\n",
       "bigl                 128\n",
       "token                 96\n",
       "YBNCordae             91\n",
       "natedogg              91\n",
       "lil dicky             90\n",
       "macklemore            76\n",
       "Name: artist, dtype: int64"
      ]
     },
     "execution_count": 5,
     "metadata": {},
     "output_type": "execute_result"
    }
   ],
   "source": [
    "# Check artists\n",
    "lyrical_df[\"artist\"].value_counts()"
   ]
  },
  {
   "cell_type": "markdown",
   "id": "6d21dfd9",
   "metadata": {},
   "source": [
    "Note: I have a feeling that the the neural network might learn have a bias towards the style of an artist whose songs were extracted the most. Ideally, I could potentially extract the same number of songs per artist to even out the bias. On top of that, I could select the most popular songs for the network to study from. BUT, I personally would like the network to get familiar with Eminem's style. Mainly because of his word play and his rhyming scheme. "
   ]
  },
  {
   "cell_type": "code",
   "execution_count": 6,
   "id": "2067d84d",
   "metadata": {},
   "outputs": [
    {
     "data": {
      "text/html": [
       "<div>\n",
       "<style scoped>\n",
       "    .dataframe tbody tr th:only-of-type {\n",
       "        vertical-align: middle;\n",
       "    }\n",
       "\n",
       "    .dataframe tbody tr th {\n",
       "        vertical-align: top;\n",
       "    }\n",
       "\n",
       "    .dataframe thead th {\n",
       "        text-align: right;\n",
       "    }\n",
       "</style>\n",
       "<table border=\"1\" class=\"dataframe\">\n",
       "  <thead>\n",
       "    <tr style=\"text-align: right;\">\n",
       "      <th></th>\n",
       "      <th>lyrics</th>\n",
       "      <th>song</th>\n",
       "      <th>artist</th>\n",
       "    </tr>\n",
       "  </thead>\n",
       "  <tbody>\n",
       "    <tr>\n",
       "      <th>0</th>\n",
       "      <td>Feels like we're on the edge right now\\nI wish...</td>\n",
       "      <td>\"Let You Down\" by NF:\\n    Feels like we're on...</td>\n",
       "      <td>nf</td>\n",
       "    </tr>\n",
       "    <tr>\n",
       "      <th>1</th>\n",
       "      <td>\"Hey, Nate, how's life?\"\\nI don’t know, it's a...</td>\n",
       "      <td>\"The Search\" by NF:\\n    \"Hey, Nate, how's lif...</td>\n",
       "      <td>nf</td>\n",
       "    </tr>\n",
       "    <tr>\n",
       "      <th>2</th>\n",
       "      <td>Yeah, when I grow up, you know what I wanna be...</td>\n",
       "      <td>\"When I Grow Up\" by NF:\\n    Yeah, when I grow...</td>\n",
       "      <td>nf</td>\n",
       "    </tr>\n",
       "    <tr>\n",
       "      <th>3</th>\n",
       "      <td>I heard you told your friends that I'm just no...</td>\n",
       "      <td>\"Lie\" by NF:\\n    I heard you told your friend...</td>\n",
       "      <td>nf</td>\n",
       "    </tr>\n",
       "    <tr>\n",
       "      <th>4</th>\n",
       "      <td>Clicks, clicks, clicks, they'll do anything to...</td>\n",
       "      <td>\"PAID MY DUES\" by NF:\\n    Clicks, clicks, cli...</td>\n",
       "      <td>nf</td>\n",
       "    </tr>\n",
       "    <tr>\n",
       "      <th>...</th>\n",
       "      <td>...</td>\n",
       "      <td>...</td>\n",
       "      <td>...</td>\n",
       "    </tr>\n",
       "    <tr>\n",
       "      <th>4023</th>\n",
       "      <td>[Verse 1]\\nToken goin' in, you can call the be...</td>\n",
       "      <td>\"Left Somethin’\" by Token:\\n    [Verse 1]\\n   ...</td>\n",
       "      <td>token</td>\n",
       "    </tr>\n",
       "    <tr>\n",
       "      <th>4024</th>\n",
       "      <td>[Chorus]\\nBack it up, back it up\\nFlow too cra...</td>\n",
       "      <td>\"Back It Up*\" by Token:\\n    [Chorus]\\n    Bac...</td>\n",
       "      <td>token</td>\n",
       "    </tr>\n",
       "    <tr>\n",
       "      <th>4025</th>\n",
       "      <td>[Verse: Token]\\nSeptember 24th 1998 was the ti...</td>\n",
       "      <td>\"Jurassic Cypher\" by Token:\\n    [Verse: Token...</td>\n",
       "      <td>token</td>\n",
       "    </tr>\n",
       "    <tr>\n",
       "      <th>4026</th>\n",
       "      <td>[Intro]\\nUh\\n\\n[Chorus]\\nIt's summer break, ye...</td>\n",
       "      <td>\"Summer Break\" by Token:\\n    [Intro]\\n    Uh\\...</td>\n",
       "      <td>token</td>\n",
       "    </tr>\n",
       "    <tr>\n",
       "      <th>4027</th>\n",
       "      <td>[Intro]\\nKato production\\n\\n[Chorus]\\nI don't ...</td>\n",
       "      <td>\"Yellow Tape\" by Token:\\n    [Intro]\\n    Kato...</td>\n",
       "      <td>token</td>\n",
       "    </tr>\n",
       "  </tbody>\n",
       "</table>\n",
       "<p>4028 rows × 3 columns</p>\n",
       "</div>"
      ],
      "text/plain": [
       "                                                 lyrics  \\\n",
       "0     Feels like we're on the edge right now\\nI wish...   \n",
       "1     \"Hey, Nate, how's life?\"\\nI don’t know, it's a...   \n",
       "2     Yeah, when I grow up, you know what I wanna be...   \n",
       "3     I heard you told your friends that I'm just no...   \n",
       "4     Clicks, clicks, clicks, they'll do anything to...   \n",
       "...                                                 ...   \n",
       "4023  [Verse 1]\\nToken goin' in, you can call the be...   \n",
       "4024  [Chorus]\\nBack it up, back it up\\nFlow too cra...   \n",
       "4025  [Verse: Token]\\nSeptember 24th 1998 was the ti...   \n",
       "4026  [Intro]\\nUh\\n\\n[Chorus]\\nIt's summer break, ye...   \n",
       "4027  [Intro]\\nKato production\\n\\n[Chorus]\\nI don't ...   \n",
       "\n",
       "                                                   song artist  \n",
       "0     \"Let You Down\" by NF:\\n    Feels like we're on...     nf  \n",
       "1     \"The Search\" by NF:\\n    \"Hey, Nate, how's lif...     nf  \n",
       "2     \"When I Grow Up\" by NF:\\n    Yeah, when I grow...     nf  \n",
       "3     \"Lie\" by NF:\\n    I heard you told your friend...     nf  \n",
       "4     \"PAID MY DUES\" by NF:\\n    Clicks, clicks, cli...     nf  \n",
       "...                                                 ...    ...  \n",
       "4023  \"Left Somethin’\" by Token:\\n    [Verse 1]\\n   ...  token  \n",
       "4024  \"Back It Up*\" by Token:\\n    [Chorus]\\n    Bac...  token  \n",
       "4025  \"Jurassic Cypher\" by Token:\\n    [Verse: Token...  token  \n",
       "4026  \"Summer Break\" by Token:\\n    [Intro]\\n    Uh\\...  token  \n",
       "4027  \"Yellow Tape\" by Token:\\n    [Intro]\\n    Kato...  token  \n",
       "\n",
       "[4028 rows x 3 columns]"
      ]
     },
     "execution_count": 6,
     "metadata": {},
     "output_type": "execute_result"
    }
   ],
   "source": [
    "# Check\n",
    "lyrical_df"
   ]
  },
  {
   "cell_type": "code",
   "execution_count": 7,
   "id": "2d1a1cae",
   "metadata": {},
   "outputs": [
    {
     "data": {
      "text/plain": [
       "dtype('O')"
      ]
     },
     "execution_count": 7,
     "metadata": {},
     "output_type": "execute_result"
    }
   ],
   "source": [
    "# Checking data type - lyrics\n",
    "lyrical_df[\"lyrics\"].dtype"
   ]
  },
  {
   "cell_type": "markdown",
   "id": "ae9836ca",
   "metadata": {},
   "source": [
    "Need to make sure the column `lyrics` always has a string format so that I can perform regex operations if needed. "
   ]
  },
  {
   "cell_type": "code",
   "execution_count": 8,
   "id": "13083d41",
   "metadata": {},
   "outputs": [],
   "source": [
    "# Converting into string\n",
    "lyrical_df[\"lyrics\"] = lyrical_df[\"lyrics\"].astype(str)"
   ]
  },
  {
   "cell_type": "markdown",
   "id": "6742ce1d",
   "metadata": {},
   "source": [
    "### Cleaning process"
   ]
  },
  {
   "cell_type": "code",
   "execution_count": 9,
   "id": "85fe149f",
   "metadata": {},
   "outputs": [
    {
     "data": {
      "text/plain": [
       "(4028, 3)"
      ]
     },
     "execution_count": 9,
     "metadata": {},
     "output_type": "execute_result"
    }
   ],
   "source": [
    "lyrical_df.shape"
   ]
  },
  {
   "cell_type": "markdown",
   "id": "aed3ea29",
   "metadata": {},
   "source": [
    "Starting off with 4028 songs."
   ]
  },
  {
   "cell_type": "markdown",
   "id": "cf4d42ea",
   "metadata": {},
   "source": [
    "#### Covers"
   ]
  },
  {
   "cell_type": "code",
   "execution_count": 10,
   "id": "314086a4",
   "metadata": {},
   "outputs": [
    {
     "data": {
      "text/html": [
       "<div>\n",
       "<style scoped>\n",
       "    .dataframe tbody tr th:only-of-type {\n",
       "        vertical-align: middle;\n",
       "    }\n",
       "\n",
       "    .dataframe tbody tr th {\n",
       "        vertical-align: top;\n",
       "    }\n",
       "\n",
       "    .dataframe thead th {\n",
       "        text-align: right;\n",
       "    }\n",
       "</style>\n",
       "<table border=\"1\" class=\"dataframe\">\n",
       "  <thead>\n",
       "    <tr style=\"text-align: right;\">\n",
       "      <th></th>\n",
       "      <th>lyrics</th>\n",
       "      <th>song</th>\n",
       "      <th>artist</th>\n",
       "    </tr>\n",
       "  </thead>\n",
       "  <tbody>\n",
       "    <tr>\n",
       "      <th>227</th>\n",
       "      <td>I can tell you’re a real cool girl\\nI mean it ...</td>\n",
       "      <td>\"Cover Up\" by Hopsin:\\n    I can tell you’re a...</td>\n",
       "      <td>hopsin</td>\n",
       "    </tr>\n",
       "    <tr>\n",
       "      <th>1186</th>\n",
       "      <td>Cover Art:\\nChance the Rapper - \"JUICE\"\\nChanc...</td>\n",
       "      <td>\"Acid Rap [Artwork]\" by Chance the Rapper:\\n  ...</td>\n",
       "      <td>chance the rapper</td>\n",
       "    </tr>\n",
       "    <tr>\n",
       "      <th>2527</th>\n",
       "      <td>J. Cole - Born Sinner (Standard Cover)\\nJ. Col...</td>\n",
       "      <td>\"Born Sinner: Album Covers\" by J. Cole:\\n    J...</td>\n",
       "      <td>jcole</td>\n",
       "    </tr>\n",
       "    <tr>\n",
       "      <th>2566</th>\n",
       "      <td>J. Cole - Cole World: The Sideline Story\\n5Emb...</td>\n",
       "      <td>\"Cole World: The Sideline Story Album Cover\" b...</td>\n",
       "      <td>jcole</td>\n",
       "    </tr>\n",
       "    <tr>\n",
       "      <th>2929</th>\n",
       "      <td>Writer At WarKendrick Lamar in his own words.A...</td>\n",
       "      <td>\"Writer At War: Kendrick Lamar’s XXL Cover Sto...</td>\n",
       "      <td>kendrick lamar</td>\n",
       "    </tr>\n",
       "  </tbody>\n",
       "</table>\n",
       "</div>"
      ],
      "text/plain": [
       "                                                 lyrics  \\\n",
       "227   I can tell you’re a real cool girl\\nI mean it ...   \n",
       "1186  Cover Art:\\nChance the Rapper - \"JUICE\"\\nChanc...   \n",
       "2527  J. Cole - Born Sinner (Standard Cover)\\nJ. Col...   \n",
       "2566  J. Cole - Cole World: The Sideline Story\\n5Emb...   \n",
       "2929  Writer At WarKendrick Lamar in his own words.A...   \n",
       "\n",
       "                                                   song             artist  \n",
       "227   \"Cover Up\" by Hopsin:\\n    I can tell you’re a...             hopsin  \n",
       "1186  \"Acid Rap [Artwork]\" by Chance the Rapper:\\n  ...  chance the rapper  \n",
       "2527  \"Born Sinner: Album Covers\" by J. Cole:\\n    J...              jcole  \n",
       "2566  \"Cole World: The Sideline Story Album Cover\" b...              jcole  \n",
       "2929  \"Writer At War: Kendrick Lamar’s XXL Cover Sto...     kendrick lamar  "
      ]
     },
     "execution_count": 10,
     "metadata": {},
     "output_type": "execute_result"
    }
   ],
   "source": [
    "lyrical_df[lyrical_df[\"song\"].str.contains(\"Cover\")]"
   ]
  },
  {
   "cell_type": "code",
   "execution_count": 11,
   "id": "b941b599",
   "metadata": {},
   "outputs": [
    {
     "data": {
      "text/html": [
       "<div>\n",
       "<style scoped>\n",
       "    .dataframe tbody tr th:only-of-type {\n",
       "        vertical-align: middle;\n",
       "    }\n",
       "\n",
       "    .dataframe tbody tr th {\n",
       "        vertical-align: top;\n",
       "    }\n",
       "\n",
       "    .dataframe thead th {\n",
       "        text-align: right;\n",
       "    }\n",
       "</style>\n",
       "<table border=\"1\" class=\"dataframe\">\n",
       "  <thead>\n",
       "    <tr style=\"text-align: right;\">\n",
       "      <th></th>\n",
       "      <th>lyrics</th>\n",
       "      <th>song</th>\n",
       "      <th>artist</th>\n",
       "    </tr>\n",
       "  </thead>\n",
       "  <tbody>\n",
       "    <tr>\n",
       "      <th>152</th>\n",
       "      <td>Undercover Prodigy\\nCome on!\\n\\nLook, I ain't ...</td>\n",
       "      <td>\"Witch Doctor\" by Hopsin:\\n    Undercover Prod...</td>\n",
       "      <td>hopsin</td>\n",
       "    </tr>\n",
       "    <tr>\n",
       "      <th>1756</th>\n",
       "      <td>Hi! Original Bad Boy on the case, cover your f...</td>\n",
       "      <td>\"Any Man (Fucking Crazy)\" by Eminem:\\n    Hi! ...</td>\n",
       "      <td>eminem</td>\n",
       "    </tr>\n",
       "    <tr>\n",
       "      <th>1892</th>\n",
       "      <td>EmbedShare URLCopyEmbedCopy</td>\n",
       "      <td>\"Recovery [Booklet]\" by Eminem:\\n    EmbedShar...</td>\n",
       "      <td>eminem</td>\n",
       "    </tr>\n",
       "    <tr>\n",
       "      <th>2855</th>\n",
       "      <td>I want to describe my discovery in the simples...</td>\n",
       "      <td>\"Determined\" by Kendrick Lamar:\\n    I want to...</td>\n",
       "      <td>kendrick lamar</td>\n",
       "    </tr>\n",
       "  </tbody>\n",
       "</table>\n",
       "</div>"
      ],
      "text/plain": [
       "                                                 lyrics  \\\n",
       "152   Undercover Prodigy\\nCome on!\\n\\nLook, I ain't ...   \n",
       "1756  Hi! Original Bad Boy on the case, cover your f...   \n",
       "1892                        EmbedShare URLCopyEmbedCopy   \n",
       "2855  I want to describe my discovery in the simples...   \n",
       "\n",
       "                                                   song          artist  \n",
       "152   \"Witch Doctor\" by Hopsin:\\n    Undercover Prod...          hopsin  \n",
       "1756  \"Any Man (Fucking Crazy)\" by Eminem:\\n    Hi! ...          eminem  \n",
       "1892  \"Recovery [Booklet]\" by Eminem:\\n    EmbedShar...          eminem  \n",
       "2855  \"Determined\" by Kendrick Lamar:\\n    I want to...  kendrick lamar  "
      ]
     },
     "execution_count": 11,
     "metadata": {},
     "output_type": "execute_result"
    }
   ],
   "source": [
    "lyrical_df[lyrical_df[\"song\"].str.contains(\"cover\")]"
   ]
  },
  {
   "cell_type": "markdown",
   "id": "474f07a6",
   "metadata": {},
   "source": [
    "TALK ABOUT COVERS ABOVE. DROP IF FOUND"
   ]
  },
  {
   "cell_type": "markdown",
   "id": "988f8a90",
   "metadata": {},
   "source": [
    "#### Skits"
   ]
  },
  {
   "cell_type": "code",
   "execution_count": 12,
   "id": "ec64c6ff",
   "metadata": {},
   "outputs": [
    {
     "data": {
      "text/html": [
       "<div>\n",
       "<style scoped>\n",
       "    .dataframe tbody tr th:only-of-type {\n",
       "        vertical-align: middle;\n",
       "    }\n",
       "\n",
       "    .dataframe tbody tr th {\n",
       "        vertical-align: top;\n",
       "    }\n",
       "\n",
       "    .dataframe thead th {\n",
       "        text-align: right;\n",
       "    }\n",
       "</style>\n",
       "<table border=\"1\" class=\"dataframe\">\n",
       "  <thead>\n",
       "    <tr style=\"text-align: right;\">\n",
       "      <th></th>\n",
       "      <th>lyrics</th>\n",
       "      <th>song</th>\n",
       "      <th>artist</th>\n",
       "    </tr>\n",
       "  </thead>\n",
       "  <tbody>\n",
       "  </tbody>\n",
       "</table>\n",
       "</div>"
      ],
      "text/plain": [
       "Empty DataFrame\n",
       "Columns: [lyrics, song, artist]\n",
       "Index: []"
      ]
     },
     "execution_count": 12,
     "metadata": {},
     "output_type": "execute_result"
    }
   ],
   "source": [
    "lyrical_df[lyrical_df[\"song\"].str.contains(\"skit\")]"
   ]
  },
  {
   "cell_type": "code",
   "execution_count": 13,
   "id": "be23bd0b",
   "metadata": {
    "scrolled": true
   },
   "outputs": [
    {
     "data": {
      "text/html": [
       "<div>\n",
       "<style scoped>\n",
       "    .dataframe tbody tr th:only-of-type {\n",
       "        vertical-align: middle;\n",
       "    }\n",
       "\n",
       "    .dataframe tbody tr th {\n",
       "        vertical-align: top;\n",
       "    }\n",
       "\n",
       "    .dataframe thead th {\n",
       "        text-align: right;\n",
       "    }\n",
       "</style>\n",
       "<table border=\"1\" class=\"dataframe\">\n",
       "  <thead>\n",
       "    <tr style=\"text-align: right;\">\n",
       "      <th></th>\n",
       "      <th>lyrics</th>\n",
       "      <th>song</th>\n",
       "      <th>artist</th>\n",
       "    </tr>\n",
       "  </thead>\n",
       "  <tbody>\n",
       "    <tr>\n",
       "      <th>139</th>\n",
       "      <td>Man, rap today fucking sucks bad, I don't give...</td>\n",
       "      <td>\"No Words (Skit)\" by Hopsin:\\n    Man, rap tod...</td>\n",
       "      <td>hopsin</td>\n",
       "    </tr>\n",
       "    <tr>\n",
       "      <th>219</th>\n",
       "      <td>(H-H-H-Hot 92. 4, Where Hip-Hop lives)\\n— Ladi...</td>\n",
       "      <td>\"No Words 2 (Skit)\" by Hopsin:\\n    (H-H-H-Hot...</td>\n",
       "      <td>hopsin</td>\n",
       "    </tr>\n",
       "    <tr>\n",
       "      <th>240</th>\n",
       "      <td>*Phone rings*\\nHopsin: What do you want?\\nAlyc...</td>\n",
       "      <td>\"Cute in a Suit (Skit)\" by Hopsin:\\n    *Phone...</td>\n",
       "      <td>hopsin</td>\n",
       "    </tr>\n",
       "    <tr>\n",
       "      <th>264</th>\n",
       "      <td>Yo, what's up everybody? Normally, I would sta...</td>\n",
       "      <td>\"Intro - Skit\" by Hopsin:\\n    Yo, what's up e...</td>\n",
       "      <td>hopsin</td>\n",
       "    </tr>\n",
       "    <tr>\n",
       "      <th>487</th>\n",
       "      <td>Hey, hey, hey come on in\\n\\nHey Baby\\n\\nHey, w...</td>\n",
       "      <td>\"The Breakup (Skit)\" by T.I.:\\n    Hey, hey, h...</td>\n",
       "      <td>TI</td>\n",
       "    </tr>\n",
       "    <tr>\n",
       "      <th>...</th>\n",
       "      <td>...</td>\n",
       "      <td>...</td>\n",
       "      <td>...</td>\n",
       "    </tr>\n",
       "    <tr>\n",
       "      <th>3291</th>\n",
       "      <td>There's still DOOM, what of him?\\n\\nWhat of DO...</td>\n",
       "      <td>\"The Mystery of Doom (Skit)\" by MF DOOM:\\n    ...</td>\n",
       "      <td>mfdoom</td>\n",
       "    </tr>\n",
       "    <tr>\n",
       "      <th>3653</th>\n",
       "      <td>[Skit]\\nGuard: Right this way, ma'am. Lockdown...</td>\n",
       "      <td>\"Intro to G-Funk (Comm. 1)\" by Nate Dogg:\\n   ...</td>\n",
       "      <td>natedogg</td>\n",
       "    </tr>\n",
       "    <tr>\n",
       "      <th>3656</th>\n",
       "      <td>[Skit]\\nPriest: Heavenly Father, I bow before ...</td>\n",
       "      <td>\"Last Prayer (Comm. 2)\" by Nate Dogg:\\n    [Sk...</td>\n",
       "      <td>natedogg</td>\n",
       "    </tr>\n",
       "    <tr>\n",
       "      <th>3995</th>\n",
       "      <td>[Skit: Token, Mom, &amp; Mailman]\\nComing. Sorry t...</td>\n",
       "      <td>\"Mail (Outro)\" by Token:\\n    [Skit: Token, Mo...</td>\n",
       "      <td>token</td>\n",
       "    </tr>\n",
       "    <tr>\n",
       "      <th>3999</th>\n",
       "      <td>[Skit: Token]\\nYo, I think that was the one, m...</td>\n",
       "      <td>\"Shyea\" by Token:\\n    [Skit: Token]\\n    Yo, ...</td>\n",
       "      <td>token</td>\n",
       "    </tr>\n",
       "  </tbody>\n",
       "</table>\n",
       "<p>84 rows × 3 columns</p>\n",
       "</div>"
      ],
      "text/plain": [
       "                                                 lyrics  \\\n",
       "139   Man, rap today fucking sucks bad, I don't give...   \n",
       "219   (H-H-H-Hot 92. 4, Where Hip-Hop lives)\\n— Ladi...   \n",
       "240   *Phone rings*\\nHopsin: What do you want?\\nAlyc...   \n",
       "264   Yo, what's up everybody? Normally, I would sta...   \n",
       "487   Hey, hey, hey come on in\\n\\nHey Baby\\n\\nHey, w...   \n",
       "...                                                 ...   \n",
       "3291  There's still DOOM, what of him?\\n\\nWhat of DO...   \n",
       "3653  [Skit]\\nGuard: Right this way, ma'am. Lockdown...   \n",
       "3656  [Skit]\\nPriest: Heavenly Father, I bow before ...   \n",
       "3995  [Skit: Token, Mom, & Mailman]\\nComing. Sorry t...   \n",
       "3999  [Skit: Token]\\nYo, I think that was the one, m...   \n",
       "\n",
       "                                                   song    artist  \n",
       "139   \"No Words (Skit)\" by Hopsin:\\n    Man, rap tod...    hopsin  \n",
       "219   \"No Words 2 (Skit)\" by Hopsin:\\n    (H-H-H-Hot...    hopsin  \n",
       "240   \"Cute in a Suit (Skit)\" by Hopsin:\\n    *Phone...    hopsin  \n",
       "264   \"Intro - Skit\" by Hopsin:\\n    Yo, what's up e...    hopsin  \n",
       "487   \"The Breakup (Skit)\" by T.I.:\\n    Hey, hey, h...        TI  \n",
       "...                                                 ...       ...  \n",
       "3291  \"The Mystery of Doom (Skit)\" by MF DOOM:\\n    ...    mfdoom  \n",
       "3653  \"Intro to G-Funk (Comm. 1)\" by Nate Dogg:\\n   ...  natedogg  \n",
       "3656  \"Last Prayer (Comm. 2)\" by Nate Dogg:\\n    [Sk...  natedogg  \n",
       "3995  \"Mail (Outro)\" by Token:\\n    [Skit: Token, Mo...     token  \n",
       "3999  \"Shyea\" by Token:\\n    [Skit: Token]\\n    Yo, ...     token  \n",
       "\n",
       "[84 rows x 3 columns]"
      ]
     },
     "execution_count": 13,
     "metadata": {},
     "output_type": "execute_result"
    }
   ],
   "source": [
    "lyrical_df[lyrical_df[\"song\"].str.contains(\"Skit\")]"
   ]
  },
  {
   "cell_type": "markdown",
   "id": "9a93c384",
   "metadata": {},
   "source": [
    "Dropping songs with \"Skit\" written in them. "
   ]
  },
  {
   "cell_type": "code",
   "execution_count": 14,
   "id": "1e7bd876",
   "metadata": {},
   "outputs": [],
   "source": [
    "# Removing Skits\n",
    "lyrical_df = lyrical_df[~lyrical_df[\"song\"].str.contains(\"Skit\")]"
   ]
  },
  {
   "cell_type": "markdown",
   "id": "c4a13749",
   "metadata": {},
   "source": [
    "#### Remixes"
   ]
  },
  {
   "cell_type": "code",
   "execution_count": 15,
   "id": "14a5985e",
   "metadata": {},
   "outputs": [],
   "source": [
    "# lyrical_df[lyrical_df[\"song\"].str.contains(\"remix\")]"
   ]
  },
  {
   "cell_type": "code",
   "execution_count": 16,
   "id": "4187920c",
   "metadata": {},
   "outputs": [],
   "source": [
    "# Check\n",
    "# lyrical_df[\"song\"][613]"
   ]
  },
  {
   "cell_type": "code",
   "execution_count": 17,
   "id": "41a7f64b",
   "metadata": {},
   "outputs": [],
   "source": [
    "# Check\n",
    "# lyrical_df[\"lyrics\"][613]"
   ]
  },
  {
   "cell_type": "markdown",
   "id": "53439e82",
   "metadata": {},
   "source": [
    "It just seems the song and lyrics column do have similarities. My focus will solely be on the lyrics column so I don't plan to drop anything."
   ]
  },
  {
   "cell_type": "markdown",
   "id": "3194b3ac",
   "metadata": {},
   "source": [
    "#### Duplicates"
   ]
  },
  {
   "cell_type": "code",
   "execution_count": 18,
   "id": "7dc64d2b",
   "metadata": {},
   "outputs": [
    {
     "name": "stderr",
     "output_type": "stream",
     "text": [
      "C:\\Users\\gsagararatne\\Anaconda3\\envs\\deeplearning\\lib\\site-packages\\pandas\\util\\_decorators.py:311: SettingWithCopyWarning: \n",
      "A value is trying to be set on a copy of a slice from a DataFrame\n",
      "\n",
      "See the caveats in the documentation: https://pandas.pydata.org/pandas-docs/stable/user_guide/indexing.html#returning-a-view-versus-a-copy\n",
      "  return func(*args, **kwargs)\n"
     ]
    }
   ],
   "source": [
    "# drop song duplicates\n",
    "lyrical_df.drop_duplicates(subset=\"song\", keep=False, inplace=True)\n",
    "                      \n",
    "# drop lyric duplicates\n",
    "lyrical_df.drop_duplicates(subset=\"lyrics\", keep=False, inplace=True)"
   ]
  },
  {
   "cell_type": "markdown",
   "id": "5391ab19",
   "metadata": {},
   "source": [
    "#### Instrumentals"
   ]
  },
  {
   "cell_type": "code",
   "execution_count": 19,
   "id": "6b3c2496",
   "metadata": {},
   "outputs": [
    {
     "data": {
      "text/html": [
       "<div>\n",
       "<style scoped>\n",
       "    .dataframe tbody tr th:only-of-type {\n",
       "        vertical-align: middle;\n",
       "    }\n",
       "\n",
       "    .dataframe tbody tr th {\n",
       "        vertical-align: top;\n",
       "    }\n",
       "\n",
       "    .dataframe thead th {\n",
       "        text-align: right;\n",
       "    }\n",
       "</style>\n",
       "<table border=\"1\" class=\"dataframe\">\n",
       "  <thead>\n",
       "    <tr style=\"text-align: right;\">\n",
       "      <th></th>\n",
       "      <th>lyrics</th>\n",
       "      <th>song</th>\n",
       "      <th>artist</th>\n",
       "    </tr>\n",
       "  </thead>\n",
       "  <tbody>\n",
       "    <tr>\n",
       "      <th>2137</th>\n",
       "      <td>{*ten seconds of instrumental to open*}\\n + (I...</td>\n",
       "      <td>\"Life in California\" by Ice Cube:\\n    {*ten s...</td>\n",
       "      <td>icecube</td>\n",
       "    </tr>\n",
       "  </tbody>\n",
       "</table>\n",
       "</div>"
      ],
      "text/plain": [
       "                                                 lyrics  \\\n",
       "2137  {*ten seconds of instrumental to open*}\\n + (I...   \n",
       "\n",
       "                                                   song   artist  \n",
       "2137  \"Life in California\" by Ice Cube:\\n    {*ten s...  icecube  "
      ]
     },
     "execution_count": 19,
     "metadata": {},
     "output_type": "execute_result"
    }
   ],
   "source": [
    "lyrical_df[lyrical_df[\"song\"].str.contains(\"instrumental\")]"
   ]
  },
  {
   "cell_type": "code",
   "execution_count": 20,
   "id": "d1474cc6",
   "metadata": {},
   "outputs": [],
   "source": [
    "# Removing Skits\n",
    "lyrical_df = lyrical_df[~lyrical_df[\"song\"].str.contains(\"instrumental\")]"
   ]
  },
  {
   "cell_type": "code",
   "execution_count": 21,
   "id": "19361b8c",
   "metadata": {},
   "outputs": [],
   "source": [
    "# Check\n",
    "# lyrical_df[\"song\"][2137]"
   ]
  },
  {
   "cell_type": "code",
   "execution_count": 22,
   "id": "ab255541",
   "metadata": {},
   "outputs": [],
   "source": [
    "# Check\n",
    "# lyrical_df[\"lyrics\"][2137]"
   ]
  },
  {
   "cell_type": "markdown",
   "id": "c1791656",
   "metadata": {},
   "source": [
    "Will delete the row that contains information about the song \"Life in California\" by Ice Cube just to save the hassle of cleaning the lyrics."
   ]
  },
  {
   "cell_type": "markdown",
   "id": "7f35eb02",
   "metadata": {},
   "source": [
    "#### Lyrics"
   ]
  },
  {
   "cell_type": "code",
   "execution_count": 23,
   "id": "d6a1655b",
   "metadata": {
    "scrolled": true
   },
   "outputs": [
    {
     "data": {
      "text/html": [
       "<div>\n",
       "<style scoped>\n",
       "    .dataframe tbody tr th:only-of-type {\n",
       "        vertical-align: middle;\n",
       "    }\n",
       "\n",
       "    .dataframe tbody tr th {\n",
       "        vertical-align: top;\n",
       "    }\n",
       "\n",
       "    .dataframe thead th {\n",
       "        text-align: right;\n",
       "    }\n",
       "</style>\n",
       "<table border=\"1\" class=\"dataframe\">\n",
       "  <thead>\n",
       "    <tr style=\"text-align: right;\">\n",
       "      <th></th>\n",
       "      <th>lyrics</th>\n",
       "      <th>song</th>\n",
       "      <th>artist</th>\n",
       "    </tr>\n",
       "  </thead>\n",
       "  <tbody>\n",
       "    <tr>\n",
       "      <th>2</th>\n",
       "      <td>Yeah, when I grow up, you know what I wanna be...</td>\n",
       "      <td>\"When I Grow Up\" by NF:\\n    Yeah, when I grow...</td>\n",
       "      <td>nf</td>\n",
       "    </tr>\n",
       "    <tr>\n",
       "      <th>12</th>\n",
       "      <td>Insidious is blind inception\\nWhat's reality w...</td>\n",
       "      <td>\"Mansion\" by NF:\\n    Insidious is blind incep...</td>\n",
       "      <td>nf</td>\n",
       "    </tr>\n",
       "    <tr>\n",
       "      <th>16</th>\n",
       "      <td>Look\\nSelf-awareness\\nPride's a coat and yes, ...</td>\n",
       "      <td>\"LOST\" by NF:\\n    Look\\n    Self-awareness\\n ...</td>\n",
       "      <td>nf</td>\n",
       "    </tr>\n",
       "    <tr>\n",
       "      <th>49</th>\n",
       "      <td>(Yeah!) I'm back, did anyone miss me?\\nThey sa...</td>\n",
       "      <td>\"Intro 2\" by NF:\\n    (Yeah!) I'm back, did an...</td>\n",
       "      <td>nf</td>\n",
       "    </tr>\n",
       "    <tr>\n",
       "      <th>71</th>\n",
       "      <td>I've been-I've been doin' this a long time. I ...</td>\n",
       "      <td>\"Motivated\" by NF:\\n    I've been-I've been do...</td>\n",
       "      <td>nf</td>\n",
       "    </tr>\n",
       "    <tr>\n",
       "      <th>...</th>\n",
       "      <td>...</td>\n",
       "      <td>...</td>\n",
       "      <td>...</td>\n",
       "    </tr>\n",
       "    <tr>\n",
       "      <th>3975</th>\n",
       "      <td>[Verse]\\nI met this girl at my show\\nShe went ...</td>\n",
       "      <td>\"Suitcase and a Passport\" by Token:\\n    [Vers...</td>\n",
       "      <td>token</td>\n",
       "    </tr>\n",
       "    <tr>\n",
       "      <th>3984</th>\n",
       "      <td>[Intro]\\nNow recently a lot of people have ope...</td>\n",
       "      <td>\"Mass Reform\" by Token:\\n    [Intro]\\n    Now ...</td>\n",
       "      <td>token</td>\n",
       "    </tr>\n",
       "    <tr>\n",
       "      <th>3985</th>\n",
       "      <td>[Intro]\\nShyea!\\n\\n[Verse 1]\\nCocky son of a s...</td>\n",
       "      <td>\"#BadMemory\" by Token:\\n    [Intro]\\n    Shyea...</td>\n",
       "      <td>token</td>\n",
       "    </tr>\n",
       "    <tr>\n",
       "      <th>4006</th>\n",
       "      <td>[Verse 1]: Token\\nWreckless flow spittin' loco...</td>\n",
       "      <td>\"Tnght Bugg’n Freestyle\" by Token:\\n    [Verse...</td>\n",
       "      <td>token</td>\n",
       "    </tr>\n",
       "    <tr>\n",
       "      <th>4020</th>\n",
       "      <td>[Intro:]\\nWho do you believe in?\\nWho do you b...</td>\n",
       "      <td>\"Who Do U Believe In?\" by Token:\\n    [Intro:]...</td>\n",
       "      <td>token</td>\n",
       "    </tr>\n",
       "  </tbody>\n",
       "</table>\n",
       "<p>124 rows × 3 columns</p>\n",
       "</div>"
      ],
      "text/plain": [
       "                                                 lyrics  \\\n",
       "2     Yeah, when I grow up, you know what I wanna be...   \n",
       "12    Insidious is blind inception\\nWhat's reality w...   \n",
       "16    Look\\nSelf-awareness\\nPride's a coat and yes, ...   \n",
       "49    (Yeah!) I'm back, did anyone miss me?\\nThey sa...   \n",
       "71    I've been-I've been doin' this a long time. I ...   \n",
       "...                                                 ...   \n",
       "3975  [Verse]\\nI met this girl at my show\\nShe went ...   \n",
       "3984  [Intro]\\nNow recently a lot of people have ope...   \n",
       "3985  [Intro]\\nShyea!\\n\\n[Verse 1]\\nCocky son of a s...   \n",
       "4006  [Verse 1]: Token\\nWreckless flow spittin' loco...   \n",
       "4020  [Intro:]\\nWho do you believe in?\\nWho do you b...   \n",
       "\n",
       "                                                   song artist  \n",
       "2     \"When I Grow Up\" by NF:\\n    Yeah, when I grow...     nf  \n",
       "12    \"Mansion\" by NF:\\n    Insidious is blind incep...     nf  \n",
       "16    \"LOST\" by NF:\\n    Look\\n    Self-awareness\\n ...     nf  \n",
       "49    \"Intro 2\" by NF:\\n    (Yeah!) I'm back, did an...     nf  \n",
       "71    \"Motivated\" by NF:\\n    I've been-I've been do...     nf  \n",
       "...                                                 ...    ...  \n",
       "3975  \"Suitcase and a Passport\" by Token:\\n    [Vers...  token  \n",
       "3984  \"Mass Reform\" by Token:\\n    [Intro]\\n    Now ...  token  \n",
       "3985  \"#BadMemory\" by Token:\\n    [Intro]\\n    Shyea...  token  \n",
       "4006  \"Tnght Bugg’n Freestyle\" by Token:\\n    [Verse...  token  \n",
       "4020  \"Who Do U Believe In?\" by Token:\\n    [Intro:]...  token  \n",
       "\n",
       "[124 rows x 3 columns]"
      ]
     },
     "execution_count": 23,
     "metadata": {},
     "output_type": "execute_result"
    }
   ],
   "source": [
    "lyrical_df[lyrical_df[\"lyrics\"].str.contains(\"lyrics\")]"
   ]
  },
  {
   "cell_type": "code",
   "execution_count": 24,
   "id": "35ace3e3",
   "metadata": {
    "scrolled": true
   },
   "outputs": [],
   "source": [
    "# check\n",
    "# lyrical_df[\"lyrics\"][2]"
   ]
  },
  {
   "cell_type": "code",
   "execution_count": 25,
   "id": "76bafda1",
   "metadata": {},
   "outputs": [],
   "source": [
    "# check\n",
    "# lyrical_df[\"lyrics\"][3975]"
   ]
  },
  {
   "cell_type": "markdown",
   "id": "e75eb146",
   "metadata": {},
   "source": [
    "Randomly checked 2 lines. The word \"Lyrics\" seemed to be used in verses. Will keep them."
   ]
  },
  {
   "cell_type": "markdown",
   "id": "4d1d9107",
   "metadata": {},
   "source": [
    "#### Adlibs and verse indication\n",
    "\n",
    "Removing lyrics inside square brackets. Mainly because they can be adlibs"
   ]
  },
  {
   "cell_type": "code",
   "execution_count": 26,
   "id": "e56272ef",
   "metadata": {},
   "outputs": [
    {
     "data": {
      "text/html": [
       "<div>\n",
       "<style scoped>\n",
       "    .dataframe tbody tr th:only-of-type {\n",
       "        vertical-align: middle;\n",
       "    }\n",
       "\n",
       "    .dataframe tbody tr th {\n",
       "        vertical-align: top;\n",
       "    }\n",
       "\n",
       "    .dataframe thead th {\n",
       "        text-align: right;\n",
       "    }\n",
       "</style>\n",
       "<table border=\"1\" class=\"dataframe\">\n",
       "  <thead>\n",
       "    <tr style=\"text-align: right;\">\n",
       "      <th></th>\n",
       "      <th>lyrics</th>\n",
       "      <th>song</th>\n",
       "      <th>artist</th>\n",
       "    </tr>\n",
       "  </thead>\n",
       "  <tbody>\n",
       "    <tr>\n",
       "      <th>0</th>\n",
       "      <td>Feels like we're on the edge right now\\nI wish...</td>\n",
       "      <td>\"Let You Down\" by NF:\\n    Feels like we're on...</td>\n",
       "      <td>nf</td>\n",
       "    </tr>\n",
       "    <tr>\n",
       "      <th>1</th>\n",
       "      <td>\"Hey, Nate, how's life?\"\\nI don’t know, it's a...</td>\n",
       "      <td>\"The Search\" by NF:\\n    \"Hey, Nate, how's lif...</td>\n",
       "      <td>nf</td>\n",
       "    </tr>\n",
       "    <tr>\n",
       "      <th>2</th>\n",
       "      <td>Yeah, when I grow up, you know what I wanna be...</td>\n",
       "      <td>\"When I Grow Up\" by NF:\\n    Yeah, when I grow...</td>\n",
       "      <td>nf</td>\n",
       "    </tr>\n",
       "    <tr>\n",
       "      <th>3</th>\n",
       "      <td>I heard you told your friends that I'm just no...</td>\n",
       "      <td>\"Lie\" by NF:\\n    I heard you told your friend...</td>\n",
       "      <td>nf</td>\n",
       "    </tr>\n",
       "    <tr>\n",
       "      <th>4</th>\n",
       "      <td>Clicks, clicks, clicks, they'll do anything to...</td>\n",
       "      <td>\"PAID MY DUES\" by NF:\\n    Clicks, clicks, cli...</td>\n",
       "      <td>nf</td>\n",
       "    </tr>\n",
       "    <tr>\n",
       "      <th>...</th>\n",
       "      <td>...</td>\n",
       "      <td>...</td>\n",
       "      <td>...</td>\n",
       "    </tr>\n",
       "    <tr>\n",
       "      <th>4023</th>\n",
       "      <td>[Verse 1]\\nToken goin' in, you can call the be...</td>\n",
       "      <td>\"Left Somethin’\" by Token:\\n    [Verse 1]\\n   ...</td>\n",
       "      <td>token</td>\n",
       "    </tr>\n",
       "    <tr>\n",
       "      <th>4024</th>\n",
       "      <td>[Chorus]\\nBack it up, back it up\\nFlow too cra...</td>\n",
       "      <td>\"Back It Up*\" by Token:\\n    [Chorus]\\n    Bac...</td>\n",
       "      <td>token</td>\n",
       "    </tr>\n",
       "    <tr>\n",
       "      <th>4025</th>\n",
       "      <td>[Verse: Token]\\nSeptember 24th 1998 was the ti...</td>\n",
       "      <td>\"Jurassic Cypher\" by Token:\\n    [Verse: Token...</td>\n",
       "      <td>token</td>\n",
       "    </tr>\n",
       "    <tr>\n",
       "      <th>4026</th>\n",
       "      <td>[Intro]\\nUh\\n\\n[Chorus]\\nIt's summer break, ye...</td>\n",
       "      <td>\"Summer Break\" by Token:\\n    [Intro]\\n    Uh\\...</td>\n",
       "      <td>token</td>\n",
       "    </tr>\n",
       "    <tr>\n",
       "      <th>4027</th>\n",
       "      <td>[Intro]\\nKato production\\n\\n[Chorus]\\nI don't ...</td>\n",
       "      <td>\"Yellow Tape\" by Token:\\n    [Intro]\\n    Kato...</td>\n",
       "      <td>token</td>\n",
       "    </tr>\n",
       "  </tbody>\n",
       "</table>\n",
       "<p>3768 rows × 3 columns</p>\n",
       "</div>"
      ],
      "text/plain": [
       "                                                 lyrics  \\\n",
       "0     Feels like we're on the edge right now\\nI wish...   \n",
       "1     \"Hey, Nate, how's life?\"\\nI don’t know, it's a...   \n",
       "2     Yeah, when I grow up, you know what I wanna be...   \n",
       "3     I heard you told your friends that I'm just no...   \n",
       "4     Clicks, clicks, clicks, they'll do anything to...   \n",
       "...                                                 ...   \n",
       "4023  [Verse 1]\\nToken goin' in, you can call the be...   \n",
       "4024  [Chorus]\\nBack it up, back it up\\nFlow too cra...   \n",
       "4025  [Verse: Token]\\nSeptember 24th 1998 was the ti...   \n",
       "4026  [Intro]\\nUh\\n\\n[Chorus]\\nIt's summer break, ye...   \n",
       "4027  [Intro]\\nKato production\\n\\n[Chorus]\\nI don't ...   \n",
       "\n",
       "                                                   song artist  \n",
       "0     \"Let You Down\" by NF:\\n    Feels like we're on...     nf  \n",
       "1     \"The Search\" by NF:\\n    \"Hey, Nate, how's lif...     nf  \n",
       "2     \"When I Grow Up\" by NF:\\n    Yeah, when I grow...     nf  \n",
       "3     \"Lie\" by NF:\\n    I heard you told your friend...     nf  \n",
       "4     \"PAID MY DUES\" by NF:\\n    Clicks, clicks, cli...     nf  \n",
       "...                                                 ...    ...  \n",
       "4023  \"Left Somethin’\" by Token:\\n    [Verse 1]\\n   ...  token  \n",
       "4024  \"Back It Up*\" by Token:\\n    [Chorus]\\n    Bac...  token  \n",
       "4025  \"Jurassic Cypher\" by Token:\\n    [Verse: Token...  token  \n",
       "4026  \"Summer Break\" by Token:\\n    [Intro]\\n    Uh\\...  token  \n",
       "4027  \"Yellow Tape\" by Token:\\n    [Intro]\\n    Kato...  token  \n",
       "\n",
       "[3768 rows x 3 columns]"
      ]
     },
     "execution_count": 26,
     "metadata": {},
     "output_type": "execute_result"
    }
   ],
   "source": [
    "lyrical_df"
   ]
  },
  {
   "cell_type": "code",
   "execution_count": 27,
   "id": "cb6b1936",
   "metadata": {},
   "outputs": [
    {
     "name": "stderr",
     "output_type": "stream",
     "text": [
      "<ipython-input-27-02eb47c9cd01>:2: FutureWarning: The default value of regex will change from True to False in a future version.\n",
      "  lyrical_df[\"lyrics\"] = lyrical_df[\"lyrics\"].str.replace(r\"\\((.*?)\\)\",\"\")\n"
     ]
    }
   ],
   "source": [
    "# Adlibs\n",
    "lyrical_df[\"lyrics\"] = lyrical_df[\"lyrics\"].str.replace(r\"\\((.*?)\\)\",\"\")"
   ]
  },
  {
   "cell_type": "code",
   "execution_count": 28,
   "id": "0f9a47ac",
   "metadata": {},
   "outputs": [
    {
     "name": "stderr",
     "output_type": "stream",
     "text": [
      "<ipython-input-28-0d36b7672fbe>:2: FutureWarning: The default value of regex will change from True to False in a future version.\n",
      "  lyrical_df[\"lyrics\"] = lyrical_df[\"lyrics\"].str.replace(\"\\[.*?\\]\",\"\")\n"
     ]
    }
   ],
   "source": [
    "# verse indications\n",
    "lyrical_df[\"lyrics\"] = lyrical_df[\"lyrics\"].str.replace(\"\\[.*?\\]\",\"\")"
   ]
  },
  {
   "cell_type": "code",
   "execution_count": 29,
   "id": "5750e345",
   "metadata": {},
   "outputs": [
    {
     "data": {
      "text/html": [
       "<div>\n",
       "<style scoped>\n",
       "    .dataframe tbody tr th:only-of-type {\n",
       "        vertical-align: middle;\n",
       "    }\n",
       "\n",
       "    .dataframe tbody tr th {\n",
       "        vertical-align: top;\n",
       "    }\n",
       "\n",
       "    .dataframe thead th {\n",
       "        text-align: right;\n",
       "    }\n",
       "</style>\n",
       "<table border=\"1\" class=\"dataframe\">\n",
       "  <thead>\n",
       "    <tr style=\"text-align: right;\">\n",
       "      <th></th>\n",
       "      <th>lyrics</th>\n",
       "      <th>song</th>\n",
       "      <th>artist</th>\n",
       "    </tr>\n",
       "  </thead>\n",
       "  <tbody>\n",
       "    <tr>\n",
       "      <th>0</th>\n",
       "      <td>Feels like we're on the edge right now\\nI wish...</td>\n",
       "      <td>\"Let You Down\" by NF:\\n    Feels like we're on...</td>\n",
       "      <td>nf</td>\n",
       "    </tr>\n",
       "    <tr>\n",
       "      <th>1</th>\n",
       "      <td>\"Hey, Nate, how's life?\"\\nI don’t know, it's a...</td>\n",
       "      <td>\"The Search\" by NF:\\n    \"Hey, Nate, how's lif...</td>\n",
       "      <td>nf</td>\n",
       "    </tr>\n",
       "    <tr>\n",
       "      <th>2</th>\n",
       "      <td>Yeah, when I grow up, you know what I wanna be...</td>\n",
       "      <td>\"When I Grow Up\" by NF:\\n    Yeah, when I grow...</td>\n",
       "      <td>nf</td>\n",
       "    </tr>\n",
       "    <tr>\n",
       "      <th>3</th>\n",
       "      <td>I heard you told your friends that I'm just no...</td>\n",
       "      <td>\"Lie\" by NF:\\n    I heard you told your friend...</td>\n",
       "      <td>nf</td>\n",
       "    </tr>\n",
       "    <tr>\n",
       "      <th>4</th>\n",
       "      <td>Clicks, clicks, clicks, they'll do anything to...</td>\n",
       "      <td>\"PAID MY DUES\" by NF:\\n    Clicks, clicks, cli...</td>\n",
       "      <td>nf</td>\n",
       "    </tr>\n",
       "    <tr>\n",
       "      <th>...</th>\n",
       "      <td>...</td>\n",
       "      <td>...</td>\n",
       "      <td>...</td>\n",
       "    </tr>\n",
       "    <tr>\n",
       "      <th>4023</th>\n",
       "      <td>\\nToken goin' in, you can call the beat a slot...</td>\n",
       "      <td>\"Left Somethin’\" by Token:\\n    [Verse 1]\\n   ...</td>\n",
       "      <td>token</td>\n",
       "    </tr>\n",
       "    <tr>\n",
       "      <th>4024</th>\n",
       "      <td>\\nBack it up, back it up\\nFlow too crack I'm c...</td>\n",
       "      <td>\"Back It Up*\" by Token:\\n    [Chorus]\\n    Bac...</td>\n",
       "      <td>token</td>\n",
       "    </tr>\n",
       "    <tr>\n",
       "      <th>4025</th>\n",
       "      <td>\\nSeptember 24th 1998 was the time that Satan ...</td>\n",
       "      <td>\"Jurassic Cypher\" by Token:\\n    [Verse: Token...</td>\n",
       "      <td>token</td>\n",
       "    </tr>\n",
       "    <tr>\n",
       "      <th>4026</th>\n",
       "      <td>\\nUh\\n\\n\\nIt's summer break, yeah it's summer ...</td>\n",
       "      <td>\"Summer Break\" by Token:\\n    [Intro]\\n    Uh\\...</td>\n",
       "      <td>token</td>\n",
       "    </tr>\n",
       "    <tr>\n",
       "      <th>4027</th>\n",
       "      <td>\\nKato production\\n\\n\\nI don't see no competit...</td>\n",
       "      <td>\"Yellow Tape\" by Token:\\n    [Intro]\\n    Kato...</td>\n",
       "      <td>token</td>\n",
       "    </tr>\n",
       "  </tbody>\n",
       "</table>\n",
       "<p>3768 rows × 3 columns</p>\n",
       "</div>"
      ],
      "text/plain": [
       "                                                 lyrics  \\\n",
       "0     Feels like we're on the edge right now\\nI wish...   \n",
       "1     \"Hey, Nate, how's life?\"\\nI don’t know, it's a...   \n",
       "2     Yeah, when I grow up, you know what I wanna be...   \n",
       "3     I heard you told your friends that I'm just no...   \n",
       "4     Clicks, clicks, clicks, they'll do anything to...   \n",
       "...                                                 ...   \n",
       "4023  \\nToken goin' in, you can call the beat a slot...   \n",
       "4024  \\nBack it up, back it up\\nFlow too crack I'm c...   \n",
       "4025  \\nSeptember 24th 1998 was the time that Satan ...   \n",
       "4026  \\nUh\\n\\n\\nIt's summer break, yeah it's summer ...   \n",
       "4027  \\nKato production\\n\\n\\nI don't see no competit...   \n",
       "\n",
       "                                                   song artist  \n",
       "0     \"Let You Down\" by NF:\\n    Feels like we're on...     nf  \n",
       "1     \"The Search\" by NF:\\n    \"Hey, Nate, how's lif...     nf  \n",
       "2     \"When I Grow Up\" by NF:\\n    Yeah, when I grow...     nf  \n",
       "3     \"Lie\" by NF:\\n    I heard you told your friend...     nf  \n",
       "4     \"PAID MY DUES\" by NF:\\n    Clicks, clicks, cli...     nf  \n",
       "...                                                 ...    ...  \n",
       "4023  \"Left Somethin’\" by Token:\\n    [Verse 1]\\n   ...  token  \n",
       "4024  \"Back It Up*\" by Token:\\n    [Chorus]\\n    Bac...  token  \n",
       "4025  \"Jurassic Cypher\" by Token:\\n    [Verse: Token...  token  \n",
       "4026  \"Summer Break\" by Token:\\n    [Intro]\\n    Uh\\...  token  \n",
       "4027  \"Yellow Tape\" by Token:\\n    [Intro]\\n    Kato...  token  \n",
       "\n",
       "[3768 rows x 3 columns]"
      ]
     },
     "execution_count": 29,
     "metadata": {},
     "output_type": "execute_result"
    }
   ],
   "source": [
    "lyrical_df"
   ]
  },
  {
   "cell_type": "markdown",
   "id": "c36bc228",
   "metadata": {},
   "source": [
    "#### Removing unwanted phrases\n",
    "I noticed that lyrics had \"EmbedShare URLCopyEmbedCopy\" plus 1 or more numbers prior to it at the end of the extracted lyrics. Removing those lines and replacing it with a space."
   ]
  },
  {
   "cell_type": "code",
   "execution_count": 30,
   "id": "56d8ccb1",
   "metadata": {},
   "outputs": [
    {
     "name": "stderr",
     "output_type": "stream",
     "text": [
      "<ipython-input-30-cf3ce80320f3>:1: FutureWarning: The default value of regex will change from True to False in a future version.\n",
      "  lyrical_df[\"lyrics\"] = lyrical_df[\"lyrics\"].str.replace(r\"[0-9]*EmbedShare URLCopyEmbedCopy\",\" \")\n"
     ]
    }
   ],
   "source": [
    "lyrical_df[\"lyrics\"] = lyrical_df[\"lyrics\"].str.replace(r\"[0-9]*EmbedShare URLCopyEmbedCopy\",\" \")"
   ]
  },
  {
   "cell_type": "markdown",
   "id": "1560a066",
   "metadata": {},
   "source": [
    "#### Non-english words"
   ]
  },
  {
   "cell_type": "code",
   "execution_count": 31,
   "id": "684c140e",
   "metadata": {},
   "outputs": [
    {
     "data": {
      "text/html": [
       "<div>\n",
       "<style scoped>\n",
       "    .dataframe tbody tr th:only-of-type {\n",
       "        vertical-align: middle;\n",
       "    }\n",
       "\n",
       "    .dataframe tbody tr th {\n",
       "        vertical-align: top;\n",
       "    }\n",
       "\n",
       "    .dataframe thead th {\n",
       "        text-align: right;\n",
       "    }\n",
       "</style>\n",
       "<table border=\"1\" class=\"dataframe\">\n",
       "  <thead>\n",
       "    <tr style=\"text-align: right;\">\n",
       "      <th></th>\n",
       "      <th>lyrics</th>\n",
       "      <th>song</th>\n",
       "      <th>artist</th>\n",
       "    </tr>\n",
       "  </thead>\n",
       "  <tbody>\n",
       "    <tr>\n",
       "      <th>2060</th>\n",
       "      <td>\\nهەڵیبێنم ئەمە چیە، ها؟\\nوابزانم ڕوون دیارە\\n...</td>\n",
       "      <td>\"Premonition (Intro) (Kurdish Subtitle)\" by Em...</td>\n",
       "      <td>eminem</td>\n",
       "    </tr>\n",
       "  </tbody>\n",
       "</table>\n",
       "</div>"
      ],
      "text/plain": [
       "                                                 lyrics  \\\n",
       "2060  \\nهەڵیبێنم ئەمە چیە، ها؟\\nوابزانم ڕوون دیارە\\n...   \n",
       "\n",
       "                                                   song  artist  \n",
       "2060  \"Premonition (Intro) (Kurdish Subtitle)\" by Em...  eminem  "
      ]
     },
     "execution_count": 31,
     "metadata": {},
     "output_type": "execute_result"
    }
   ],
   "source": [
    "lyrical_df[lyrical_df[\"lyrics\"].str.contains(\"خۆتان\")]"
   ]
  },
  {
   "cell_type": "code",
   "execution_count": 32,
   "id": "37defbd6",
   "metadata": {},
   "outputs": [
    {
     "data": {
      "text/html": [
       "<div>\n",
       "<style scoped>\n",
       "    .dataframe tbody tr th:only-of-type {\n",
       "        vertical-align: middle;\n",
       "    }\n",
       "\n",
       "    .dataframe tbody tr th {\n",
       "        vertical-align: top;\n",
       "    }\n",
       "\n",
       "    .dataframe thead th {\n",
       "        text-align: right;\n",
       "    }\n",
       "</style>\n",
       "<table border=\"1\" class=\"dataframe\">\n",
       "  <thead>\n",
       "    <tr style=\"text-align: right;\">\n",
       "      <th></th>\n",
       "      <th>lyrics</th>\n",
       "      <th>song</th>\n",
       "      <th>artist</th>\n",
       "    </tr>\n",
       "  </thead>\n",
       "  <tbody>\n",
       "    <tr>\n",
       "      <th>0</th>\n",
       "      <td>Feels like we're on the edge right now\\nI wish...</td>\n",
       "      <td>\"Let You Down\" by NF:\\n    Feels like we're on...</td>\n",
       "      <td>nf</td>\n",
       "    </tr>\n",
       "    <tr>\n",
       "      <th>1</th>\n",
       "      <td>\"Hey, Nate, how's life?\"\\nI don’t know, it's a...</td>\n",
       "      <td>\"The Search\" by NF:\\n    \"Hey, Nate, how's lif...</td>\n",
       "      <td>nf</td>\n",
       "    </tr>\n",
       "    <tr>\n",
       "      <th>2</th>\n",
       "      <td>Yeah, when I grow up, you know what I wanna be...</td>\n",
       "      <td>\"When I Grow Up\" by NF:\\n    Yeah, when I grow...</td>\n",
       "      <td>nf</td>\n",
       "    </tr>\n",
       "    <tr>\n",
       "      <th>3</th>\n",
       "      <td>I heard you told your friends that I'm just no...</td>\n",
       "      <td>\"Lie\" by NF:\\n    I heard you told your friend...</td>\n",
       "      <td>nf</td>\n",
       "    </tr>\n",
       "    <tr>\n",
       "      <th>4</th>\n",
       "      <td>Clicks, clicks, clicks, they'll do anything to...</td>\n",
       "      <td>\"PAID MY DUES\" by NF:\\n    Clicks, clicks, cli...</td>\n",
       "      <td>nf</td>\n",
       "    </tr>\n",
       "    <tr>\n",
       "      <th>...</th>\n",
       "      <td>...</td>\n",
       "      <td>...</td>\n",
       "      <td>...</td>\n",
       "    </tr>\n",
       "    <tr>\n",
       "      <th>4023</th>\n",
       "      <td>\\nToken goin' in, you can call the beat a slot...</td>\n",
       "      <td>\"Left Somethin’\" by Token:\\n    [Verse 1]\\n   ...</td>\n",
       "      <td>token</td>\n",
       "    </tr>\n",
       "    <tr>\n",
       "      <th>4024</th>\n",
       "      <td>\\nBack it up, back it up\\nFlow too crack I'm c...</td>\n",
       "      <td>\"Back It Up*\" by Token:\\n    [Chorus]\\n    Bac...</td>\n",
       "      <td>token</td>\n",
       "    </tr>\n",
       "    <tr>\n",
       "      <th>4025</th>\n",
       "      <td>\\nSeptember 24th 1998 was the time that Satan ...</td>\n",
       "      <td>\"Jurassic Cypher\" by Token:\\n    [Verse: Token...</td>\n",
       "      <td>token</td>\n",
       "    </tr>\n",
       "    <tr>\n",
       "      <th>4026</th>\n",
       "      <td>\\nUh\\n\\n\\nIt's summer break, yeah it's summer ...</td>\n",
       "      <td>\"Summer Break\" by Token:\\n    [Intro]\\n    Uh\\...</td>\n",
       "      <td>token</td>\n",
       "    </tr>\n",
       "    <tr>\n",
       "      <th>4027</th>\n",
       "      <td>\\nKato production\\n\\n\\nI don't see no competit...</td>\n",
       "      <td>\"Yellow Tape\" by Token:\\n    [Intro]\\n    Kato...</td>\n",
       "      <td>token</td>\n",
       "    </tr>\n",
       "  </tbody>\n",
       "</table>\n",
       "<p>3768 rows × 3 columns</p>\n",
       "</div>"
      ],
      "text/plain": [
       "                                                 lyrics  \\\n",
       "0     Feels like we're on the edge right now\\nI wish...   \n",
       "1     \"Hey, Nate, how's life?\"\\nI don’t know, it's a...   \n",
       "2     Yeah, when I grow up, you know what I wanna be...   \n",
       "3     I heard you told your friends that I'm just no...   \n",
       "4     Clicks, clicks, clicks, they'll do anything to...   \n",
       "...                                                 ...   \n",
       "4023  \\nToken goin' in, you can call the beat a slot...   \n",
       "4024  \\nBack it up, back it up\\nFlow too crack I'm c...   \n",
       "4025  \\nSeptember 24th 1998 was the time that Satan ...   \n",
       "4026  \\nUh\\n\\n\\nIt's summer break, yeah it's summer ...   \n",
       "4027  \\nKato production\\n\\n\\nI don't see no competit...   \n",
       "\n",
       "                                                   song artist  \n",
       "0     \"Let You Down\" by NF:\\n    Feels like we're on...     nf  \n",
       "1     \"The Search\" by NF:\\n    \"Hey, Nate, how's lif...     nf  \n",
       "2     \"When I Grow Up\" by NF:\\n    Yeah, when I grow...     nf  \n",
       "3     \"Lie\" by NF:\\n    I heard you told your friend...     nf  \n",
       "4     \"PAID MY DUES\" by NF:\\n    Clicks, clicks, cli...     nf  \n",
       "...                                                 ...    ...  \n",
       "4023  \"Left Somethin’\" by Token:\\n    [Verse 1]\\n   ...  token  \n",
       "4024  \"Back It Up*\" by Token:\\n    [Chorus]\\n    Bac...  token  \n",
       "4025  \"Jurassic Cypher\" by Token:\\n    [Verse: Token...  token  \n",
       "4026  \"Summer Break\" by Token:\\n    [Intro]\\n    Uh\\...  token  \n",
       "4027  \"Yellow Tape\" by Token:\\n    [Intro]\\n    Kato...  token  \n",
       "\n",
       "[3768 rows x 3 columns]"
      ]
     },
     "execution_count": 32,
     "metadata": {},
     "output_type": "execute_result"
    }
   ],
   "source": [
    "lyrical_df"
   ]
  },
  {
   "cell_type": "code",
   "execution_count": 33,
   "id": "55653b4b",
   "metadata": {},
   "outputs": [],
   "source": [
    "lyrical_df = lyrical_df[lyrical_df[\"lyrics\"].map(lambda x: x.isascii())]"
   ]
  },
  {
   "cell_type": "code",
   "execution_count": 34,
   "id": "dee17cdc",
   "metadata": {},
   "outputs": [
    {
     "data": {
      "text/html": [
       "<div>\n",
       "<style scoped>\n",
       "    .dataframe tbody tr th:only-of-type {\n",
       "        vertical-align: middle;\n",
       "    }\n",
       "\n",
       "    .dataframe tbody tr th {\n",
       "        vertical-align: top;\n",
       "    }\n",
       "\n",
       "    .dataframe thead th {\n",
       "        text-align: right;\n",
       "    }\n",
       "</style>\n",
       "<table border=\"1\" class=\"dataframe\">\n",
       "  <thead>\n",
       "    <tr style=\"text-align: right;\">\n",
       "      <th></th>\n",
       "      <th>lyrics</th>\n",
       "      <th>song</th>\n",
       "      <th>artist</th>\n",
       "    </tr>\n",
       "  </thead>\n",
       "  <tbody>\n",
       "    <tr>\n",
       "      <th>2</th>\n",
       "      <td>Yeah, when I grow up, you know what I wanna be...</td>\n",
       "      <td>\"When I Grow Up\" by NF:\\n    Yeah, when I grow...</td>\n",
       "      <td>nf</td>\n",
       "    </tr>\n",
       "    <tr>\n",
       "      <th>5</th>\n",
       "      <td>\\nHey!\\nLeave me alone\\n\\nPanic-stricken, hand...</td>\n",
       "      <td>\"Leave Me Alone\" by NF:\\n    (Yeah)\\n    Hey!\\...</td>\n",
       "      <td>nf</td>\n",
       "    </tr>\n",
       "    <tr>\n",
       "      <th>9</th>\n",
       "      <td>I just need some time, I'm tryna think straigh...</td>\n",
       "      <td>\"If You Want Love\" by NF:\\n    I just need som...</td>\n",
       "      <td>nf</td>\n",
       "    </tr>\n",
       "    <tr>\n",
       "      <th>11</th>\n",
       "      <td>How could you leave so unexpected?\\nWe waited,...</td>\n",
       "      <td>\"How Could You Leave Us\" by NF:\\n    How could...</td>\n",
       "      <td>nf</td>\n",
       "    </tr>\n",
       "    <tr>\n",
       "      <th>12</th>\n",
       "      <td>Insidious is blind inception\\nWhat's reality w...</td>\n",
       "      <td>\"Mansion\" by NF:\\n    Insidious is blind incep...</td>\n",
       "      <td>nf</td>\n",
       "    </tr>\n",
       "    <tr>\n",
       "      <th>...</th>\n",
       "      <td>...</td>\n",
       "      <td>...</td>\n",
       "      <td>...</td>\n",
       "    </tr>\n",
       "    <tr>\n",
       "      <th>4020</th>\n",
       "      <td>\\nWho do you believe in?\\nWho do you believe i...</td>\n",
       "      <td>\"Who Do U Believe In?\" by Token:\\n    [Intro:]...</td>\n",
       "      <td>token</td>\n",
       "    </tr>\n",
       "    <tr>\n",
       "      <th>4022</th>\n",
       "      <td>Productive, successful, I'm taught like that\\n...</td>\n",
       "      <td>\"Humble (Remix)\" by Token:\\n    Productive, su...</td>\n",
       "      <td>token</td>\n",
       "    </tr>\n",
       "    <tr>\n",
       "      <th>4023</th>\n",
       "      <td>\\nToken goin' in, you can call the beat a slot...</td>\n",
       "      <td>\"Left Somethin’\" by Token:\\n    [Verse 1]\\n   ...</td>\n",
       "      <td>token</td>\n",
       "    </tr>\n",
       "    <tr>\n",
       "      <th>4026</th>\n",
       "      <td>\\nUh\\n\\n\\nIt's summer break, yeah it's summer ...</td>\n",
       "      <td>\"Summer Break\" by Token:\\n    [Intro]\\n    Uh\\...</td>\n",
       "      <td>token</td>\n",
       "    </tr>\n",
       "    <tr>\n",
       "      <th>4027</th>\n",
       "      <td>\\nKato production\\n\\n\\nI don't see no competit...</td>\n",
       "      <td>\"Yellow Tape\" by Token:\\n    [Intro]\\n    Kato...</td>\n",
       "      <td>token</td>\n",
       "    </tr>\n",
       "  </tbody>\n",
       "</table>\n",
       "<p>2259 rows × 3 columns</p>\n",
       "</div>"
      ],
      "text/plain": [
       "                                                 lyrics  \\\n",
       "2     Yeah, when I grow up, you know what I wanna be...   \n",
       "5     \\nHey!\\nLeave me alone\\n\\nPanic-stricken, hand...   \n",
       "9     I just need some time, I'm tryna think straigh...   \n",
       "11    How could you leave so unexpected?\\nWe waited,...   \n",
       "12    Insidious is blind inception\\nWhat's reality w...   \n",
       "...                                                 ...   \n",
       "4020  \\nWho do you believe in?\\nWho do you believe i...   \n",
       "4022  Productive, successful, I'm taught like that\\n...   \n",
       "4023  \\nToken goin' in, you can call the beat a slot...   \n",
       "4026  \\nUh\\n\\n\\nIt's summer break, yeah it's summer ...   \n",
       "4027  \\nKato production\\n\\n\\nI don't see no competit...   \n",
       "\n",
       "                                                   song artist  \n",
       "2     \"When I Grow Up\" by NF:\\n    Yeah, when I grow...     nf  \n",
       "5     \"Leave Me Alone\" by NF:\\n    (Yeah)\\n    Hey!\\...     nf  \n",
       "9     \"If You Want Love\" by NF:\\n    I just need som...     nf  \n",
       "11    \"How Could You Leave Us\" by NF:\\n    How could...     nf  \n",
       "12    \"Mansion\" by NF:\\n    Insidious is blind incep...     nf  \n",
       "...                                                 ...    ...  \n",
       "4020  \"Who Do U Believe In?\" by Token:\\n    [Intro:]...  token  \n",
       "4022  \"Humble (Remix)\" by Token:\\n    Productive, su...  token  \n",
       "4023  \"Left Somethin’\" by Token:\\n    [Verse 1]\\n   ...  token  \n",
       "4026  \"Summer Break\" by Token:\\n    [Intro]\\n    Uh\\...  token  \n",
       "4027  \"Yellow Tape\" by Token:\\n    [Intro]\\n    Kato...  token  \n",
       "\n",
       "[2259 rows x 3 columns]"
      ]
     },
     "execution_count": 34,
     "metadata": {},
     "output_type": "execute_result"
    }
   ],
   "source": [
    "lyrical_df"
   ]
  },
  {
   "cell_type": "code",
   "execution_count": 35,
   "id": "d1488a4c",
   "metadata": {},
   "outputs": [
    {
     "data": {
      "text/html": [
       "<div>\n",
       "<style scoped>\n",
       "    .dataframe tbody tr th:only-of-type {\n",
       "        vertical-align: middle;\n",
       "    }\n",
       "\n",
       "    .dataframe tbody tr th {\n",
       "        vertical-align: top;\n",
       "    }\n",
       "\n",
       "    .dataframe thead th {\n",
       "        text-align: right;\n",
       "    }\n",
       "</style>\n",
       "<table border=\"1\" class=\"dataframe\">\n",
       "  <thead>\n",
       "    <tr style=\"text-align: right;\">\n",
       "      <th></th>\n",
       "      <th>lyrics</th>\n",
       "      <th>song</th>\n",
       "      <th>artist</th>\n",
       "    </tr>\n",
       "  </thead>\n",
       "  <tbody>\n",
       "  </tbody>\n",
       "</table>\n",
       "</div>"
      ],
      "text/plain": [
       "Empty DataFrame\n",
       "Columns: [lyrics, song, artist]\n",
       "Index: []"
      ]
     },
     "execution_count": 35,
     "metadata": {},
     "output_type": "execute_result"
    }
   ],
   "source": [
    "lyrical_df[lyrical_df[\"lyrics\"].str.contains(\"خۆتان\")]"
   ]
  },
  {
   "cell_type": "markdown",
   "id": "4ff3c958",
   "metadata": {},
   "source": [
    "#### Punctuation"
   ]
  },
  {
   "cell_type": "code",
   "execution_count": 36,
   "id": "40cb340d",
   "metadata": {
    "scrolled": true
   },
   "outputs": [
    {
     "name": "stderr",
     "output_type": "stream",
     "text": [
      "<ipython-input-36-ba96207683c9>:2: FutureWarning: The default value of regex will change from True to False in a future version.\n",
      "  lyrical_df[\"lyrics\"] = lyrical_df[\"lyrics\"].str.replace(\"[^\\w\\s]\",\"\")\n",
      "<ipython-input-36-ba96207683c9>:2: SettingWithCopyWarning: \n",
      "A value is trying to be set on a copy of a slice from a DataFrame.\n",
      "Try using .loc[row_indexer,col_indexer] = value instead\n",
      "\n",
      "See the caveats in the documentation: https://pandas.pydata.org/pandas-docs/stable/user_guide/indexing.html#returning-a-view-versus-a-copy\n",
      "  lyrical_df[\"lyrics\"] = lyrical_df[\"lyrics\"].str.replace(\"[^\\w\\s]\",\"\")\n"
     ]
    }
   ],
   "source": [
    "# Removing punctuation\n",
    "lyrical_df[\"lyrics\"] = lyrical_df[\"lyrics\"].str.replace(\"[^\\w\\s]\",\"\")"
   ]
  },
  {
   "cell_type": "markdown",
   "id": "dc89c58e",
   "metadata": {},
   "source": [
    "#### Removing cuss words\n",
    "Before I filter out the cuss words, I'll force the lyrics column to only contain lowered lettered so my filtering process is easier. That being said, I will not showcase the filtered out words to keep things as professional as possible. I'll just create a blocked out template with the variable **X** indicating the cuss word. "
   ]
  },
  {
   "cell_type": "code",
   "execution_count": 37,
   "id": "84c8e2d9",
   "metadata": {},
   "outputs": [
    {
     "name": "stderr",
     "output_type": "stream",
     "text": [
      "<ipython-input-37-db3d6a39f587>:2: SettingWithCopyWarning: \n",
      "A value is trying to be set on a copy of a slice from a DataFrame.\n",
      "Try using .loc[row_indexer,col_indexer] = value instead\n",
      "\n",
      "See the caveats in the documentation: https://pandas.pydata.org/pandas-docs/stable/user_guide/indexing.html#returning-a-view-versus-a-copy\n",
      "  lyrical_df[\"lyrics\"] = lyrical_df[\"lyrics\"].str.lower()\n"
     ]
    }
   ],
   "source": [
    "# lowering \n",
    "lyrical_df[\"lyrics\"] = lyrical_df[\"lyrics\"].str.lower()"
   ]
  },
  {
   "cell_type": "code",
   "execution_count": 38,
   "id": "c706b995",
   "metadata": {},
   "outputs": [],
   "source": [
    "# cuss word filtering\n",
    "# X = \"CUSS WORD\"\n",
    "# lyrical_df[\"lyrics\"] = lyrical_df[\"lyrics\"].str.replace(X,\"\")"
   ]
  },
  {
   "cell_type": "code",
   "execution_count": 39,
   "id": "c21c19ab",
   "metadata": {},
   "outputs": [],
   "source": [
    "# Check\n",
    "# lyrical_df[\"lyrics\"][1]"
   ]
  },
  {
   "cell_type": "markdown",
   "id": "e46ade4c",
   "metadata": {},
   "source": [
    "Finally done! I hope I've cleaned out all the cuss words out. Time to export this dataframe as a csv and start modelling!"
   ]
  },
  {
   "cell_type": "code",
   "execution_count": 74,
   "id": "194f8577",
   "metadata": {},
   "outputs": [
    {
     "name": "stdout",
     "output_type": "stream",
     "text": [
      "(2259, 3)\n",
      "0.560824230387289\n"
     ]
    }
   ],
   "source": [
    "print(lyrical_df.shape)\n",
    "\n",
    "print(2259/4028)"
   ]
  },
  {
   "cell_type": "markdown",
   "id": "ede2aae8",
   "metadata": {},
   "source": [
    "Started off with 4028 songs and have reduced the number to 2259. That's a retention of ~56.1%."
   ]
  },
  {
   "cell_type": "code",
   "execution_count": 67,
   "id": "4ca173ad",
   "metadata": {
    "scrolled": true
   },
   "outputs": [
    {
     "data": {
      "text/html": [
       "<div>\n",
       "<style scoped>\n",
       "    .dataframe tbody tr th:only-of-type {\n",
       "        vertical-align: middle;\n",
       "    }\n",
       "\n",
       "    .dataframe tbody tr th {\n",
       "        vertical-align: top;\n",
       "    }\n",
       "\n",
       "    .dataframe thead th {\n",
       "        text-align: right;\n",
       "    }\n",
       "</style>\n",
       "<table border=\"1\" class=\"dataframe\">\n",
       "  <thead>\n",
       "    <tr style=\"text-align: right;\">\n",
       "      <th></th>\n",
       "      <th>lyrics</th>\n",
       "      <th>song</th>\n",
       "      <th>artist</th>\n",
       "    </tr>\n",
       "  </thead>\n",
       "  <tbody>\n",
       "    <tr>\n",
       "      <th>2</th>\n",
       "      <td>yeah when i grow up you know what i wanna be\\n...</td>\n",
       "      <td>\"When I Grow Up\" by NF:\\n    Yeah, when I grow...</td>\n",
       "      <td>nf</td>\n",
       "    </tr>\n",
       "    <tr>\n",
       "      <th>5</th>\n",
       "      <td>\\nhey\\nleave me alone\\n\\npanicstricken handle ...</td>\n",
       "      <td>\"Leave Me Alone\" by NF:\\n    (Yeah)\\n    Hey!\\...</td>\n",
       "      <td>nf</td>\n",
       "    </tr>\n",
       "    <tr>\n",
       "      <th>9</th>\n",
       "      <td>i just need some time im tryna think straight\\...</td>\n",
       "      <td>\"If You Want Love\" by NF:\\n    I just need som...</td>\n",
       "      <td>nf</td>\n",
       "    </tr>\n",
       "    <tr>\n",
       "      <th>11</th>\n",
       "      <td>how could you leave so unexpected\\nwe waited w...</td>\n",
       "      <td>\"How Could You Leave Us\" by NF:\\n    How could...</td>\n",
       "      <td>nf</td>\n",
       "    </tr>\n",
       "    <tr>\n",
       "      <th>12</th>\n",
       "      <td>insidious is blind inception\\nwhats reality wi...</td>\n",
       "      <td>\"Mansion\" by NF:\\n    Insidious is blind incep...</td>\n",
       "      <td>nf</td>\n",
       "    </tr>\n",
       "    <tr>\n",
       "      <th>...</th>\n",
       "      <td>...</td>\n",
       "      <td>...</td>\n",
       "      <td>...</td>\n",
       "    </tr>\n",
       "    <tr>\n",
       "      <th>4020</th>\n",
       "      <td>\\nwho do you believe in\\nwho do you believe in...</td>\n",
       "      <td>\"Who Do U Believe In?\" by Token:\\n    [Intro:]...</td>\n",
       "      <td>token</td>\n",
       "    </tr>\n",
       "    <tr>\n",
       "      <th>4022</th>\n",
       "      <td>productive successful im taught like that\\ngir...</td>\n",
       "      <td>\"Humble (Remix)\" by Token:\\n    Productive, su...</td>\n",
       "      <td>token</td>\n",
       "    </tr>\n",
       "    <tr>\n",
       "      <th>4023</th>\n",
       "      <td>\\ntoken goin in you can call the beat a slot m...</td>\n",
       "      <td>\"Left Somethin’\" by Token:\\n    [Verse 1]\\n   ...</td>\n",
       "      <td>token</td>\n",
       "    </tr>\n",
       "    <tr>\n",
       "      <th>4026</th>\n",
       "      <td>\\nuh\\n\\n\\nits summer break yeah its summer bre...</td>\n",
       "      <td>\"Summer Break\" by Token:\\n    [Intro]\\n    Uh\\...</td>\n",
       "      <td>token</td>\n",
       "    </tr>\n",
       "    <tr>\n",
       "      <th>4027</th>\n",
       "      <td>\\nkato production\\n\\n\\ni dont see no competiti...</td>\n",
       "      <td>\"Yellow Tape\" by Token:\\n    [Intro]\\n    Kato...</td>\n",
       "      <td>token</td>\n",
       "    </tr>\n",
       "  </tbody>\n",
       "</table>\n",
       "<p>2259 rows × 3 columns</p>\n",
       "</div>"
      ],
      "text/plain": [
       "                                                 lyrics  \\\n",
       "2     yeah when i grow up you know what i wanna be\\n...   \n",
       "5     \\nhey\\nleave me alone\\n\\npanicstricken handle ...   \n",
       "9     i just need some time im tryna think straight\\...   \n",
       "11    how could you leave so unexpected\\nwe waited w...   \n",
       "12    insidious is blind inception\\nwhats reality wi...   \n",
       "...                                                 ...   \n",
       "4020  \\nwho do you believe in\\nwho do you believe in...   \n",
       "4022  productive successful im taught like that\\ngir...   \n",
       "4023  \\ntoken goin in you can call the beat a slot m...   \n",
       "4026  \\nuh\\n\\n\\nits summer break yeah its summer bre...   \n",
       "4027  \\nkato production\\n\\n\\ni dont see no competiti...   \n",
       "\n",
       "                                                   song artist  \n",
       "2     \"When I Grow Up\" by NF:\\n    Yeah, when I grow...     nf  \n",
       "5     \"Leave Me Alone\" by NF:\\n    (Yeah)\\n    Hey!\\...     nf  \n",
       "9     \"If You Want Love\" by NF:\\n    I just need som...     nf  \n",
       "11    \"How Could You Leave Us\" by NF:\\n    How could...     nf  \n",
       "12    \"Mansion\" by NF:\\n    Insidious is blind incep...     nf  \n",
       "...                                                 ...    ...  \n",
       "4020  \"Who Do U Believe In?\" by Token:\\n    [Intro:]...  token  \n",
       "4022  \"Humble (Remix)\" by Token:\\n    Productive, su...  token  \n",
       "4023  \"Left Somethin’\" by Token:\\n    [Verse 1]\\n   ...  token  \n",
       "4026  \"Summer Break\" by Token:\\n    [Intro]\\n    Uh\\...  token  \n",
       "4027  \"Yellow Tape\" by Token:\\n    [Intro]\\n    Kato...  token  \n",
       "\n",
       "[2259 rows x 3 columns]"
      ]
     },
     "execution_count": 67,
     "metadata": {},
     "output_type": "execute_result"
    }
   ],
   "source": [
    "lyrical_df"
   ]
  },
  {
   "cell_type": "markdown",
   "id": "46c68e87",
   "metadata": {},
   "source": [
    "#### Blank spaces and lines"
   ]
  },
  {
   "cell_type": "code",
   "execution_count": 68,
   "id": "624a17dc",
   "metadata": {},
   "outputs": [
    {
     "data": {
      "text/html": [
       "<div>\n",
       "<style scoped>\n",
       "    .dataframe tbody tr th:only-of-type {\n",
       "        vertical-align: middle;\n",
       "    }\n",
       "\n",
       "    .dataframe tbody tr th {\n",
       "        vertical-align: top;\n",
       "    }\n",
       "\n",
       "    .dataframe thead th {\n",
       "        text-align: right;\n",
       "    }\n",
       "</style>\n",
       "<table border=\"1\" class=\"dataframe\">\n",
       "  <thead>\n",
       "    <tr style=\"text-align: right;\">\n",
       "      <th></th>\n",
       "      <th>lyrics</th>\n",
       "      <th>song</th>\n",
       "      <th>artist</th>\n",
       "    </tr>\n",
       "  </thead>\n",
       "  <tbody>\n",
       "    <tr>\n",
       "      <th>2</th>\n",
       "      <td>yeah when i grow up you know what i wanna be\\n...</td>\n",
       "      <td>\"When I Grow Up\" by NF:\\n    Yeah, when I grow...</td>\n",
       "      <td>nf</td>\n",
       "    </tr>\n",
       "    <tr>\n",
       "      <th>5</th>\n",
       "      <td>\\nhey\\nleave me alone\\n\\npanicstricken handle ...</td>\n",
       "      <td>\"Leave Me Alone\" by NF:\\n    (Yeah)\\n    Hey!\\...</td>\n",
       "      <td>nf</td>\n",
       "    </tr>\n",
       "    <tr>\n",
       "      <th>9</th>\n",
       "      <td>i just need some time im tryna think straight\\...</td>\n",
       "      <td>\"If You Want Love\" by NF:\\n    I just need som...</td>\n",
       "      <td>nf</td>\n",
       "    </tr>\n",
       "    <tr>\n",
       "      <th>11</th>\n",
       "      <td>how could you leave so unexpected\\nwe waited w...</td>\n",
       "      <td>\"How Could You Leave Us\" by NF:\\n    How could...</td>\n",
       "      <td>nf</td>\n",
       "    </tr>\n",
       "    <tr>\n",
       "      <th>12</th>\n",
       "      <td>insidious is blind inception\\nwhats reality wi...</td>\n",
       "      <td>\"Mansion\" by NF:\\n    Insidious is blind incep...</td>\n",
       "      <td>nf</td>\n",
       "    </tr>\n",
       "    <tr>\n",
       "      <th>...</th>\n",
       "      <td>...</td>\n",
       "      <td>...</td>\n",
       "      <td>...</td>\n",
       "    </tr>\n",
       "    <tr>\n",
       "      <th>4020</th>\n",
       "      <td>\\nwho do you believe in\\nwho do you believe in...</td>\n",
       "      <td>\"Who Do U Believe In?\" by Token:\\n    [Intro:]...</td>\n",
       "      <td>token</td>\n",
       "    </tr>\n",
       "    <tr>\n",
       "      <th>4022</th>\n",
       "      <td>productive successful im taught like that\\ngir...</td>\n",
       "      <td>\"Humble (Remix)\" by Token:\\n    Productive, su...</td>\n",
       "      <td>token</td>\n",
       "    </tr>\n",
       "    <tr>\n",
       "      <th>4023</th>\n",
       "      <td>\\ntoken goin in you can call the beat a slot m...</td>\n",
       "      <td>\"Left Somethin’\" by Token:\\n    [Verse 1]\\n   ...</td>\n",
       "      <td>token</td>\n",
       "    </tr>\n",
       "    <tr>\n",
       "      <th>4026</th>\n",
       "      <td>\\nuh\\n\\n\\nits summer break yeah its summer bre...</td>\n",
       "      <td>\"Summer Break\" by Token:\\n    [Intro]\\n    Uh\\...</td>\n",
       "      <td>token</td>\n",
       "    </tr>\n",
       "    <tr>\n",
       "      <th>4027</th>\n",
       "      <td>\\nkato production\\n\\n\\ni dont see no competiti...</td>\n",
       "      <td>\"Yellow Tape\" by Token:\\n    [Intro]\\n    Kato...</td>\n",
       "      <td>token</td>\n",
       "    </tr>\n",
       "  </tbody>\n",
       "</table>\n",
       "<p>2259 rows × 3 columns</p>\n",
       "</div>"
      ],
      "text/plain": [
       "                                                 lyrics  \\\n",
       "2     yeah when i grow up you know what i wanna be\\n...   \n",
       "5     \\nhey\\nleave me alone\\n\\npanicstricken handle ...   \n",
       "9     i just need some time im tryna think straight\\...   \n",
       "11    how could you leave so unexpected\\nwe waited w...   \n",
       "12    insidious is blind inception\\nwhats reality wi...   \n",
       "...                                                 ...   \n",
       "4020  \\nwho do you believe in\\nwho do you believe in...   \n",
       "4022  productive successful im taught like that\\ngir...   \n",
       "4023  \\ntoken goin in you can call the beat a slot m...   \n",
       "4026  \\nuh\\n\\n\\nits summer break yeah its summer bre...   \n",
       "4027  \\nkato production\\n\\n\\ni dont see no competiti...   \n",
       "\n",
       "                                                   song artist  \n",
       "2     \"When I Grow Up\" by NF:\\n    Yeah, when I grow...     nf  \n",
       "5     \"Leave Me Alone\" by NF:\\n    (Yeah)\\n    Hey!\\...     nf  \n",
       "9     \"If You Want Love\" by NF:\\n    I just need som...     nf  \n",
       "11    \"How Could You Leave Us\" by NF:\\n    How could...     nf  \n",
       "12    \"Mansion\" by NF:\\n    Insidious is blind incep...     nf  \n",
       "...                                                 ...    ...  \n",
       "4020  \"Who Do U Believe In?\" by Token:\\n    [Intro:]...  token  \n",
       "4022  \"Humble (Remix)\" by Token:\\n    Productive, su...  token  \n",
       "4023  \"Left Somethin’\" by Token:\\n    [Verse 1]\\n   ...  token  \n",
       "4026  \"Summer Break\" by Token:\\n    [Intro]\\n    Uh\\...  token  \n",
       "4027  \"Yellow Tape\" by Token:\\n    [Intro]\\n    Kato...  token  \n",
       "\n",
       "[2259 rows x 3 columns]"
      ]
     },
     "execution_count": 68,
     "metadata": {},
     "output_type": "execute_result"
    }
   ],
   "source": [
    "lyrical_df"
   ]
  },
  {
   "cell_type": "code",
   "execution_count": 69,
   "id": "05f41694",
   "metadata": {},
   "outputs": [
    {
     "name": "stderr",
     "output_type": "stream",
     "text": [
      "<ipython-input-69-6a40e9e38a21>:2: SettingWithCopyWarning: \n",
      "A value is trying to be set on a copy of a slice from a DataFrame.\n",
      "Try using .loc[row_indexer,col_indexer] = value instead\n",
      "\n",
      "See the caveats in the documentation: https://pandas.pydata.org/pandas-docs/stable/user_guide/indexing.html#returning-a-view-versus-a-copy\n",
      "  lyrical_df[\"lyrics\"] = lyrical_df[\"lyrics\"].str.replace(\"\\n\",\" \")\n"
     ]
    }
   ],
   "source": [
    "# Removing blank lines\n",
    "lyrical_df[\"lyrics\"] = lyrical_df[\"lyrics\"].str.replace(\"\\n\",\" \")"
   ]
  },
  {
   "cell_type": "code",
   "execution_count": 70,
   "id": "c2c76bd5",
   "metadata": {
    "scrolled": true
   },
   "outputs": [
    {
     "name": "stderr",
     "output_type": "stream",
     "text": [
      "<ipython-input-70-0b4be70d2d06>:2: FutureWarning: The default value of regex will change from True to False in a future version.\n",
      "  lyrical_df[\"lyrics\"] = lyrical_df[\"lyrics\"].str.replace(r\"[ ]{2,}\",\" \")\n",
      "<ipython-input-70-0b4be70d2d06>:2: SettingWithCopyWarning: \n",
      "A value is trying to be set on a copy of a slice from a DataFrame.\n",
      "Try using .loc[row_indexer,col_indexer] = value instead\n",
      "\n",
      "See the caveats in the documentation: https://pandas.pydata.org/pandas-docs/stable/user_guide/indexing.html#returning-a-view-versus-a-copy\n",
      "  lyrical_df[\"lyrics\"] = lyrical_df[\"lyrics\"].str.replace(r\"[ ]{2,}\",\" \")\n"
     ]
    }
   ],
   "source": [
    "# Removing blank spaces\n",
    "lyrical_df[\"lyrics\"] = lyrical_df[\"lyrics\"].str.replace(r\"[ ]{2,}\",\" \")"
   ]
  },
  {
   "cell_type": "code",
   "execution_count": 71,
   "id": "8e1b8db8",
   "metadata": {},
   "outputs": [
    {
     "data": {
      "text/html": [
       "<div>\n",
       "<style scoped>\n",
       "    .dataframe tbody tr th:only-of-type {\n",
       "        vertical-align: middle;\n",
       "    }\n",
       "\n",
       "    .dataframe tbody tr th {\n",
       "        vertical-align: top;\n",
       "    }\n",
       "\n",
       "    .dataframe thead th {\n",
       "        text-align: right;\n",
       "    }\n",
       "</style>\n",
       "<table border=\"1\" class=\"dataframe\">\n",
       "  <thead>\n",
       "    <tr style=\"text-align: right;\">\n",
       "      <th></th>\n",
       "      <th>lyrics</th>\n",
       "      <th>song</th>\n",
       "      <th>artist</th>\n",
       "    </tr>\n",
       "  </thead>\n",
       "  <tbody>\n",
       "    <tr>\n",
       "      <th>2</th>\n",
       "      <td>yeah when i grow up you know what i wanna be t...</td>\n",
       "      <td>\"When I Grow Up\" by NF:\\n    Yeah, when I grow...</td>\n",
       "      <td>nf</td>\n",
       "    </tr>\n",
       "    <tr>\n",
       "      <th>5</th>\n",
       "      <td>hey leave me alone panicstricken handle busin...</td>\n",
       "      <td>\"Leave Me Alone\" by NF:\\n    (Yeah)\\n    Hey!\\...</td>\n",
       "      <td>nf</td>\n",
       "    </tr>\n",
       "    <tr>\n",
       "      <th>9</th>\n",
       "      <td>i just need some time im tryna think straight ...</td>\n",
       "      <td>\"If You Want Love\" by NF:\\n    I just need som...</td>\n",
       "      <td>nf</td>\n",
       "    </tr>\n",
       "    <tr>\n",
       "      <th>11</th>\n",
       "      <td>how could you leave so unexpected we waited we...</td>\n",
       "      <td>\"How Could You Leave Us\" by NF:\\n    How could...</td>\n",
       "      <td>nf</td>\n",
       "    </tr>\n",
       "    <tr>\n",
       "      <th>12</th>\n",
       "      <td>insidious is blind inception whats reality wit...</td>\n",
       "      <td>\"Mansion\" by NF:\\n    Insidious is blind incep...</td>\n",
       "      <td>nf</td>\n",
       "    </tr>\n",
       "    <tr>\n",
       "      <th>...</th>\n",
       "      <td>...</td>\n",
       "      <td>...</td>\n",
       "      <td>...</td>\n",
       "    </tr>\n",
       "    <tr>\n",
       "      <th>4020</th>\n",
       "      <td>who do you believe in who do you believe in i...</td>\n",
       "      <td>\"Who Do U Believe In?\" by Token:\\n    [Intro:]...</td>\n",
       "      <td>token</td>\n",
       "    </tr>\n",
       "    <tr>\n",
       "      <th>4022</th>\n",
       "      <td>productive successful im taught like that girl...</td>\n",
       "      <td>\"Humble (Remix)\" by Token:\\n    Productive, su...</td>\n",
       "      <td>token</td>\n",
       "    </tr>\n",
       "    <tr>\n",
       "      <th>4023</th>\n",
       "      <td>token goin in you can call the beat a slot ma...</td>\n",
       "      <td>\"Left Somethin’\" by Token:\\n    [Verse 1]\\n   ...</td>\n",
       "      <td>token</td>\n",
       "    </tr>\n",
       "    <tr>\n",
       "      <th>4026</th>\n",
       "      <td>uh its summer break yeah its summer break the...</td>\n",
       "      <td>\"Summer Break\" by Token:\\n    [Intro]\\n    Uh\\...</td>\n",
       "      <td>token</td>\n",
       "    </tr>\n",
       "    <tr>\n",
       "      <th>4027</th>\n",
       "      <td>kato production i dont see no competition i s...</td>\n",
       "      <td>\"Yellow Tape\" by Token:\\n    [Intro]\\n    Kato...</td>\n",
       "      <td>token</td>\n",
       "    </tr>\n",
       "  </tbody>\n",
       "</table>\n",
       "<p>2259 rows × 3 columns</p>\n",
       "</div>"
      ],
      "text/plain": [
       "                                                 lyrics  \\\n",
       "2     yeah when i grow up you know what i wanna be t...   \n",
       "5      hey leave me alone panicstricken handle busin...   \n",
       "9     i just need some time im tryna think straight ...   \n",
       "11    how could you leave so unexpected we waited we...   \n",
       "12    insidious is blind inception whats reality wit...   \n",
       "...                                                 ...   \n",
       "4020   who do you believe in who do you believe in i...   \n",
       "4022  productive successful im taught like that girl...   \n",
       "4023   token goin in you can call the beat a slot ma...   \n",
       "4026   uh its summer break yeah its summer break the...   \n",
       "4027   kato production i dont see no competition i s...   \n",
       "\n",
       "                                                   song artist  \n",
       "2     \"When I Grow Up\" by NF:\\n    Yeah, when I grow...     nf  \n",
       "5     \"Leave Me Alone\" by NF:\\n    (Yeah)\\n    Hey!\\...     nf  \n",
       "9     \"If You Want Love\" by NF:\\n    I just need som...     nf  \n",
       "11    \"How Could You Leave Us\" by NF:\\n    How could...     nf  \n",
       "12    \"Mansion\" by NF:\\n    Insidious is blind incep...     nf  \n",
       "...                                                 ...    ...  \n",
       "4020  \"Who Do U Believe In?\" by Token:\\n    [Intro:]...  token  \n",
       "4022  \"Humble (Remix)\" by Token:\\n    Productive, su...  token  \n",
       "4023  \"Left Somethin’\" by Token:\\n    [Verse 1]\\n   ...  token  \n",
       "4026  \"Summer Break\" by Token:\\n    [Intro]\\n    Uh\\...  token  \n",
       "4027  \"Yellow Tape\" by Token:\\n    [Intro]\\n    Kato...  token  \n",
       "\n",
       "[2259 rows x 3 columns]"
      ]
     },
     "execution_count": 71,
     "metadata": {},
     "output_type": "execute_result"
    }
   ],
   "source": [
    "lyrical_df"
   ]
  },
  {
   "cell_type": "markdown",
   "id": "656e7e2a",
   "metadata": {},
   "source": [
    "### Exporting dataframe into csv"
   ]
  },
  {
   "cell_type": "code",
   "execution_count": 72,
   "id": "e9264bab",
   "metadata": {},
   "outputs": [],
   "source": [
    "lyrical_df.to_csv(\"clean_lyrical_df.csv\")"
   ]
  }
 ],
 "metadata": {
  "kernelspec": {
   "display_name": "Python 3",
   "language": "python",
   "name": "python3"
  },
  "language_info": {
   "codemirror_mode": {
    "name": "ipython",
    "version": 3
   },
   "file_extension": ".py",
   "mimetype": "text/x-python",
   "name": "python",
   "nbconvert_exporter": "python",
   "pygments_lexer": "ipython3",
   "version": "3.8.10"
  },
  "toc": {
   "base_numbering": 1,
   "nav_menu": {},
   "number_sections": true,
   "sideBar": true,
   "skip_h1_title": false,
   "title_cell": "Table of Contents",
   "title_sidebar": "Contents",
   "toc_cell": true,
   "toc_position": {
    "height": "calc(100% - 180px)",
    "left": "10px",
    "top": "150px",
    "width": "349.091px"
   },
   "toc_section_display": true,
   "toc_window_display": false
  }
 },
 "nbformat": 4,
 "nbformat_minor": 5
}
