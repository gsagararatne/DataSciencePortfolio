{
 "cells": [
  {
   "cell_type": "markdown",
   "id": "966af5e2",
   "metadata": {
    "toc": true
   },
   "source": [
    "<h1>Table of Contents<span class=\"tocSkip\"></span></h1>\n",
    "<div class=\"toc\"><ul class=\"toc-item\"><li><span><a href=\"#Scope\" data-toc-modified-id=\"Scope-1\"><span class=\"toc-item-num\">1&nbsp;&nbsp;</span>Scope</a></span></li><li><span><a href=\"#Import-libraries\" data-toc-modified-id=\"Import-libraries-2\"><span class=\"toc-item-num\">2&nbsp;&nbsp;</span>Import libraries</a></span></li><li><span><a href=\"#Website's-permission\" data-toc-modified-id=\"Website's-permission-3\"><span class=\"toc-item-num\">3&nbsp;&nbsp;</span>Website's permission</a></span></li><li><span><a href=\"#WebScraping\" data-toc-modified-id=\"WebScraping-4\"><span class=\"toc-item-num\">4&nbsp;&nbsp;</span>WebScraping</a></span></li></ul></div>"
   ]
  },
  {
   "cell_type": "markdown",
   "id": "eac7ca3e",
   "metadata": {},
   "source": [
    "### Scope\n",
    "\n",
    "In this JupyterNotebook, I plan to extract the names of the rappers and their song names in the form of urls from AZ-lyrics. This is will be done through **Selenium**.\n",
    "\n",
    "I didn't have to reinvent the wheel for this webscraping notebook since I found this [notebook](https://github.com/aakashbansal/Songs-Lyrics-Web-Scraper/blob/master/Songs%20Names%20Scraper.ipynb), and reused a bit of my old code from this [webscraping notebook](https://github.com/gsagararatne/DataSciencePortfolio/blob/main/PythonWebScraping/ScrapingASong/WebScrapingASong.ipynb).\n",
    "\n",
    "### Import libraries"
   ]
  },
  {
   "cell_type": "code",
   "execution_count": 8,
   "id": "1bba262e",
   "metadata": {},
   "outputs": [],
   "source": [
    "from urllib.request import urlopen\n",
    "from bs4 import BeautifulSoup\n",
    "from time import sleep\n",
    "import csv\n",
    "import json\n",
    "import re\n",
    "\n",
    "from selenium.webdriver.support.ui import WebDriverWait\n",
    "from selenium.webdriver.support import expected_conditions\n",
    "from selenium.webdriver.common.by import By\n",
    "from seleniumwire import webdriver\n",
    "from webdriver_manager.chrome import ChromeDriverManager\n",
    "from selenium.webdriver.common.by import By"
   ]
  },
  {
   "cell_type": "markdown",
   "id": "25735c5a",
   "metadata": {},
   "source": [
    "### Website's permission"
   ]
  },
  {
   "cell_type": "markdown",
   "id": "43dd6bea",
   "metadata": {},
   "source": [
    "This is done by adding robots.txt to the end of a website's url. https://www.azlyrics.com/robots.txt"
   ]
  },
  {
   "cell_type": "markdown",
   "id": "f26396f7",
   "metadata": {},
   "source": [
    "### WebScraping"
   ]
  },
  {
   "cell_type": "markdown",
   "id": "10be6132",
   "metadata": {},
   "source": [
    "Something that I noticed was the url's format: https://www.azlyrics.com/{1}/{2}.html\n",
    "\n",
    "Where {1} is the first letter of the artist's name and {2} is the name of the artist."
   ]
  },
  {
   "cell_type": "code",
   "execution_count": 10,
   "id": "6fa7e93f",
   "metadata": {},
   "outputs": [],
   "source": [
    "# url to scrape the songs list from\n",
    "base_url = \"https://www.azlyrics.com/{}/{}.html\"\n",
    "\n",
    "# lyrical rap artist list\n",
    "lyrical_artists = [\"Hopsin\",\"NF\",\"TI\",\"anderson-paak\",\n",
    "                   \"andre3000\",\"bigl\",\"bigsean\",\"blackthought\",\"busta\",\n",
    "                   \"chancetherapper\",\"YBNCordae\",\"denzelcurry\",\n",
    "                   \"eminem\",\"icecube\",\"jayz\",\"jcole\",\"joynerlucas\",\n",
    "                   \"kendricklamar\",\"lildicky\",\"lilwayne\",\"logic\",\n",
    "                   \"macklemore\",\"marloncraft\",\"meekmill\",\"methodman\",\n",
    "                   \"mfdoom\",\"mosdef\",\"nas\",\"natedogg\",\"nipseyhussle\",\n",
    "                   \"notorious\",\"pushat\",\"rakim\",\"royceda59\",\n",
    "                   \"snoopdogg\",\"token\",\"wale\"]\n",
    "\n",
    "# empty dict for songs to be mapped into\n",
    "lyrical_songs_dict = {}"
   ]
  },
  {
   "cell_type": "code",
   "execution_count": 11,
   "id": "4fa58c17",
   "metadata": {},
   "outputs": [
    {
     "name": "stderr",
     "output_type": "stream",
     "text": [
      "\n",
      "\n",
      "====== WebDriver manager ======\n",
      "Current google-chrome version is 96.0.4664\n",
      "Get LATEST chromedriver version for 96.0.4664 google-chrome\n",
      "Driver [C:\\Users\\gsagararatne\\.wdm\\drivers\\chromedriver\\win32\\96.0.4664.45\\chromedriver.exe] found in cache\n"
     ]
    },
    {
     "name": "stdout",
     "output_type": "stream",
     "text": [
      "Going to url :  https://www.azlyrics.com/h/hopsin.html\n",
      "Going to url :  https://www.azlyrics.com/n/nf.html\n",
      "Going to url :  https://www.azlyrics.com/t/ti.html\n",
      "Going to url :  https://www.azlyrics.com/a/anderson-paak.html\n",
      "Going to url :  https://www.azlyrics.com/a/andre3000.html\n",
      "Going to url :  https://www.azlyrics.com/b/bigl.html\n",
      "Going to url :  https://www.azlyrics.com/b/bigsean.html\n",
      "Going to url :  https://www.azlyrics.com/b/blackthought.html\n",
      "Going to url :  https://www.azlyrics.com/b/busta.html\n",
      "Going to url :  https://www.azlyrics.com/c/chancetherapper.html\n",
      "Going to url :  https://www.azlyrics.com/y/ybncordae.html\n",
      "Going to url :  https://www.azlyrics.com/d/denzelcurry.html\n",
      "Going to url :  https://www.azlyrics.com/e/eminem.html\n",
      "Going to url :  https://www.azlyrics.com/i/icecube.html\n",
      "Going to url :  https://www.azlyrics.com/j/jayz.html\n",
      "Going to url :  https://www.azlyrics.com/j/jcole.html\n",
      "Going to url :  https://www.azlyrics.com/j/joynerlucas.html\n",
      "Going to url :  https://www.azlyrics.com/k/kendricklamar.html\n",
      "Going to url :  https://www.azlyrics.com/l/lildicky.html\n",
      "Going to url :  https://www.azlyrics.com/l/lilwayne.html\n",
      "Going to url :  https://www.azlyrics.com/l/logic.html\n",
      "Going to url :  https://www.azlyrics.com/m/macklemore.html\n",
      "Going to url :  https://www.azlyrics.com/m/marloncraft.html\n",
      "Going to url :  https://www.azlyrics.com/m/meekmill.html\n",
      "Going to url :  https://www.azlyrics.com/m/methodman.html\n",
      "Going to url :  https://www.azlyrics.com/m/mfdoom.html\n",
      "Going to url :  https://www.azlyrics.com/m/mosdef.html\n",
      "Going to url :  https://www.azlyrics.com/n/nas.html\n",
      "Going to url :  https://www.azlyrics.com/n/natedogg.html\n",
      "Going to url :  https://www.azlyrics.com/n/nipseyhussle.html\n",
      "Going to url :  https://www.azlyrics.com/n/notorious.html\n",
      "Going to url :  https://www.azlyrics.com/p/pushat.html\n",
      "Going to url :  https://www.azlyrics.com/r/rakim.html\n",
      "Going to url :  https://www.azlyrics.com/r/royceda59.html\n",
      "Going to url :  https://www.azlyrics.com/s/snoopdogg.html\n",
      "Going to url :  https://www.azlyrics.com/t/token.html\n",
      "Going to url :  https://www.azlyrics.com/w/wale.html\n"
     ]
    }
   ],
   "source": [
    "# rap_songs_dict = { }\n",
    "lyrical_songs_dict = {}\n",
    "\n",
    "# reset\n",
    "driver = webdriver.Chrome(ChromeDriverManager().install())\n",
    "\n",
    "\n",
    "for artist in lyrical_artists:\n",
    "\n",
    "    artist_url = base_url.format(artist[0].lower(), artist.lower())\n",
    "    print(\"Going to url : \", artist_url)\n",
    "    \n",
    "    driver.get(artist_url)\n",
    "    \n",
    "\n",
    "    # Get the artist name element\n",
    "    artist_name = driver.find_element(By.XPATH, './html/body/div[2]/div/div[2]/h1/strong').get_attribute('textContent')\n",
    "    \n",
    "    \n",
    "    # Remove the \"Lyric\" from the artist name\n",
    "    artist_name = artist_name[:-7]\n",
    "    \n",
    "    lyrical_songs_dict[artist_name] = []\n",
    "    \n",
    "    # Get the song names elements\n",
    "    song_names = driver.find_elements(By.CLASS_NAME, \"listalbum-item\")\n",
    "    \n",
    "    for name in song_names:\n",
    "        lyrical_songs_dict[artist_name].append(name.get_attribute('textContent'))\n",
    "    # prevent spam\n",
    "    sleep(5)"
   ]
  },
  {
   "cell_type": "code",
   "execution_count": 12,
   "id": "fae83a12",
   "metadata": {},
   "outputs": [
    {
     "name": "stdout",
     "output_type": "stream",
     "text": [
      "Hopsin 120\n",
      "NF (Nathan Feuerstein) 108\n",
      "T.I. 298\n",
      "Anderson .Paak 89\n",
      "Andre 3000 16\n",
      "Big L 61\n",
      "Big Sean 221\n",
      "Black Thought 45\n",
      "Busta Rhymes 286\n",
      "Chance The Rapper 137\n",
      "YBN Cordae (Entendre) 96\n",
      "Denzel Curry 131\n",
      "Eminem 398\n",
      "Ice Cube 195\n",
      "Jay-Z 311\n",
      "J. Cole 252\n",
      "Joyner Lucas 107\n",
      "Kendrick Lamar 171\n",
      "Lil Dicky 81\n",
      "Lil Wayne 750\n",
      "Logic 268\n",
      "Macklemore 97\n",
      "Marlon Craft 181\n",
      "Meek Mill (Meek Millz) 296\n",
      "Method Man 257\n",
      "MF Doom 199\n",
      "Mos Def (Yasiin Bey) 80\n",
      "Nas 349\n",
      "Nate Dogg 61\n",
      "Nipsey Hussle 212\n",
      "Notorious B.I.G. (Biggie Smalls) 130\n",
      "Pusha T 84\n",
      "Rakim 53\n",
      "Royce Da 5'9\" 209\n",
      "Snoop Dogg 509\n",
      "Token 97\n",
      "Wale 357\n"
     ]
    }
   ],
   "source": [
    "for key,val in lyrical_songs_dict.items():\n",
    "    print(key,len(val))"
   ]
  },
  {
   "cell_type": "markdown",
   "id": "b9ad9de6",
   "metadata": {},
   "source": [
    "Snoop Dogg seems to have the most number of songs - 509!"
   ]
  },
  {
   "cell_type": "code",
   "execution_count": 14,
   "id": "9465df35",
   "metadata": {},
   "outputs": [],
   "source": [
    "# naming file\n",
    "json_file = \"lyrical_rap_songs.json\"\n",
    "\n",
    "# Saving file\n",
    "with open(json_file, 'w') as file:\n",
    "    json.dump(lyrical_songs_dict, file)"
   ]
  },
  {
   "cell_type": "code",
   "execution_count": 15,
   "id": "aeed093e",
   "metadata": {},
   "outputs": [],
   "source": [
    "# Reading file to check\n",
    "# file containing artists - songs mapping\n",
    "lyrical_rap_songs_json = \"lyrical_rap_songs.json\"\n",
    "lyrical_dict = {}\n",
    "\n",
    "with open(lyrical_rap_songs_json) as file:\n",
    "    lyrical_dict = json.load(file)\n",
    "    \n",
    "# Check\n",
    "# lyrical_dict"
   ]
  },
  {
   "cell_type": "markdown",
   "id": "81ad96b8",
   "metadata": {},
   "source": [
    "Extracted format: {name of artist} {names of songs extracted}."
   ]
  }
 ],
 "metadata": {
  "kernelspec": {
   "display_name": "Python 3",
   "language": "python",
   "name": "python3"
  },
  "language_info": {
   "codemirror_mode": {
    "name": "ipython",
    "version": 3
   },
   "file_extension": ".py",
   "mimetype": "text/x-python",
   "name": "python",
   "nbconvert_exporter": "python",
   "pygments_lexer": "ipython3",
   "version": "3.8.10"
  },
  "toc": {
   "base_numbering": 1,
   "nav_menu": {},
   "number_sections": true,
   "sideBar": true,
   "skip_h1_title": false,
   "title_cell": "Table of Contents",
   "title_sidebar": "Contents",
   "toc_cell": true,
   "toc_position": {},
   "toc_section_display": true,
   "toc_window_display": false
  }
 },
 "nbformat": 4,
 "nbformat_minor": 5
}
