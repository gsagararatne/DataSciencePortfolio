{
 "cells": [
  {
   "cell_type": "markdown",
   "id": "1b36f815",
   "metadata": {
    "toc": true
   },
   "source": [
    "<h1>Table of Contents<span class=\"tocSkip\"></span></h1>\n",
    "<div class=\"toc\"><ul class=\"toc-item\"><li><span><a href=\"#Answer-without-dictionary-(harder)\" data-toc-modified-id=\"Answer-without-dictionary-(harder)-1\"><span class=\"toc-item-num\">1&nbsp;&nbsp;</span>Answer without dictionary (harder)</a></span></li><li><span><a href=\"#Answer-with-dictionary\" data-toc-modified-id=\"Answer-with-dictionary-2\"><span class=\"toc-item-num\">2&nbsp;&nbsp;</span>Answer with dictionary</a></span></li></ul></div>"
   ]
  },
  {
   "cell_type": "code",
   "execution_count": 1,
   "id": "3bdb0209",
   "metadata": {},
   "outputs": [],
   "source": [
    "A = [3,8,9,7,6]\n",
    "\n",
    "# pushing digits to the right by K units\n",
    "K = 3"
   ]
  },
  {
   "cell_type": "code",
   "execution_count": 2,
   "id": "606c18e0",
   "metadata": {},
   "outputs": [
    {
     "data": {
      "text/plain": [
       "2"
      ]
     },
     "execution_count": 2,
     "metadata": {},
     "output_type": "execute_result"
    }
   ],
   "source": [
    "(0-3) % 5"
   ]
  },
  {
   "cell_type": "markdown",
   "id": "5738d4d7",
   "metadata": {},
   "source": [
    "`(i-K) % N`\n",
    "\n",
    "result tells the position of where its corresponding element of A needs to go.\n",
    "\n",
    "- i : current index \n",
    "- K : indexes pushed to the right\n",
    "- N : length of array"
   ]
  },
  {
   "cell_type": "markdown",
   "id": "ff86dc35",
   "metadata": {},
   "source": [
    "### Answer without dictionary (harder)"
   ]
  },
  {
   "cell_type": "code",
   "execution_count": 3,
   "id": "a774679d",
   "metadata": {},
   "outputs": [],
   "source": [
    "def solution(A,K):\n",
    "    \n",
    "    # creating new array\n",
    "    A2 = [0]*len(A)\n",
    "    \n",
    "    # pushing indexes of new array\n",
    "    for i in range(len(A)):\n",
    "        A2[i] = A[(i-K)%len(A)]\n",
    "    return A2\n",
    "        "
   ]
  },
  {
   "cell_type": "code",
   "execution_count": 4,
   "id": "ab81c614",
   "metadata": {},
   "outputs": [
    {
     "data": {
      "text/plain": [
       "[9, 7, 6, 3, 8]"
      ]
     },
     "execution_count": 4,
     "metadata": {},
     "output_type": "execute_result"
    }
   ],
   "source": [
    "A = [3,8,9,7,6]\n",
    "K = 3\n",
    "solution(A,K)"
   ]
  },
  {
   "cell_type": "markdown",
   "id": "2ab44e26",
   "metadata": {},
   "source": [
    "### Answer with dictionary"
   ]
  },
  {
   "cell_type": "code",
   "execution_count": 7,
   "id": "804ae13d",
   "metadata": {},
   "outputs": [
    {
     "data": {
      "text/plain": [
       "[6, 7, 8, 3, 8, 9, 7]"
      ]
     },
     "execution_count": 7,
     "metadata": {},
     "output_type": "execute_result"
    }
   ],
   "source": [
    "def solution(A,K):\n",
    "    \n",
    "    # creating new array\n",
    "    A2 = [0]*len(A)\n",
    "    \n",
    "    # pushing indexes of new array\n",
    "    for idx, number in enumerate(A):\n",
    "        A2[idx] = A[(idx-K)]\n",
    "    return A2\n",
    "        \n",
    "    \n",
    "A = [3,8,9,7,6,7,8]\n",
    "K = 3\n",
    "solution(A,K)"
   ]
  },
  {
   "cell_type": "code",
   "execution_count": null,
   "id": "bbd53483",
   "metadata": {},
   "outputs": [],
   "source": []
  }
 ],
 "metadata": {
  "kernelspec": {
   "display_name": "Python 3",
   "language": "python",
   "name": "python3"
  },
  "language_info": {
   "codemirror_mode": {
    "name": "ipython",
    "version": 3
   },
   "file_extension": ".py",
   "mimetype": "text/x-python",
   "name": "python",
   "nbconvert_exporter": "python",
   "pygments_lexer": "ipython3",
   "version": "3.8.8"
  },
  "toc": {
   "base_numbering": 1,
   "nav_menu": {},
   "number_sections": true,
   "sideBar": true,
   "skip_h1_title": false,
   "title_cell": "Table of Contents",
   "title_sidebar": "Contents",
   "toc_cell": true,
   "toc_position": {},
   "toc_section_display": true,
   "toc_window_display": false
  }
 },
 "nbformat": 4,
 "nbformat_minor": 5
}
