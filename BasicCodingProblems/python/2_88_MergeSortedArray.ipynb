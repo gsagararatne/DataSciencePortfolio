{
 "cells": [
  {
   "cell_type": "markdown",
   "id": "c5e48a65",
   "metadata": {
    "toc": true
   },
   "source": [
    "<h1>Table of Contents<span class=\"tocSkip\"></span></h1>\n",
    "<div class=\"toc\"><ul class=\"toc-item\"><li><span><a href=\"#Merged-Sorted-Array\" data-toc-modified-id=\"Merged-Sorted-Array-1\"><span class=\"toc-item-num\">1&nbsp;&nbsp;</span>Merged Sorted Array</a></span></li></ul></div>"
   ]
  },
  {
   "cell_type": "markdown",
   "id": "7c3c2a67",
   "metadata": {},
   "source": [
    "### Merged Sorted Array"
   ]
  },
  {
   "cell_type": "markdown",
   "id": "1c704a72",
   "metadata": {},
   "source": [
    "You are given two integer arrays nums1 and nums2, sorted in non-decreasing order, and two integers m and n, representing the number of elements in nums1 and nums2 respectively.\n",
    "\n",
    "Merge nums1 and nums2 into a single array sorted in non-decreasing order.\n",
    "\n",
    "The final sorted array should not be returned by the function, but instead be stored inside the array nums1. To accommodate this, nums1 has a length of m + n, where the first m elements denote the elements that should be merged, and the last n elements are set to 0 and should be ignored. nums2 has a length of n.\n",
    "\n",
    "Constraints:\n",
    "\n",
    "- nums1.length == m + n\n",
    "- nums2.length == n\n",
    "- 0 <= m, n <= 200\n",
    "- 1 <= m + n <= 200\n",
    "- -109 <= nums1[i], nums2[j] <= 109"
   ]
  },
  {
   "cell_type": "markdown",
   "id": "a4b820e6",
   "metadata": {},
   "source": [
    "nums2 is already in sorted order"
   ]
  },
  {
   "cell_type": "code",
   "execution_count": 10,
   "id": "bad99742",
   "metadata": {},
   "outputs": [],
   "source": [
    "def merge(nums1, m, nums2, n):\n",
    "    # last index nums1\n",
    "    last = m + n - 1\n",
    "    \n",
    "    # merge in reverse order - while elements left in both arrays \n",
    "    while (m>0) and (n>0):\n",
    "        # last element of nums1 = nums1\n",
    "        if nums1[m - 1] > nums2[n - 1]:\n",
    "            nums1[last] = nums1[m - 1]\n",
    "            # decreasing m pointer\n",
    "            m -= 1\n",
    "        else:\n",
    "            # last element of nums1 = nums2\n",
    "            nums1[last] = nums2[n - 1]\n",
    "            # decreasing n pointer\n",
    "            n -= 1\n",
    "        \n",
    "        #decreasing lastn1 pointer\n",
    "        last -= 1\n",
    "        \n",
    "    # fill nums1 with leftover nums2 elements\n",
    "    while n>0:\n",
    "        nums1[last] = nums2[n - 1]\n",
    "        n, last = n-1, last-1\n",
    "        \n",
    "    return nums1"
   ]
  },
  {
   "cell_type": "code",
   "execution_count": 11,
   "id": "e40c0092",
   "metadata": {},
   "outputs": [],
   "source": [
    "nums1 = [1,2,3,0,0,0]\n",
    "m = 3\n",
    "nums2 = [2,5,6]\n",
    "n = 3"
   ]
  },
  {
   "cell_type": "code",
   "execution_count": 12,
   "id": "b2eec2e0",
   "metadata": {},
   "outputs": [
    {
     "data": {
      "text/plain": [
       "[1, 2, 2, 3, 5, 6]"
      ]
     },
     "execution_count": 12,
     "metadata": {},
     "output_type": "execute_result"
    }
   ],
   "source": [
    "merge(nums1, m, nums2, n)"
   ]
  }
 ],
 "metadata": {
  "kernelspec": {
   "display_name": "Python 3",
   "language": "python",
   "name": "python3"
  },
  "language_info": {
   "codemirror_mode": {
    "name": "ipython",
    "version": 3
   },
   "file_extension": ".py",
   "mimetype": "text/x-python",
   "name": "python",
   "nbconvert_exporter": "python",
   "pygments_lexer": "ipython3",
   "version": "3.8.8"
  },
  "toc": {
   "base_numbering": 1,
   "nav_menu": {},
   "number_sections": true,
   "sideBar": true,
   "skip_h1_title": false,
   "title_cell": "Table of Contents",
   "title_sidebar": "Contents",
   "toc_cell": true,
   "toc_position": {},
   "toc_section_display": true,
   "toc_window_display": false
  }
 },
 "nbformat": 4,
 "nbformat_minor": 5
}
