{
 "cells": [
  {
   "cell_type": "markdown",
   "id": "a88d5339",
   "metadata": {
    "toc": true
   },
   "source": [
    "<h1>Table of Contents<span class=\"tocSkip\"></span></h1>\n",
    "<div class=\"toc\"><ul class=\"toc-item\"><li><span><a href=\"#Failed-attempt(s)\" data-toc-modified-id=\"Failed-attempt(s)-1\"><span class=\"toc-item-num\">1&nbsp;&nbsp;</span>Failed attempt(s)</a></span><ul class=\"toc-item\"><li><span><a href=\"#Doesn't-work-with-negative-numbers\" data-toc-modified-id=\"Doesn't-work-with-negative-numbers-1.1\"><span class=\"toc-item-num\">1.1&nbsp;&nbsp;</span>Doesn't work with negative numbers</a></span></li><li><span><a href=\"#Takes-too-long\" data-toc-modified-id=\"Takes-too-long-1.2\"><span class=\"toc-item-num\">1.2&nbsp;&nbsp;</span>Takes too long</a></span></li></ul></li><li><span><a href=\"#Working-solution\" data-toc-modified-id=\"Working-solution-2\"><span class=\"toc-item-num\">2&nbsp;&nbsp;</span>Working solution</a></span></li><li><span><a href=\"#Leet-code-submission\" data-toc-modified-id=\"Leet-code-submission-3\"><span class=\"toc-item-num\">3&nbsp;&nbsp;</span>Leet code submission</a></span></li></ul></div>"
   ]
  },
  {
   "cell_type": "markdown",
   "id": "e6597941",
   "metadata": {},
   "source": [
    "Given an integer array `nums`, find the contiguous subarray (containing at least one number) which has the largest sum and return its sum.\n",
    "\n",
    "A **subarray** is a **contiguous** part of an array."
   ]
  },
  {
   "cell_type": "code",
   "execution_count": 20,
   "id": "1eb5e15b",
   "metadata": {},
   "outputs": [],
   "source": [
    "nums = [-2,1,-3,4,-1,2,1,-5,4]"
   ]
  },
  {
   "cell_type": "markdown",
   "id": "e66dd140",
   "metadata": {},
   "source": [
    "Steps:\n",
    "- initialise current_max as nums[0]\n",
    "- initialise final_max = 0\n",
    "- create loop that goes through every element in nums\n",
    "- final_max = final_max + nums[i]\n",
    "- if final_max < 0 then final_max = 0\n",
    "- if current_max < final_max then current_max = final_max\n",
    "- return current_max"
   ]
  },
  {
   "cell_type": "markdown",
   "id": "c796de6b",
   "metadata": {},
   "source": [
    "---\n",
    "### Failed attempt(s)\n",
    "#### Doesn't work with negative numbers"
   ]
  },
  {
   "cell_type": "code",
   "execution_count": 59,
   "id": "868ca0cc",
   "metadata": {},
   "outputs": [],
   "source": [
    "def maxSubArrayMax(nums):\n",
    "    \n",
    "    size = len(nums)\n",
    "    current_max = nums[0]\n",
    "    final_max = 0\n",
    "    \n",
    "    for i in range(0,size):\n",
    "        final_max = final_max + nums[i]\n",
    "        if final_max < 0:\n",
    "            final_max = 0\n",
    "            \n",
    "        elif (current_max < final_max):\n",
    "            current_max = final_max\n",
    "            \n",
    "    return current_max"
   ]
  },
  {
   "cell_type": "code",
   "execution_count": 60,
   "id": "bd02ccd2",
   "metadata": {},
   "outputs": [
    {
     "data": {
      "text/plain": [
       "6"
      ]
     },
     "execution_count": 60,
     "metadata": {},
     "output_type": "execute_result"
    }
   ],
   "source": [
    "test = [-2, -3, 4, -1, -2, 5, -3]\n",
    "maxSubArrayMax(test)"
   ]
  },
  {
   "cell_type": "code",
   "execution_count": 61,
   "id": "8a757488",
   "metadata": {},
   "outputs": [],
   "source": [
    "def maxSubArrayMax(nums):\n",
    "    \n",
    "    size = len(nums)\n",
    "    current_max = nums[0]\n",
    "    final_max = 0\n",
    "    \n",
    "    for i in range(0,size):\n",
    "        final_max = final_max + nums[i]\n",
    "        if final_max < 0:\n",
    "            final_max = 0\n",
    "            \n",
    "        elif (current_max < final_max):\n",
    "            current_max = final_max\n",
    "            \n",
    "    return current_max"
   ]
  },
  {
   "cell_type": "code",
   "execution_count": 62,
   "id": "95d6f426",
   "metadata": {},
   "outputs": [
    {
     "data": {
      "text/plain": [
       "6"
      ]
     },
     "execution_count": 62,
     "metadata": {},
     "output_type": "execute_result"
    }
   ],
   "source": [
    "test = [-2, -3, 4, -1, -2, 5, -3]\n",
    "maxSubArrayMax(test)"
   ]
  },
  {
   "cell_type": "code",
   "execution_count": 63,
   "id": "cb04400c",
   "metadata": {},
   "outputs": [
    {
     "data": {
      "text/plain": [
       "-2"
      ]
     },
     "execution_count": 63,
     "metadata": {},
     "output_type": "execute_result"
    }
   ],
   "source": [
    "test = [-2, -1]\n",
    "maxSubArrayMax(test)"
   ]
  },
  {
   "cell_type": "markdown",
   "id": "c72aa347",
   "metadata": {},
   "source": [
    "#### Takes too long "
   ]
  },
  {
   "cell_type": "code",
   "execution_count": 64,
   "id": "98bcbf56",
   "metadata": {},
   "outputs": [],
   "source": [
    "def maxSubArrayMax(input_array):\n",
    "    \n",
    "    final_max = input_array[0]\n",
    "    current_max = input_array[0]\n",
    "    \n",
    "    # position\n",
    "    for i in range(len(input_array)+1):\n",
    "        \n",
    "        # remaining elemts from position\n",
    "        for j in range(len(input_array)+1):\n",
    "            \n",
    "            # non-empty rows\n",
    "            if input_array[i:j]:\n",
    "                \n",
    "                # find current_max\n",
    "                current_max = sum(input_array[i:j])\n",
    "                \n",
    "                # reset final_max if needed\n",
    "                if current_max > final_max:\n",
    "                    final_max = current_max\n",
    "                \n",
    "    return final_max"
   ]
  },
  {
   "cell_type": "code",
   "execution_count": 65,
   "id": "7c83c5d2",
   "metadata": {},
   "outputs": [
    {
     "data": {
      "text/plain": [
       "6"
      ]
     },
     "execution_count": 65,
     "metadata": {},
     "output_type": "execute_result"
    }
   ],
   "source": [
    "test = [-2, -3, 4, -1, -2, 5, -3]\n",
    "maxSubArrayMax(test)"
   ]
  },
  {
   "cell_type": "code",
   "execution_count": 66,
   "id": "3fb1e0cb",
   "metadata": {
    "scrolled": false
   },
   "outputs": [
    {
     "data": {
      "text/plain": [
       "-1"
      ]
     },
     "execution_count": 66,
     "metadata": {},
     "output_type": "execute_result"
    }
   ],
   "source": [
    "test = [-2, -1]\n",
    "maxSubArrayMax(test)"
   ]
  },
  {
   "cell_type": "markdown",
   "id": "373a1582",
   "metadata": {},
   "source": [
    "---"
   ]
  },
  {
   "cell_type": "markdown",
   "id": "06fcd6b2",
   "metadata": {},
   "source": [
    "### Working solution"
   ]
  },
  {
   "cell_type": "code",
   "execution_count": 84,
   "id": "ad60c1d8",
   "metadata": {},
   "outputs": [],
   "source": [
    "def maxSubArray(nums):\n",
    "    # initialising\n",
    "    current_max = nums[0]\n",
    "    final_max = nums[0]\n",
    "    size = len(nums)\n",
    "    \n",
    "    for i in range(1, size):\n",
    "        current_max = max(nums[i], (current_max + nums[i]))\n",
    "        final_max = max(current_max, final_max)\n",
    "        \n",
    "    return final_max"
   ]
  },
  {
   "cell_type": "code",
   "execution_count": 87,
   "id": "970e4ba2",
   "metadata": {},
   "outputs": [
    {
     "data": {
      "text/plain": [
       "6"
      ]
     },
     "execution_count": 87,
     "metadata": {},
     "output_type": "execute_result"
    }
   ],
   "source": [
    "test = [-2, -3, 4, -1, -2, 5, -3]\n",
    "maxSubArray(test)"
   ]
  },
  {
   "cell_type": "code",
   "execution_count": 88,
   "id": "11fc659e",
   "metadata": {
    "scrolled": true
   },
   "outputs": [
    {
     "data": {
      "text/plain": [
       "-1"
      ]
     },
     "execution_count": 88,
     "metadata": {},
     "output_type": "execute_result"
    }
   ],
   "source": [
    "test = [-2, -1]\n",
    "maxSubArray(test)"
   ]
  },
  {
   "cell_type": "markdown",
   "id": "82ebe0c0",
   "metadata": {},
   "source": [
    "--- "
   ]
  }
 ],
 "metadata": {
  "kernelspec": {
   "display_name": "Python 3",
   "language": "python",
   "name": "python3"
  },
  "language_info": {
   "codemirror_mode": {
    "name": "ipython",
    "version": 3
   },
   "file_extension": ".py",
   "mimetype": "text/x-python",
   "name": "python",
   "nbconvert_exporter": "python",
   "pygments_lexer": "ipython3",
   "version": "3.8.8"
  },
  "toc": {
   "base_numbering": 1,
   "nav_menu": {},
   "number_sections": true,
   "sideBar": true,
   "skip_h1_title": false,
   "title_cell": "Table of Contents",
   "title_sidebar": "Contents",
   "toc_cell": true,
   "toc_position": {},
   "toc_section_display": true,
   "toc_window_display": false
  }
 },
 "nbformat": 4,
 "nbformat_minor": 5
}
