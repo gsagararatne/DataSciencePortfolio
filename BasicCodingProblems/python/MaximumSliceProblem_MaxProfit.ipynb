{
 "cells": [
  {
   "cell_type": "markdown",
   "id": "a70457ce",
   "metadata": {
    "toc": true
   },
   "source": [
    "<h1>Table of Contents<span class=\"tocSkip\"></span></h1>\n",
    "<div class=\"toc\"><ul class=\"toc-item\"></ul></div>"
   ]
  },
  {
   "cell_type": "markdown",
   "id": "0b385e05",
   "metadata": {},
   "source": [
    "The same exact problem as the stock algorithm from leetcode."
   ]
  },
  {
   "cell_type": "code",
   "execution_count": 1,
   "id": "6724cdb2",
   "metadata": {},
   "outputs": [],
   "source": [
    "def solution(A):\n",
    "    \n",
    "    #left and right pointers\n",
    "    left, right = 0,0\n",
    "    \n",
    "    #max profit\n",
    "    maxProfit = 0\n",
    "    \n",
    "    #Keep iterating till right passes prices\n",
    "    while right<len(A):\n",
    "    \n",
    "    #if profit high, take current profit and update max profit\n",
    "        if A[left] < A[right]:\n",
    "            currentProfit = A[right]-A[left]\n",
    "\n",
    "            #udpate max profit\n",
    "            maxProfit = max(maxProfit, currentProfit)\n",
    "\n",
    "        else:\n",
    "        #if low, left left pointer to right and keep moving right pointer\n",
    "            left = right\n",
    "        \n",
    "        right += 1\n",
    "    \n",
    "    return maxProfit"
   ]
  },
  {
   "cell_type": "code",
   "execution_count": 2,
   "id": "6b276b0b",
   "metadata": {},
   "outputs": [
    {
     "data": {
      "text/plain": [
       "356"
      ]
     },
     "execution_count": 2,
     "metadata": {},
     "output_type": "execute_result"
    }
   ],
   "source": [
    "A = [23171, 21011, 21123, 21366, 21013, 21367]\n",
    "\n",
    "solution(A)"
   ]
  }
 ],
 "metadata": {
  "kernelspec": {
   "display_name": "Python 3",
   "language": "python",
   "name": "python3"
  },
  "language_info": {
   "codemirror_mode": {
    "name": "ipython",
    "version": 3
   },
   "file_extension": ".py",
   "mimetype": "text/x-python",
   "name": "python",
   "nbconvert_exporter": "python",
   "pygments_lexer": "ipython3",
   "version": "3.8.8"
  },
  "toc": {
   "base_numbering": 1,
   "nav_menu": {},
   "number_sections": true,
   "sideBar": true,
   "skip_h1_title": false,
   "title_cell": "Table of Contents",
   "title_sidebar": "Contents",
   "toc_cell": true,
   "toc_position": {},
   "toc_section_display": true,
   "toc_window_display": false
  }
 },
 "nbformat": 4,
 "nbformat_minor": 5
}
