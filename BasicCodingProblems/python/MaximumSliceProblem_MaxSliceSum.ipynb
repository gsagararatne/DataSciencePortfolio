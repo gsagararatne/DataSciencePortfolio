{
 "cells": [
  {
   "cell_type": "markdown",
   "id": "e3256933",
   "metadata": {
    "toc": true
   },
   "source": [
    "<h1>Table of Contents<span class=\"tocSkip\"></span></h1>\n",
    "<div class=\"toc\"><ul class=\"toc-item\"></ul></div>"
   ]
  },
  {
   "cell_type": "markdown",
   "id": "c38ad780",
   "metadata": {},
   "source": [
    "A non-empty array A consisting of N integers is given. A pair of integers (P, Q), such that **0 ≤ P ≤ Q < N**, is called a slice of array A. The sum of a slice (P, Q) is the total of A[P] + A[P+1] + ... + A[Q]."
   ]
  },
  {
   "cell_type": "markdown",
   "id": "de6a0875",
   "metadata": {},
   "source": [
    "(0, 1) is a slice of A that has sum 5. No other slice of A has sum greater than (0, 1)."
   ]
  },
  {
   "cell_type": "code",
   "execution_count": 39,
   "id": "11acadb6",
   "metadata": {},
   "outputs": [],
   "source": [
    "def solution(A):\n",
    "    \n",
    "#     #edge case\n",
    "#     if len(A)==1:\n",
    "#         return A\n",
    "    \n",
    "    \n",
    "    #lowest limit within A\n",
    "    currentMax, finalMax = A[0], A[0]\n",
    "    \n",
    "    #loop through array starting from 2nd position\n",
    "    for number in A[1:]:\n",
    "        \n",
    "        currentMax = max(number, currentMax + number)\n",
    "        finalMax = max(currentMax, finalMax)\n",
    "        \n",
    "    return finalMax"
   ]
  },
  {
   "cell_type": "code",
   "execution_count": 40,
   "id": "6eb5e1bf",
   "metadata": {},
   "outputs": [
    {
     "data": {
      "text/plain": [
       "5"
      ]
     },
     "execution_count": 40,
     "metadata": {},
     "output_type": "execute_result"
    }
   ],
   "source": [
    "A = [3,2,-6,4,0]\n",
    "solution(A)"
   ]
  }
 ],
 "metadata": {
  "kernelspec": {
   "display_name": "Python 3",
   "language": "python",
   "name": "python3"
  },
  "language_info": {
   "codemirror_mode": {
    "name": "ipython",
    "version": 3
   },
   "file_extension": ".py",
   "mimetype": "text/x-python",
   "name": "python",
   "nbconvert_exporter": "python",
   "pygments_lexer": "ipython3",
   "version": "3.8.8"
  },
  "toc": {
   "base_numbering": 1,
   "nav_menu": {},
   "number_sections": true,
   "sideBar": true,
   "skip_h1_title": false,
   "title_cell": "Table of Contents",
   "title_sidebar": "Contents",
   "toc_cell": true,
   "toc_position": {},
   "toc_section_display": true,
   "toc_window_display": false
  }
 },
 "nbformat": 4,
 "nbformat_minor": 5
}
