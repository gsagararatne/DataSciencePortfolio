{
 "cells": [
  {
   "cell_type": "markdown",
   "id": "cb449e4c",
   "metadata": {
    "toc": true
   },
   "source": [
    "<h1>Table of Contents<span class=\"tocSkip\"></span></h1>\n",
    "<div class=\"toc\"><ul class=\"toc-item\"></ul></div>"
   ]
  },
  {
   "cell_type": "markdown",
   "id": "f9e4f9b3",
   "metadata": {},
   "source": [
    "Array A contains numbers.\n",
    "\n",
    "Each index of number and number itself represents rope number and length respectively. \n",
    "\n",
    "K is an int. Count the number of ropes that can be tied to one another to reach a length greater than or equal to the number K."
   ]
  },
  {
   "cell_type": "code",
   "execution_count": 6,
   "id": "67dc0b65",
   "metadata": {},
   "outputs": [],
   "source": [
    "def solution(A, K):\n",
    "    \n",
    "    #initialise currentLength, counter\n",
    "    currentLength, counter = 0,0\n",
    "    \n",
    "    \n",
    "    # loop through line\n",
    "    for i in range(len(A)):\n",
    "        \n",
    "        # sum rope together\n",
    "        currentLength += A[i]\n",
    "        \n",
    "        # if currentLength > K, add counter and moveon\n",
    "        if currentLength >= K:\n",
    "            counter += 1\n",
    "            \n",
    "            # reset currentLength\n",
    "            currentLength = 0\n",
    "    \n",
    "    return counter\n",
    "            "
   ]
  },
  {
   "cell_type": "code",
   "execution_count": 7,
   "id": "8278a402",
   "metadata": {},
   "outputs": [
    {
     "data": {
      "text/plain": [
       "3"
      ]
     },
     "execution_count": 7,
     "metadata": {},
     "output_type": "execute_result"
    }
   ],
   "source": [
    "A = [1,2,3,4,1,1,3]\n",
    "K = 4\n",
    "solution(A,K)"
   ]
  }
 ],
 "metadata": {
  "kernelspec": {
   "display_name": "Python 3",
   "language": "python",
   "name": "python3"
  },
  "language_info": {
   "codemirror_mode": {
    "name": "ipython",
    "version": 3
   },
   "file_extension": ".py",
   "mimetype": "text/x-python",
   "name": "python",
   "nbconvert_exporter": "python",
   "pygments_lexer": "ipython3",
   "version": "3.8.8"
  },
  "toc": {
   "base_numbering": 1,
   "nav_menu": {},
   "number_sections": true,
   "sideBar": true,
   "skip_h1_title": false,
   "title_cell": "Table of Contents",
   "title_sidebar": "Contents",
   "toc_cell": true,
   "toc_position": {},
   "toc_section_display": true,
   "toc_window_display": false
  }
 },
 "nbformat": 4,
 "nbformat_minor": 5
}
