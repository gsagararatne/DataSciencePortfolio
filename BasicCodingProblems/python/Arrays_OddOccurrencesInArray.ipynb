{
 "cells": [
  {
   "cell_type": "markdown",
   "id": "3479d3ff",
   "metadata": {
    "toc": true
   },
   "source": [
    "<h1>Table of Contents<span class=\"tocSkip\"></span></h1>\n",
    "<div class=\"toc\"><ul class=\"toc-item\"></ul></div>"
   ]
  },
  {
   "cell_type": "markdown",
   "id": "04928082",
   "metadata": {},
   "source": [
    "list contains pairs of numbers. Find the odd one out."
   ]
  },
  {
   "cell_type": "code",
   "execution_count": 4,
   "id": "475d34ae",
   "metadata": {},
   "outputs": [],
   "source": [
    "def solution(A):\n",
    "    #sort A in ascending order\n",
    "    A.sort()\n",
    "    \n",
    "    #append neg num at end of list A for cutoff\n",
    "    A.append(-1)\n",
    "    \n",
    "    # cycle through a stpe of 2\n",
    "    for i in range (0, len(A), 2):\n",
    "        if A[i] != A[i+1]:\n",
    "            \n",
    "            #return odd count number\n",
    "            return A[i]\n",
    "pass\n",
    "        "
   ]
  },
  {
   "cell_type": "code",
   "execution_count": 5,
   "id": "a7b5dd83",
   "metadata": {},
   "outputs": [
    {
     "data": {
      "text/plain": [
       "4"
      ]
     },
     "execution_count": 5,
     "metadata": {},
     "output_type": "execute_result"
    }
   ],
   "source": [
    "A = [1,2,3,1,2,3,4]\n",
    "solution(A)"
   ]
  }
 ],
 "metadata": {
  "kernelspec": {
   "display_name": "Python 3",
   "language": "python",
   "name": "python3"
  },
  "language_info": {
   "codemirror_mode": {
    "name": "ipython",
    "version": 3
   },
   "file_extension": ".py",
   "mimetype": "text/x-python",
   "name": "python",
   "nbconvert_exporter": "python",
   "pygments_lexer": "ipython3",
   "version": "3.8.8"
  },
  "toc": {
   "base_numbering": 1,
   "nav_menu": {},
   "number_sections": true,
   "sideBar": true,
   "skip_h1_title": false,
   "title_cell": "Table of Contents",
   "title_sidebar": "Contents",
   "toc_cell": true,
   "toc_position": {},
   "toc_section_display": true,
   "toc_window_display": false
  }
 },
 "nbformat": 4,
 "nbformat_minor": 5
}
