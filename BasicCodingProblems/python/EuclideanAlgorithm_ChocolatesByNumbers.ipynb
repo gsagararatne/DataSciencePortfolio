{
 "cells": [
  {
   "cell_type": "markdown",
   "id": "0bf4f228",
   "metadata": {
    "toc": true
   },
   "source": [
    "<h1>Table of Contents<span class=\"tocSkip\"></span></h1>\n",
    "<div class=\"toc\"><ul class=\"toc-item\"></ul></div>"
   ]
  },
  {
   "cell_type": "markdown",
   "id": "a6d9be40",
   "metadata": {},
   "source": [
    "N - number of chocolates\n",
    "\n",
    "M - omit number\n",
    "\n",
    "Key concept: Least common multiple!\n",
    "\n",
    "---\n",
    "\n",
    "Example\n",
    "\n",
    "N = 15: **15**, 30\n",
    "\n",
    "M = 5: 5, 10, **15**, 20\n",
    "\n",
    "LCM = **15**\n",
    "\n",
    "`Number of eaten chocolates = LCM / M`\n",
    "\n",
    "`LCM = (a*b) / Greatest common divider`\n",
    "\n",
    "---"
   ]
  },
  {
   "cell_type": "code",
   "execution_count": 1,
   "id": "e3cdca57",
   "metadata": {},
   "outputs": [],
   "source": [
    "def gcd(a,b):\n",
    "    if a%b == 0:\n",
    "        return b\n",
    "    else:\n",
    "        return gcd(b, a%b)\n",
    "\n",
    "def solution(N,M):\n",
    "    return int(N/gcd(N,M))\n"
   ]
  },
  {
   "cell_type": "code",
   "execution_count": 2,
   "id": "1829a6b5",
   "metadata": {},
   "outputs": [
    {
     "data": {
      "text/plain": [
       "5"
      ]
     },
     "execution_count": 2,
     "metadata": {},
     "output_type": "execute_result"
    }
   ],
   "source": [
    "N = 10\n",
    "M = 4\n",
    "solution(N,M)"
   ]
  }
 ],
 "metadata": {
  "kernelspec": {
   "display_name": "Python 3",
   "language": "python",
   "name": "python3"
  },
  "language_info": {
   "codemirror_mode": {
    "name": "ipython",
    "version": 3
   },
   "file_extension": ".py",
   "mimetype": "text/x-python",
   "name": "python",
   "nbconvert_exporter": "python",
   "pygments_lexer": "ipython3",
   "version": "3.8.8"
  },
  "toc": {
   "base_numbering": 1,
   "nav_menu": {},
   "number_sections": true,
   "sideBar": true,
   "skip_h1_title": false,
   "title_cell": "Table of Contents",
   "title_sidebar": "Contents",
   "toc_cell": true,
   "toc_position": {},
   "toc_section_display": true,
   "toc_window_display": false
  }
 },
 "nbformat": 4,
 "nbformat_minor": 5
}
