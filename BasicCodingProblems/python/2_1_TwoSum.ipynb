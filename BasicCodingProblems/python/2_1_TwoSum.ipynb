{
 "cells": [
  {
   "cell_type": "markdown",
   "id": "f52b2381",
   "metadata": {
    "toc": true
   },
   "source": [
    "<h1>Table of Contents<span class=\"tocSkip\"></span></h1>\n",
    "<div class=\"toc\"><ul class=\"toc-item\"><li><span><a href=\"#Brute-force-method---takes-too-long\" data-toc-modified-id=\"Brute-force-method---takes-too-long-1\"><span class=\"toc-item-num\">1&nbsp;&nbsp;</span>Brute force method - takes too long</a></span></li><li><span><a href=\"#Working-version\" data-toc-modified-id=\"Working-version-2\"><span class=\"toc-item-num\">2&nbsp;&nbsp;</span>Working version</a></span><ul class=\"toc-item\"><li><span><a href=\"#using-.get()---sm0rt\" data-toc-modified-id=\"using-.get()---sm0rt-2.1\"><span class=\"toc-item-num\">2.1&nbsp;&nbsp;</span>using .get() - sm0rt</a></span></li></ul></li></ul></div>"
   ]
  },
  {
   "cell_type": "markdown",
   "id": "a14be4fb",
   "metadata": {},
   "source": [
    "Given an array of integers `nums` and an integer `target`, return indices of the two numbers such that they add up to target.\n",
    "\n",
    "You may assume that each input would have **exactly one solution**, and you may not use the same element twice.\n",
    "\n",
    "You can return the answer in any order."
   ]
  },
  {
   "cell_type": "markdown",
   "id": "465cc82f",
   "metadata": {},
   "source": [
    "--- \n",
    "### Brute force method - takes too long"
   ]
  },
  {
   "cell_type": "code",
   "execution_count": 11,
   "id": "8727845a",
   "metadata": {},
   "outputs": [],
   "source": [
    "nums = [2,11,15,7]\n",
    "target = 9"
   ]
  },
  {
   "cell_type": "code",
   "execution_count": 12,
   "id": "cdbc1351",
   "metadata": {},
   "outputs": [],
   "source": [
    "def twoSum(nums, target):\n",
    "    for i in range(len(nums)):\n",
    "        for j in range(i+1, len(nums)):\n",
    "            if nums[i]+ nums[j] == target:\n",
    "                return [i,j]"
   ]
  },
  {
   "cell_type": "code",
   "execution_count": 13,
   "id": "69d703e3",
   "metadata": {},
   "outputs": [
    {
     "data": {
      "text/plain": [
       "[0, 3]"
      ]
     },
     "execution_count": 13,
     "metadata": {},
     "output_type": "execute_result"
    }
   ],
   "source": [
    "twoSum(nums,target)"
   ]
  },
  {
   "cell_type": "markdown",
   "id": "c525d8b2",
   "metadata": {},
   "source": [
    "---\n",
    "\n",
    "### Working version\n",
    "\n",
    "removed the 2nd `for loop` and replaced it with a dictionary"
   ]
  },
  {
   "cell_type": "code",
   "execution_count": 21,
   "id": "2bf16596",
   "metadata": {},
   "outputs": [],
   "source": [
    "def twoSum(nums,target):\n",
    "    # [hash map] value:idx\n",
    "    hash_map = {}\n",
    "    \n",
    "    for idx, number in enumerate(nums):\n",
    "        difference = target - number\n",
    "        \n",
    "        # check if difference in hash_map\n",
    "        if difference in hash_map:\n",
    "            return [hash_map[difference], idx]\n",
    "        \n",
    "        # update hash_map: for value n, idx=i\n",
    "        hash_map[number] = idx\n",
    "    return"
   ]
  },
  {
   "cell_type": "code",
   "execution_count": 22,
   "id": "09f5572c",
   "metadata": {},
   "outputs": [
    {
     "data": {
      "text/plain": [
       "[0, 3]"
      ]
     },
     "execution_count": 22,
     "metadata": {},
     "output_type": "execute_result"
    }
   ],
   "source": [
    "nums = [2,11,15,7]\n",
    "target = 9\n",
    "twoSum(nums,target)"
   ]
  },
  {
   "cell_type": "markdown",
   "id": "6d99a2d7",
   "metadata": {},
   "source": [
    "#### using .get() - sm0rt"
   ]
  },
  {
   "cell_type": "code",
   "execution_count": 18,
   "id": "fdfa24d0",
   "metadata": {},
   "outputs": [],
   "source": [
    "def twoSum(nums,target):\n",
    "    # storage - hash map | value : index\n",
    "    dictionary = {}\n",
    "    \n",
    "    for i in range(len(nums)):\n",
    "        difference = target - nums[i]\n",
    "        \n",
    "        # .get() gives value OR None\n",
    "        if dictionary.get(difference) is not None:\n",
    "            return [dictionary.get(difference),i]\n",
    "        \n",
    "        else:\n",
    "            # storing unregistered value into dictionary\n",
    "            dictionary[nums[i]] = i"
   ]
  },
  {
   "cell_type": "code",
   "execution_count": 19,
   "id": "89f325ba",
   "metadata": {},
   "outputs": [
    {
     "data": {
      "text/plain": [
       "[0, 3]"
      ]
     },
     "execution_count": 19,
     "metadata": {},
     "output_type": "execute_result"
    }
   ],
   "source": [
    "nums = [2,11,15,7]\n",
    "target = 9\n",
    "twoSum(nums,target)"
   ]
  },
  {
   "cell_type": "markdown",
   "id": "eebb476d",
   "metadata": {},
   "source": [
    "---"
   ]
  }
 ],
 "metadata": {
  "kernelspec": {
   "display_name": "Python 3",
   "language": "python",
   "name": "python3"
  },
  "language_info": {
   "codemirror_mode": {
    "name": "ipython",
    "version": 3
   },
   "file_extension": ".py",
   "mimetype": "text/x-python",
   "name": "python",
   "nbconvert_exporter": "python",
   "pygments_lexer": "ipython3",
   "version": "3.8.8"
  },
  "toc": {
   "base_numbering": 1,
   "nav_menu": {},
   "number_sections": true,
   "sideBar": true,
   "skip_h1_title": false,
   "title_cell": "Table of Contents",
   "title_sidebar": "Contents",
   "toc_cell": true,
   "toc_position": {},
   "toc_section_display": true,
   "toc_window_display": false
  }
 },
 "nbformat": 4,
 "nbformat_minor": 5
}
