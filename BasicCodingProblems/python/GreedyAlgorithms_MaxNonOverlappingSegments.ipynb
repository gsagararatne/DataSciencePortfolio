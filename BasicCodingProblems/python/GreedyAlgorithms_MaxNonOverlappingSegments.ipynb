{
 "cells": [
  {
   "cell_type": "markdown",
   "id": "c1713f04",
   "metadata": {
    "toc": true
   },
   "source": [
    "<h1>Table of Contents<span class=\"tocSkip\"></span></h1>\n",
    "<div class=\"toc\"><ul class=\"toc-item\"></ul></div>"
   ]
  },
  {
   "cell_type": "markdown",
   "id": "7455e7fe",
   "metadata": {},
   "source": [
    "Array A contains starting points of rope segments.\n",
    "\n",
    "Array B contains end points of rope segments.\n",
    "\n",
    "Index of number corresponds to the rope segment number.\n",
    "\n",
    "Find the size of a non-overlapping set containing the maximal number of segments."
   ]
  },
  {
   "cell_type": "code",
   "execution_count": 1,
   "id": "379aab6a",
   "metadata": {},
   "outputs": [],
   "source": [
    "def solution(A,B):\n",
    "    \n",
    "    #initialising counter and position\n",
    "    currentPosition=-1\n",
    "    segmentCounter = 0\n",
    "    \n",
    "    #loop through A\n",
    "    for i in range(len(A)):\n",
    "        \n",
    "        # if current position is behind, \n",
    "        # count and move current position forward\n",
    "        if currentPosition < A[i]:\n",
    "            segmentCounter += 1\n",
    "            currentPosition = B[i]\n",
    "            \n",
    "    # once loop is done, spew out count\n",
    "    return segmentCounter"
   ]
  },
  {
   "cell_type": "code",
   "execution_count": 2,
   "id": "345f2fd1",
   "metadata": {},
   "outputs": [
    {
     "data": {
      "text/plain": [
       "3"
      ]
     },
     "execution_count": 2,
     "metadata": {},
     "output_type": "execute_result"
    }
   ],
   "source": [
    "A = [1,3,7,9,9]\n",
    "B = [5,6,8,9,10]\n",
    "\n",
    "solution(A,B)"
   ]
  }
 ],
 "metadata": {
  "kernelspec": {
   "display_name": "Python 3",
   "language": "python",
   "name": "python3"
  },
  "language_info": {
   "codemirror_mode": {
    "name": "ipython",
    "version": 3
   },
   "file_extension": ".py",
   "mimetype": "text/x-python",
   "name": "python",
   "nbconvert_exporter": "python",
   "pygments_lexer": "ipython3",
   "version": "3.8.8"
  },
  "toc": {
   "base_numbering": 1,
   "nav_menu": {},
   "number_sections": true,
   "sideBar": true,
   "skip_h1_title": false,
   "title_cell": "Table of Contents",
   "title_sidebar": "Contents",
   "toc_cell": true,
   "toc_position": {},
   "toc_section_display": true,
   "toc_window_display": false
  }
 },
 "nbformat": 4,
 "nbformat_minor": 5
}
