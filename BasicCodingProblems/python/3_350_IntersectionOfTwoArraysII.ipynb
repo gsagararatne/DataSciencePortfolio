{
 "cells": [
  {
   "cell_type": "markdown",
   "id": "170b9415",
   "metadata": {
    "toc": true
   },
   "source": [
    "<h1>Table of Contents<span class=\"tocSkip\"></span></h1>\n",
    "<div class=\"toc\"><ul class=\"toc-item\"><li><span><a href=\"#Intersection-of-Two-Arrays-II\" data-toc-modified-id=\"Intersection-of-Two-Arrays-II-1\"><span class=\"toc-item-num\">1&nbsp;&nbsp;</span>Intersection of Two Arrays II</a></span><ul class=\"toc-item\"><li><span><a href=\"#Requiring-counter---hashtable\" data-toc-modified-id=\"Requiring-counter---hashtable-1.1\"><span class=\"toc-item-num\">1.1&nbsp;&nbsp;</span>Requiring counter - hashtable</a></span></li><li><span><a href=\"#dict---hashtable\" data-toc-modified-id=\"dict---hashtable-1.2\"><span class=\"toc-item-num\">1.2&nbsp;&nbsp;</span>dict - hashtable</a></span></li></ul></li></ul></div>"
   ]
  },
  {
   "cell_type": "markdown",
   "id": "58d967ba",
   "metadata": {},
   "source": [
    "## Intersection of Two Arrays II"
   ]
  },
  {
   "cell_type": "markdown",
   "id": "b7ef61bd",
   "metadata": {},
   "source": [
    "### Requiring counter - hashtable"
   ]
  },
  {
   "cell_type": "code",
   "execution_count": 4,
   "id": "0118273c",
   "metadata": {},
   "outputs": [],
   "source": [
    "def intersect(nums1, nums2):\n",
    "    # initialise output\n",
    "    output = []\n",
    "    \n",
    "    # count elements in nums1\n",
    "    c_nums1 = Counter(nums1)\n",
    "    \n",
    "    # check if number in nums2 is in nums1\n",
    "    for number in nums2:\n",
    "        if c_nums1[number]>0:\n",
    "            output.append(number)\n",
    "            c_nums1[number] -= 1\n",
    "    return output"
   ]
  },
  {
   "cell_type": "code",
   "execution_count": 8,
   "id": "3243af9a",
   "metadata": {},
   "outputs": [],
   "source": [
    "nums1 = [1,2,2,3,4,5]\n",
    "nums2 = [2,2,5]\n",
    "intersect(nums1,nums2)"
   ]
  },
  {
   "cell_type": "markdown",
   "id": "42fab0ba",
   "metadata": {},
   "source": [
    "### dict - hashtable"
   ]
  },
  {
   "cell_type": "code",
   "execution_count": 9,
   "id": "d621f9e3",
   "metadata": {},
   "outputs": [],
   "source": [
    "def intersect(nums1, nums2):\n",
    "    # initialise intersection list\n",
    "    intersection = []\n",
    "    \n",
    "    # initialise dict\n",
    "    nums1_dict = {}\n",
    "    \n",
    "    # count elements into dict\n",
    "    for number in nums1:\n",
    "        \n",
    "        # increase count if number already present\n",
    "        if number in nums1_dict:\n",
    "            nums1_dict[number] += 1\n",
    "        \n",
    "        else:\n",
    "            # count = 1 if first time\n",
    "            nums1_dict[number] = 1\n",
    "            \n",
    "    # iterate through nums2 and check if number is present\n",
    "    for number in nums2:\n",
    "        if number in nums1_dict and nums1_dict[number]>0:\n",
    "            intersection.append(number)\n",
    "            nums1_dict[number] -= 1\n",
    "            \n",
    "    return intersection"
   ]
  },
  {
   "cell_type": "code",
   "execution_count": 10,
   "id": "7473f055",
   "metadata": {},
   "outputs": [
    {
     "data": {
      "text/plain": [
       "[2, 2, 5]"
      ]
     },
     "execution_count": 10,
     "metadata": {},
     "output_type": "execute_result"
    }
   ],
   "source": [
    "nums1 = [1,2,2,3,4,5]\n",
    "nums2 = [2,2,5]\n",
    "intersect(nums1,nums2)"
   ]
  }
 ],
 "metadata": {
  "kernelspec": {
   "display_name": "Python 3",
   "language": "python",
   "name": "python3"
  },
  "language_info": {
   "codemirror_mode": {
    "name": "ipython",
    "version": 3
   },
   "file_extension": ".py",
   "mimetype": "text/x-python",
   "name": "python",
   "nbconvert_exporter": "python",
   "pygments_lexer": "ipython3",
   "version": "3.8.8"
  },
  "toc": {
   "base_numbering": 1,
   "nav_menu": {},
   "number_sections": true,
   "sideBar": true,
   "skip_h1_title": false,
   "title_cell": "Table of Contents",
   "title_sidebar": "Contents",
   "toc_cell": true,
   "toc_position": {},
   "toc_section_display": true,
   "toc_window_display": false
  }
 },
 "nbformat": 4,
 "nbformat_minor": 5
}
