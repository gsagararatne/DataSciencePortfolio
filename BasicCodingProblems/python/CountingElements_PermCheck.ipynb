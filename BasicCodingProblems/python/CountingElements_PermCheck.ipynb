{
 "cells": [
  {
   "cell_type": "markdown",
   "id": "45c599de",
   "metadata": {
    "toc": true
   },
   "source": [
    "<h1>Table of Contents<span class=\"tocSkip\"></span></h1>\n",
    "<div class=\"toc\"><ul class=\"toc-item\"></ul></div>"
   ]
  },
  {
   "cell_type": "markdown",
   "id": "4f06207d",
   "metadata": {},
   "source": [
    "Numbers are present in an array. Identify if there's a number missing from the counting order. If so, return 0, else 1."
   ]
  },
  {
   "cell_type": "code",
   "execution_count": 5,
   "id": "dbdfb644",
   "metadata": {},
   "outputs": [],
   "source": [
    "def solution(A):\n",
    "    #if empty array\n",
    "    if len(A)==0:\n",
    "        return 0\n",
    "    \n",
    "    #order asc\n",
    "    A.sort()\n",
    "    \n",
    "    #loop through array once\n",
    "    for i in range(0,len(A)):\n",
    "        \n",
    "        #taking advantage of index and value\n",
    "        # value = index + 1\n",
    "        if A[i] != (i+1):\n",
    "            return 0\n",
    "    return 1\n",
    "            "
   ]
  },
  {
   "cell_type": "code",
   "execution_count": 6,
   "id": "4463f2e9",
   "metadata": {},
   "outputs": [
    {
     "data": {
      "text/plain": [
       "1"
      ]
     },
     "execution_count": 6,
     "metadata": {},
     "output_type": "execute_result"
    }
   ],
   "source": [
    "A = [4,1,3,2]\n",
    "solution(A)"
   ]
  }
 ],
 "metadata": {
  "kernelspec": {
   "display_name": "Python 3",
   "language": "python",
   "name": "python3"
  },
  "language_info": {
   "codemirror_mode": {
    "name": "ipython",
    "version": 3
   },
   "file_extension": ".py",
   "mimetype": "text/x-python",
   "name": "python",
   "nbconvert_exporter": "python",
   "pygments_lexer": "ipython3",
   "version": "3.8.8"
  },
  "toc": {
   "base_numbering": 1,
   "nav_menu": {},
   "number_sections": true,
   "sideBar": true,
   "skip_h1_title": false,
   "title_cell": "Table of Contents",
   "title_sidebar": "Contents",
   "toc_cell": true,
   "toc_position": {},
   "toc_section_display": true,
   "toc_window_display": false
  }
 },
 "nbformat": 4,
 "nbformat_minor": 5
}
