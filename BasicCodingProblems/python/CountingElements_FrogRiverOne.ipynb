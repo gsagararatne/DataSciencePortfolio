{
 "cells": [
  {
   "cell_type": "markdown",
   "id": "cbeecc50",
   "metadata": {
    "toc": true
   },
   "source": [
    "<h1>Table of Contents<span class=\"tocSkip\"></span></h1>\n",
    "<div class=\"toc\"><ul class=\"toc-item\"></ul></div>"
   ]
  },
  {
   "cell_type": "markdown",
   "id": "f64078c0",
   "metadata": {},
   "source": [
    "Array A contains numbers. index of those numbers are are time, while number itself are positions of the leaf falling.\n",
    "X contains the number of positions (leading to) that need to be filled."
   ]
  },
  {
   "cell_type": "code",
   "execution_count": 2,
   "id": "15b48403",
   "metadata": {},
   "outputs": [],
   "source": [
    "def solution(X,A):\n",
    "    \n",
    "    # empty array that gets filled\n",
    "    # length = distance b/w frog and other side of river\n",
    "    B=[0]*X\n",
    "    \n",
    "    # Leaf sum\n",
    "    LeafSum = 0\n",
    "    \n",
    "    # loop through falling leaves\n",
    "    for i in range(0,len(A)):\n",
    "        \n",
    "        # fill B up if index is empty and is less than X\n",
    "        # reducing value of A by 1 and converting into index of B\n",
    "        # 0: no leaf, 1:leaf present\n",
    "        if (B[A[i]-1]==0 and A[i]<=X):\n",
    "            # Count up LeafSum\n",
    "            LeafSum+=1\n",
    "            #B array position gets filled\n",
    "            B[A[i]-1]=1\n",
    "            \n",
    "            #leaf sum == X / positions of B filled\n",
    "            if(LeafSum == X):\n",
    "                return i\n",
    "            \n",
    "    #not filled\n",
    "    return -1"
   ]
  },
  {
   "cell_type": "code",
   "execution_count": 3,
   "id": "15124a14",
   "metadata": {},
   "outputs": [
    {
     "data": {
      "text/plain": [
       "6"
      ]
     },
     "execution_count": 3,
     "metadata": {},
     "output_type": "execute_result"
    }
   ],
   "source": [
    "X = 5\n",
    "A = [1,3,1,4,2,3,5,4]\n",
    "solution(X,A)"
   ]
  }
 ],
 "metadata": {
  "kernelspec": {
   "display_name": "Python 3",
   "language": "python",
   "name": "python3"
  },
  "language_info": {
   "codemirror_mode": {
    "name": "ipython",
    "version": 3
   },
   "file_extension": ".py",
   "mimetype": "text/x-python",
   "name": "python",
   "nbconvert_exporter": "python",
   "pygments_lexer": "ipython3",
   "version": "3.8.8"
  },
  "toc": {
   "base_numbering": 1,
   "nav_menu": {},
   "number_sections": true,
   "sideBar": true,
   "skip_h1_title": false,
   "title_cell": "Table of Contents",
   "title_sidebar": "Contents",
   "toc_cell": true,
   "toc_position": {},
   "toc_section_display": true,
   "toc_window_display": false
  }
 },
 "nbformat": 4,
 "nbformat_minor": 5
}
