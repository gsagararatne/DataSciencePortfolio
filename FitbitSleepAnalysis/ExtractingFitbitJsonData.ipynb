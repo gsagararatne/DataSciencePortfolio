{
 "cells": [
  {
   "cell_type": "markdown",
   "id": "12226894",
   "metadata": {
    "toc": true
   },
   "source": [
    "<h1>Table of Contents<span class=\"tocSkip\"></span></h1>\n",
    "<div class=\"toc\"><ul class=\"toc-item\"><li><span><a href=\"#Importing-libraries\" data-toc-modified-id=\"Importing-libraries-1\"><span class=\"toc-item-num\">1&nbsp;&nbsp;</span>Importing libraries</a></span></li><li><span><a href=\"#Heart-rate-daily\" data-toc-modified-id=\"Heart-rate-daily-2\"><span class=\"toc-item-num\">2&nbsp;&nbsp;</span>Heart rate daily</a></span></li><li><span><a href=\"#Heart-rate-per-second\" data-toc-modified-id=\"Heart-rate-per-second-3\"><span class=\"toc-item-num\">3&nbsp;&nbsp;</span>Heart rate per second</a></span></li><li><span><a href=\"#Sleep\" data-toc-modified-id=\"Sleep-4\"><span class=\"toc-item-num\">4&nbsp;&nbsp;</span>Sleep</a></span></li><li><span><a href=\"#Steps\" data-toc-modified-id=\"Steps-5\"><span class=\"toc-item-num\">5&nbsp;&nbsp;</span>Steps</a></span></li><li><span><a href=\"#Daily-activity\" data-toc-modified-id=\"Daily-activity-6\"><span class=\"toc-item-num\">6&nbsp;&nbsp;</span>Daily activity</a></span></li><li><span><a href=\"#Activity\" data-toc-modified-id=\"Activity-7\"><span class=\"toc-item-num\">7&nbsp;&nbsp;</span>Activity</a></span></li></ul></div>"
   ]
  },
  {
   "cell_type": "markdown",
   "id": "345540c3",
   "metadata": {},
   "source": [
    "### Importing libraries"
   ]
  },
  {
   "cell_type": "code",
   "execution_count": null,
   "id": "c30d0eea",
   "metadata": {},
   "outputs": [],
   "source": [
    "import requests\n",
    "import simplejson as json\n",
    "import pandas as pd\n",
    "from time import sleep"
   ]
  },
  {
   "cell_type": "markdown",
   "id": "b2d5278d",
   "metadata": {},
   "source": [
    "### Heart rate daily "
   ]
  },
  {
   "cell_type": "code",
   "execution_count": null,
   "id": "c7ea415f",
   "metadata": {},
   "outputs": [],
   "source": [
    "# put the token for your app in between the single quotes\n",
    "token = \"ENTER TOKEN HERE\"\n",
    " \n",
    "# make a list of dates \n",
    "# ref: http://stackoverflow.com/questions/993358/creating-a-range-of-dates-in-python\n",
    "# You can change the start and end date as you want\n",
    "# Just make sure to use the yyyy-mm-dd format\n",
    "start_date = '2021-02-25'\n",
    "end_date = '2021-11-12'\n",
    "\n",
    "datelist = pd.date_range(start = pd.to_datetime(start_date),\n",
    "                         end = pd.to_datetime(end_date)).tolist()\n",
    " \n",
    "for ts in datelist:\n",
    "    date = ts.strftime('%Y-%m-%d')\n",
    "    url = 'https://api.fitbit.com/1/user/-/activities/heart/date/' + date + '/1d.json'\n",
    "    filename = 'daily_HR'+ date +'.json'\n",
    "    response = requests.get(url=url, headers={'Authorization':'Bearer ' + token})\n",
    " \n",
    "    if response.ok:\n",
    "        with open(filename, 'w') as f:\n",
    "            json.dump(response.content, f)\n",
    "        print (date + ' is saved!')\n",
    "        sleep(30)\n",
    "    else:\n",
    "        print ('The file of %s is not saved due to error!' % date)\n",
    "        sleep(30)"
   ]
  },
  {
   "cell_type": "markdown",
   "id": "8af8cad3",
   "metadata": {},
   "source": [
    "### Heart rate per second"
   ]
  },
  {
   "cell_type": "code",
   "execution_count": null,
   "id": "a64dd757",
   "metadata": {},
   "outputs": [],
   "source": [
    "# put the token for your app in between the single quotes\n",
    "token = \"ENTER TOKEN HERE\"\n",
    "\n",
    "# make a list of dates \n",
    "# ref: http://stackoverflow.com/questions/993358/creating-a-range-of-dates-in-python\n",
    "# You can change the start and end date as you want\n",
    "# Just make sure to use the yyyy-mm-dd format\n",
    "start_date = '2021-02-25'\n",
    "end_date = '2021-11-12'\n",
    "datelist = pd.date_range(start = pd.to_datetime(start_date),\n",
    "                         end = pd.to_datetime(end_date)).tolist()\n",
    " \n",
    "for ts in datelist:\n",
    "    date = ts.strftime('%Y-%m-%d')\n",
    "    url = 'https://api.fitbit.com/1/user/-/activities/heart/date/' + date + '/1d/1sec/time/00:00/23:59.json'\n",
    "    filename = 'HR'+ date +'.json'\n",
    "    response = requests.get(url=url, headers={'Authorization':'Bearer ' + token})\n",
    " \n",
    "    if response.ok:\n",
    "        with open(filename, 'w') as f:\n",
    "            json.dump(response.content, f)\n",
    "        print (date + ' is saved!')\n",
    "        sleep(30)\n",
    "    else:\n",
    "        print ('The file of %s is not saved due to error!' % date)\n",
    "        sleep(30)"
   ]
  },
  {
   "cell_type": "markdown",
   "id": "e7e672e1",
   "metadata": {},
   "source": [
    "### Sleep "
   ]
  },
  {
   "cell_type": "code",
   "execution_count": null,
   "id": "bd20bdd4",
   "metadata": {},
   "outputs": [],
   "source": [
    "# Get sleep data.\n",
    "\n",
    "# put the token for your app in between the single quotes\n",
    "token = \"ENTER TOKEN HERE\"\n",
    "\n",
    "# make a list of dates \n",
    "# ref: http://stackoverflow.com/questions/993358/creating-a-range-of-dates-in-python\n",
    "# You can change the start and end date as you want\n",
    "# Just make sure to use the yyyy-mm-dd format\n",
    "start_date = '2021-02-25'\n",
    "end_date = '2021-11-12'\n",
    "datelist = pd.date_range(start = pd.to_datetime(start_date),\n",
    "                         end = pd.to_datetime(end_date)).tolist()\n",
    "\n",
    "for ts in datelist:\n",
    "    date = ts.strftime('%Y-%m-%d')\n",
    "    url = 'https://api.fitbit.com/1.2/user/-/sleep/date/' + date + '.json'\n",
    "    filename = 'sleep'+ date +'.json'\n",
    "    response = requests.get(url=url, headers={'Authorization':'Bearer ' + token})\n",
    " \n",
    "    if response.ok:\n",
    "        with open(filename, 'w') as f:\n",
    "            json.dump(response.content, f)\n",
    "        print (date + ' is saved!')\n",
    "        sleep(30)\n",
    "    else:\n",
    "        print ('The file of %s is not saved due to error!' % date)\n",
    "        sleep(30)"
   ]
  },
  {
   "cell_type": "markdown",
   "id": "d5016aec",
   "metadata": {},
   "source": [
    "### Steps"
   ]
  },
  {
   "cell_type": "code",
   "execution_count": null,
   "id": "59be5b14",
   "metadata": {},
   "outputs": [],
   "source": [
    "# Get step data. \n",
    "\n",
    "# put the token for your app in between the single quotes\n",
    "token = \"ENTER TOKEN HERE\"\n",
    "\n",
    "# make a list of dates \n",
    "# ref: http://stackoverflow.com/questions/993358/creating-a-range-of-dates-in-python\n",
    "# You can change the start and end date as you want\n",
    "# Just make sure to use the yyyy-mm-dd format\n",
    "start_date = '2021-02-25'\n",
    "end_date = '2021-11-12'\n",
    "datelist = pd.date_range(start = pd.to_datetime(start_date),\n",
    "                         end = pd.to_datetime(end_date)).tolist()\n",
    " \n",
    "'''\n",
    "The codes below use a for loop to generate one URL for each day in the datelist,\n",
    "and then request each day's data and save the data into individual json files.\n",
    "Because Fitbit limit 150 request per hour, I let the code sleep for 30 seconds \n",
    "between each request, to meet this limitation.\n",
    "'''\n",
    "for ts in datelist:\n",
    "    date = ts.strftime('%Y-%m-%d')\n",
    "    url = 'https://api.fitbit.com/1/user/-/activities/steps/date/' + date + '/today/1d.json'\n",
    "    filename = 'step'+ date +'.json'\n",
    "    response = requests.get(url=url, headers={'Authorization':'Bearer ' + token})\n",
    " \n",
    "    if response.ok:\n",
    "        with open(filename, 'w') as f:\n",
    "            json.dump(response.content, f)\n",
    "        print (date + ' is saved!')\n",
    "        sleep(30)\n",
    "    else:\n",
    "        print ('The file of %s is not saved due to error!' % date)\n",
    "        sleep(30)"
   ]
  },
  {
   "cell_type": "markdown",
   "id": "672552d4",
   "metadata": {},
   "source": [
    "### Daily activity"
   ]
  },
  {
   "cell_type": "code",
   "execution_count": null,
   "id": "ebd7557a",
   "metadata": {},
   "outputs": [],
   "source": [
    "# Get frequent activity data. \n",
    "\n",
    "# put the token for your app in between the single quotes\n",
    "token = \"ENTER TOKEN HERE\"\n",
    "\n",
    "# make a list of dates \n",
    "# ref: http://stackoverflow.com/questions/993358/creating-a-range-of-dates-in-python\n",
    "# You can change the start and end date as you want\n",
    "# Just make sure to use the yyyy-mm-dd format\n",
    "start_date = '2021-02-25'\n",
    "end_date = '2021-11-12'\n",
    "datelist = pd.date_range(start = pd.to_datetime(start_date),\n",
    "                         end = pd.to_datetime(end_date)).tolist()\n",
    "\n",
    "for ts in datelist:\n",
    "    date = ts.strftime('%Y-%m-%d')\n",
    "    url = 'https://api.fitbit.com/1/user/-/activities/date/' + date + '.json'\n",
    "    filename = 'act'+ date +'.json'\n",
    "    response = requests.get(url=url, headers={'Authorization':'Bearer ' + token})\n",
    " \n",
    "    if response.ok:\n",
    "        with open(filename, 'w') as f:\n",
    "            json.dump(response.content, f)\n",
    "        print (date + ' is saved!')\n",
    "        sleep(30)\n",
    "    else:\n",
    "        print ('The file of %s is not saved due to error!' % date)\n",
    "        sleep(30)"
   ]
  },
  {
   "cell_type": "markdown",
   "id": "b2153814",
   "metadata": {},
   "source": [
    "### Activity"
   ]
  },
  {
   "cell_type": "code",
   "execution_count": null,
   "id": "d9327dcc",
   "metadata": {
    "scrolled": true
   },
   "outputs": [],
   "source": [
    "# Get activity data.\n",
    "\n",
    "# put the token for your app in between the single quotes\n",
    "token = \"ENTER TOKEN HERE\"\n",
    "\n",
    "# make a list of dates \n",
    "# ref: http://stackoverflow.com/questions/993358/creating-a-range-of-dates-in-python\n",
    "# You can change the start and end date as you want\n",
    "# Just make sure to use the yyyy-mm-dd format\n",
    "start_date = '2021-02-25'\n",
    "end_date = '2021-11-12'\n",
    "datelist = pd.date_range(start = pd.to_datetime(start_date),\n",
    "                         end = pd.to_datetime(end_date)).tolist()\n",
    "\n",
    "for ts in datelist:\n",
    "    date = ts.strftime('%Y-%m-%d')\n",
    "    url = 'https://api.fitbit.com/1/user/-/activities.json'\n",
    "    filename = 'best'+ date +'.json'\n",
    "    response = requests.get(url=url, headers={'Authorization':'Bearer ' + token})\n",
    " \n",
    "    if response.ok:\n",
    "        with open(filename, 'w') as f:\n",
    "            json.dump(response.content, f)\n",
    "        print (date + ' is saved!')\n",
    "        sleep(30)\n",
    "    else:\n",
    "        print ('The file of %s is not saved due to error!' % date)\n",
    "        sleep(30)"
   ]
  }
 ],
 "metadata": {
  "kernelspec": {
   "display_name": "Python 3",
   "language": "python",
   "name": "python3"
  },
  "language_info": {
   "codemirror_mode": {
    "name": "ipython",
    "version": 3
   },
   "file_extension": ".py",
   "mimetype": "text/x-python",
   "name": "python",
   "nbconvert_exporter": "python",
   "pygments_lexer": "ipython3",
   "version": "3.8.8"
  },
  "toc": {
   "base_numbering": 1,
   "nav_menu": {},
   "number_sections": true,
   "sideBar": true,
   "skip_h1_title": false,
   "title_cell": "Table of Contents",
   "title_sidebar": "Contents",
   "toc_cell": true,
   "toc_position": {},
   "toc_section_display": true,
   "toc_window_display": false
  }
 },
 "nbformat": 4,
 "nbformat_minor": 5
}
